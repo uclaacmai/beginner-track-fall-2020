{
  "nbformat": 4,
  "nbformat_minor": 0,
  "metadata": {
    "colab": {
      "name": "Guided Project - Linear Regression.ipynb",
      "provenance": []
    },
    "kernelspec": {
      "name": "python3",
      "display_name": "Python 3"
    }
  },
  "cells": [
    {
      "cell_type": "code",
      "metadata": {
        "id": "83Bp3vUQXZfn"
      },
      "source": [
        "# import modules\n",
        "import numpy as np\n",
        "import pandas as pd\n",
        "import matplotlib.pyplot as plt"
      ],
      "execution_count": null,
      "outputs": []
    },
    {
      "cell_type": "markdown",
      "metadata": {
        "id": "5YfLzLsrYLw3"
      },
      "source": [
        "## Function to be learned - a line\n",
        "### $$f(x) = \\pi x + 10 $$"
      ]
    },
    {
      "cell_type": "code",
      "metadata": {
        "id": "Rb31GbchX4Nb"
      },
      "source": [
        "# TO DO: implement f(x) - 1 line\n",
        "def f(x):\n",
        "  return np.pi*x + 10"
      ],
      "execution_count": null,
      "outputs": []
    },
    {
      "cell_type": "code",
      "metadata": {
        "id": "YcR1MULvY4re"
      },
      "source": [
        "# TO DO: generate 100 data points in range of [-5,5] - 1 line\n",
        "n = 100\n",
        "x = np.linspace(-5,5, num=n)"
      ],
      "execution_count": null,
      "outputs": []
    },
    {
      "cell_type": "code",
      "metadata": {
        "colab": {
          "base_uri": "https://localhost:8080/"
        },
        "id": "PmrCFNseZCM1",
        "outputId": "a2c573fa-f224-4da5-8a72-e5573949f0cf"
      },
      "source": [
        "x = x.reshape(1, n)\n",
        "x.shape"
      ],
      "execution_count": null,
      "outputs": [
        {
          "output_type": "execute_result",
          "data": {
            "text/plain": [
              "(1, 100)"
            ]
          },
          "metadata": {
            "tags": []
          },
          "execution_count": 4
        }
      ]
    },
    {
      "cell_type": "code",
      "metadata": {
        "colab": {
          "base_uri": "https://localhost:8080/"
        },
        "id": "q5D0-nuoZ0jW",
        "outputId": "38dac726-33d1-496c-8a0b-081da8c8396b"
      },
      "source": [
        "y = f(x)\n",
        "y.shape"
      ],
      "execution_count": null,
      "outputs": [
        {
          "output_type": "execute_result",
          "data": {
            "text/plain": [
              "(1, 100)"
            ]
          },
          "metadata": {
            "tags": []
          },
          "execution_count": 5
        }
      ]
    },
    {
      "cell_type": "markdown",
      "metadata": {
        "id": "kxDjCj_OaKJK"
      },
      "source": [
        "## Our hypothesis\n",
        "### $$\\hat{y}(x)=wx+b$$"
      ]
    },
    {
      "cell_type": "code",
      "metadata": {
        "id": "k71T-yoHZ5r5"
      },
      "source": [
        "# initialize weight and bias randomly - 2 lines\n",
        "w = np.random.rand(1)\n",
        "b = np.random.rand(1)"
      ],
      "execution_count": null,
      "outputs": []
    },
    {
      "cell_type": "code",
      "metadata": {
        "colab": {
          "base_uri": "https://localhost:8080/"
        },
        "id": "xIfw6QGanNef",
        "outputId": "f8dc7d3c-945b-4d1a-fe46-f8ed35c593b1"
      },
      "source": [
        "w.shape"
      ],
      "execution_count": null,
      "outputs": [
        {
          "output_type": "execute_result",
          "data": {
            "text/plain": [
              "(1,)"
            ]
          },
          "metadata": {
            "tags": []
          },
          "execution_count": 7
        }
      ]
    },
    {
      "cell_type": "code",
      "metadata": {
        "id": "OLl_ouRBaKpu"
      },
      "source": [
        "w = w.reshape(1,1)\n",
        "b = b.reshape(1,1)"
      ],
      "execution_count": null,
      "outputs": []
    },
    {
      "cell_type": "code",
      "metadata": {
        "colab": {
          "base_uri": "https://localhost:8080/"
        },
        "id": "s1R0p7NrnT_a",
        "outputId": "c8982069-2a09-42ab-ddbf-0e4e52f276a8"
      },
      "source": [
        "w.shape"
      ],
      "execution_count": null,
      "outputs": [
        {
          "output_type": "execute_result",
          "data": {
            "text/plain": [
              "(1, 1)"
            ]
          },
          "metadata": {
            "tags": []
          },
          "execution_count": 9
        }
      ]
    },
    {
      "cell_type": "code",
      "metadata": {
        "id": "ApB5Lm2HakA4"
      },
      "source": [
        "def y_hat(w, b, x):\n",
        "  return w*x + b"
      ],
      "execution_count": null,
      "outputs": []
    },
    {
      "cell_type": "code",
      "metadata": {
        "colab": {
          "base_uri": "https://localhost:8080/",
          "height": 265
        },
        "id": "yLdv915EbICk",
        "outputId": "9c2cf0c8-6d35-4bfc-b3cf-275147ac588f"
      },
      "source": [
        "plt.scatter(x, y)\n",
        "plt.scatter(x, y_hat(w, b, x))\n",
        "plt.show()"
      ],
      "execution_count": null,
      "outputs": [
        {
          "output_type": "display_data",
          "data": {
            "image/png": "[encoded data removed]",
            "text/plain": [
              "<Figure size 432x288 with 1 Axes>"
            ]
          },
          "metadata": {
            "tags": [],
            "needs_background": "light"
          }
        }
      ]
    },
    {
      "cell_type": "markdown",
      "metadata": {
        "id": "6yUzHCDpbn3o"
      },
      "source": [
        "## Loss function - Mean Squared Error\n",
        "### $$L(y, \\hat{y}) = \\frac{1}{n} \\sum_{i=1}^{n} \\big(y_i-\\hat{y_i}\\big)^2 $$"
      ]
    },
    {
      "cell_type": "code",
      "metadata": {
        "id": "qnWE9LEmbQuR"
      },
      "source": [
        "# TO DO: implement mse - 1 to 2 lines\n",
        "def mse(y, y_hat):\n",
        "  return np.average((y - y_hat)**2)"
      ],
      "execution_count": null,
      "outputs": []
    },
    {
      "cell_type": "markdown",
      "metadata": {
        "id": "Jm1UTOwEcaFs"
      },
      "source": [
        "## np.dot demo"
      ]
    },
    {
      "cell_type": "code",
      "metadata": {
        "id": "6ZFqFwjUbo2v"
      },
      "source": [
        "A = np.array([[1,2,3]])\n",
        "B = A"
      ],
      "execution_count": null,
      "outputs": []
    },
    {
      "cell_type": "code",
      "metadata": {
        "colab": {
          "base_uri": "https://localhost:8080/"
        },
        "id": "cpTIOA2fckJA",
        "outputId": "77de4014-32aa-41df-da06-8dff935cca18"
      },
      "source": [
        "A.shape"
      ],
      "execution_count": null,
      "outputs": [
        {
          "output_type": "execute_result",
          "data": {
            "text/plain": [
              "(1, 3)"
            ]
          },
          "metadata": {
            "tags": []
          },
          "execution_count": 14
        }
      ]
    },
    {
      "cell_type": "code",
      "metadata": {
        "colab": {
          "base_uri": "https://localhost:8080/"
        },
        "id": "rJ5qZMB9clMe",
        "outputId": "153148b9-f763-4428-9207-b81ea67400b9"
      },
      "source": [
        "np.dot(A, B.T)"
      ],
      "execution_count": null,
      "outputs": [
        {
          "output_type": "execute_result",
          "data": {
            "text/plain": [
              "array([[14]])"
            ]
          },
          "metadata": {
            "tags": []
          },
          "execution_count": 15
        }
      ]
    },
    {
      "cell_type": "code",
      "metadata": {
        "colab": {
          "base_uri": "https://localhost:8080/"
        },
        "id": "QqEKS2oFcxEP",
        "outputId": "a16cb6f6-e358-4bce-f1ab-49bc7088cbef"
      },
      "source": [
        "B.T.shape"
      ],
      "execution_count": null,
      "outputs": [
        {
          "output_type": "execute_result",
          "data": {
            "text/plain": [
              "(3, 1)"
            ]
          },
          "metadata": {
            "tags": []
          },
          "execution_count": 16
        }
      ]
    },
    {
      "cell_type": "code",
      "metadata": {
        "colab": {
          "base_uri": "https://localhost:8080/"
        },
        "id": "Qsp7eM6lc3Yk",
        "outputId": "9c5943ce-e59d-4220-94d1-f71f5cecb58b"
      },
      "source": [
        "np.dot(A.T, B)"
      ],
      "execution_count": null,
      "outputs": [
        {
          "output_type": "execute_result",
          "data": {
            "text/plain": [
              "array([[1, 2, 3],\n",
              "       [2, 4, 6],\n",
              "       [3, 6, 9]])"
            ]
          },
          "metadata": {
            "tags": []
          },
          "execution_count": 17
        }
      ]
    },
    {
      "cell_type": "code",
      "metadata": {
        "colab": {
          "base_uri": "https://localhost:8080/"
        },
        "id": "GzVCnUxxc9zS",
        "outputId": "5e4bee07-0f9e-4f9d-b21d-ff87ad3a178a"
      },
      "source": [
        "A*B"
      ],
      "execution_count": null,
      "outputs": [
        {
          "output_type": "execute_result",
          "data": {
            "text/plain": [
              "array([[1, 4, 9]])"
            ]
          },
          "metadata": {
            "tags": []
          },
          "execution_count": 18
        }
      ]
    },
    {
      "cell_type": "markdown",
      "metadata": {
        "id": "FN82bHPFdheq"
      },
      "source": [
        "## Gradients with respect to w, b\n",
        "### $$ \\frac{\\partial L}{\\partial w} = \\frac{2}{n}\\sum_{i=1}^{n}\\big(\\hat{y_i}-y_i\\big)x_i$$\n",
        "### $$ \\frac{\\partial L}{\\partial b} = \\frac{2}{n}\\sum_{i=1}^{n}\\big(\\hat{y_i}-y_i\\big)$$\n"
      ]
    },
    {
      "cell_type": "code",
      "metadata": {
        "id": "xPuTAMGkdUHF"
      },
      "source": [
        "def gradients(x, y, y_hat):\n",
        "  n = y.shape[1]\n",
        "  grads = {}\n",
        "\n",
        "  # TO DO: add the gradients with respect to w,b to grads - 2 lines\n",
        "  grads['dw'] = (2/n)*np.dot((y_hat-y), x.T)\n",
        "  grads['db'] = 2*np.average(y_hat-y)\n",
        "\n",
        "  return grads"
      ],
      "execution_count": null,
      "outputs": []
    },
    {
      "cell_type": "markdown",
      "metadata": {
        "id": "2qHa7WgdfPWi"
      },
      "source": [
        "## Training our model - update w, b accordingly\n",
        "### $$w = w - \\alpha \\frac{\\partial L}{\\partial w}$$\n",
        "### $$b = b - \\alpha \\frac{\\partial L}{\\partial b}$$\n"
      ]
    },
    {
      "cell_type": "code",
      "metadata": {
        "id": "wxXCGgZEfbcZ"
      },
      "source": [
        "def gradient_descent(x, y, learning_rate, w, b):\n",
        "  # initialize params\n",
        "  alpha = learning_rate\n",
        "  losses = []\n",
        "\n",
        "  # train model\n",
        "  for i in range(100):\n",
        "    # TO DO: get the predictions w, b, x using a function that we defined - 1 line\n",
        "    predictions = y_hat(w, b, x)\n",
        "\n",
        "    # TO DO: get the gradients using x, y, predictions using a function that we defined - 1 line\n",
        "    grads = gradients(x, y, predictions)\n",
        "    db = grads['db']\n",
        "    dw = grads['dw']\n",
        "\n",
        "    # TO DO: update w, b - 2 lines\n",
        "    b -= alpha*db\n",
        "    w -= alpha*dw\n",
        "\n",
        "    # compute loss \n",
        "    loss = mse(y, predictions)\n",
        "    losses.append(loss)\n",
        "\n",
        "  return w, b, losses"
      ],
      "execution_count": null,
      "outputs": []
    },
    {
      "cell_type": "code",
      "metadata": {
        "id": "Y_B9a805hTzy"
      },
      "source": [
        "# TO DO: run linear regression gradient_descent function; set learning_rate = 0.03 - 1 line\n",
        "w, b, losses = gradient_descent(x, y, 0.03, w, b)"
      ],
      "execution_count": null,
      "outputs": []
    },
    {
      "cell_type": "code",
      "metadata": {
        "colab": {
          "base_uri": "https://localhost:8080/"
        },
        "id": "JBHHoIG-jWgc",
        "outputId": "8bbe2271-a86d-4427-ea39-00e6e9aa008b"
      },
      "source": [
        "w"
      ],
      "execution_count": null,
      "outputs": [
        {
          "output_type": "execute_result",
          "data": {
            "text/plain": [
              "array([[3.14159265]])"
            ]
          },
          "metadata": {
            "tags": []
          },
          "execution_count": 22
        }
      ]
    },
    {
      "cell_type": "code",
      "metadata": {
        "colab": {
          "base_uri": "https://localhost:8080/"
        },
        "id": "wuy-LLONju5F",
        "outputId": "091f65d9-2066-4b64-e6fb-22a00d8fdefb"
      },
      "source": [
        "b"
      ],
      "execution_count": null,
      "outputs": [
        {
          "output_type": "execute_result",
          "data": {
            "text/plain": [
              "array([[9.98004668]])"
            ]
          },
          "metadata": {
            "tags": []
          },
          "execution_count": 23
        }
      ]
    },
    {
      "cell_type": "code",
      "metadata": {
        "colab": {
          "base_uri": "https://localhost:8080/",
          "height": 265
        },
        "id": "XPVVcCEWjvhr",
        "outputId": "3da2f728-c94c-4ecf-8ee3-2fbd80d1bc03"
      },
      "source": [
        "plt.scatter(x, y, alpha=0.5)\n",
        "plt.scatter(x, y_hat(w, b, x), alpha=0.5)\n",
        "plt.show()"
      ],
      "execution_count": null,
      "outputs": [
        {
          "output_type": "display_data",
          "data": {
            "image/png": "[encoded data removed]",
            "text/plain": [
              "<Figure size 432x288 with 1 Axes>"
            ]
          },
          "metadata": {
            "tags": [],
            "needs_background": "light"
          }
        }
      ]
    },
    {
      "cell_type": "code",
      "metadata": {
        "colab": {
          "base_uri": "https://localhost:8080/",
          "height": 282
        },
        "id": "7duktR0bj-AM",
        "outputId": "4252220f-d0a1-4428-dd00-3df88beb107a"
      },
      "source": [
        "plt.plot(range(1, len(losses)+1), losses)"
      ],
      "execution_count": null,
      "outputs": [
        {
          "output_type": "execute_result",
          "data": {
            "text/plain": [
              "[<matplotlib.lines.Line2D at 0x7f37117f56a0>]"
            ]
          },
          "metadata": {
            "tags": []
          },
          "execution_count": 25
        },
        {
          "output_type": "display_data",
          "data": {
            "image/png": "[encoded data removed]",
            "text/plain": [
              "<Figure size 432x288 with 1 Axes>"
            ]
          },
          "metadata": {
            "tags": [],
            "needs_background": "light"
          }
        }
      ]
    },
    {
      "cell_type": "markdown",
      "metadata": {
        "id": "VNxVa22xkTh5"
      },
      "source": [
        "## The effect of different learning rates"
      ]
    },
    {
      "cell_type": "code",
      "metadata": {
        "id": "A0ypu9o9lr1O"
      },
      "source": [
        "w_small_alpha = 0\n",
        "b_small_alpha = 0\n",
        "w_large_alpha = 0\n",
        "b_large_alpha = 0"
      ],
      "execution_count": null,
      "outputs": []
    },
    {
      "cell_type": "code",
      "metadata": {
        "id": "Q0eDsoU8k-2b"
      },
      "source": [
        "w_small_alpha, b_small_alpha, losses_small_alpha = gradient_descent(x, y, 0.01, w_small_alpha, b_small_alpha)\n",
        "w_large_alpha, b_large_alpha, losses_large_alpha = gradient_descent(x, y, 0.1, w_large_alpha, b_large_alpha)"
      ],
      "execution_count": null,
      "outputs": []
    },
    {
      "cell_type": "code",
      "metadata": {
        "colab": {
          "base_uri": "https://localhost:8080/",
          "height": 282
        },
        "id": "fKzLPG7zl9kh",
        "outputId": "1734dfb6-a921-4cbf-998f-d2f5432c375e"
      },
      "source": [
        "plt.plot(range(1, len(losses)+1), losses_small_alpha, label='small learning rate')\n",
        "plt.plot(range(1, len(losses)+1), losses, label='medium learning rate', color='r')\n",
        "plt.plot(range(1, len(losses)+1), losses_large_alpha, label='large learning rate', color='g')\n",
        "plt.legend()"
      ],
      "execution_count": null,
      "outputs": [
        {
          "output_type": "execute_result",
          "data": {
            "text/plain": [
              "<matplotlib.legend.Legend at 0x7f371176c240>"
            ]
          },
          "metadata": {
            "tags": []
          },
          "execution_count": 28
        },
        {
          "output_type": "display_data",
          "data": {
            "image/png": "[encoded data removed]",
            "text/plain": [
              "<Figure size 432x288 with 1 Axes>"
            ]
          },
          "metadata": {
            "tags": [],
            "needs_background": "light"
          }
        }
      ]
    },
    {
      "cell_type": "markdown",
      "metadata": {
        "id": "bUlrokb66MCt"
      },
      "source": [
        "# Note: A large learning rate could cause the loss to diverge to infinity."
      ]
    },
    {
      "cell_type": "code",
      "metadata": {
        "id": "SmpuUGfei-Us"
      },
      "source": [
        "w_large_alpha = 0\n",
        "b_large_alpha = 0"
      ],
      "execution_count": null,
      "outputs": []
    },
    {
      "cell_type": "code",
      "metadata": {
        "id": "5Z985Vz9maMn"
      },
      "source": [
        "w_large_alpha, b_large_alpha, losses_large_alpha = gradient_descent(x, y, 0.5, w_large_alpha, b_large_alpha)"
      ],
      "execution_count": null,
      "outputs": []
    },
    {
      "cell_type": "code",
      "metadata": {
        "colab": {
          "base_uri": "https://localhost:8080/",
          "height": 293
        },
        "id": "HO6cvN3sm1HK",
        "outputId": "5f240b7c-8a6b-4d16-deec-a72e53f60b71"
      },
      "source": [
        "plt.plot(range(1, len(losses)+1), losses_large_alpha, label='large learning rate')\n",
        "plt.legend()"
      ],
      "execution_count": null,
      "outputs": [
        {
          "output_type": "execute_result",
          "data": {
            "text/plain": [
              "<matplotlib.legend.Legend at 0x7f37117f5ac8>"
            ]
          },
          "metadata": {
            "tags": []
          },
          "execution_count": 31
        },
        {
          "output_type": "display_data",
          "data": {
            "image/png": "[encoded data removed]",
            "text/plain": [
              "<Figure size 432x288 with 1 Axes>"
            ]
          },
          "metadata": {
            "tags": [],
            "needs_background": "light"
          }
        }
      ]
    },
    {
      "cell_type": "markdown",
      "metadata": {
        "id": "H1v0qbESr4eZ"
      },
      "source": [
        "# SAT vs GPA"
      ]
    },
    {
      "cell_type": "code",
      "metadata": {
        "id": "tyGPXrYIm3Xn",
        "colab": {
          "base_uri": "https://localhost:8080/",
          "height": 419
        },
        "outputId": "3f906f85-8b4a-4a69-877b-5696cb15a693"
      },
      "source": [
        "url = \"https://raw.githubusercontent.com/uclaacmai/beginner-track-fall-2020/main/Workshop_8/sat_vs_gpa.csv\"\n",
        "data = pd.read_csv(url)\n",
        "data"
      ],
      "execution_count": null,
      "outputs": [
        {
          "output_type": "execute_result",
          "data": {
            "text/html": [
              "<div>\n",
              "<style scoped>\n",
              "    .dataframe tbody tr th:only-of-type {\n",
              "        vertical-align: middle;\n",
              "    }\n",
              "\n",
              "    .dataframe tbody tr th {\n",
              "        vertical-align: top;\n",
              "    }\n",
              "\n",
              "    .dataframe thead th {\n",
              "        text-align: right;\n",
              "    }\n",
              "</style>\n",
              "<table border=\"1\" class=\"dataframe\">\n",
              "  <thead>\n",
              "    <tr style=\"text-align: right;\">\n",
              "      <th></th>\n",
              "      <th>SAT</th>\n",
              "      <th>GPA</th>\n",
              "    </tr>\n",
              "  </thead>\n",
              "  <tbody>\n",
              "    <tr>\n",
              "      <th>0</th>\n",
              "      <td>1714</td>\n",
              "      <td>2.40</td>\n",
              "    </tr>\n",
              "    <tr>\n",
              "      <th>1</th>\n",
              "      <td>1664</td>\n",
              "      <td>2.52</td>\n",
              "    </tr>\n",
              "    <tr>\n",
              "      <th>2</th>\n",
              "      <td>1760</td>\n",
              "      <td>2.54</td>\n",
              "    </tr>\n",
              "    <tr>\n",
              "      <th>3</th>\n",
              "      <td>1685</td>\n",
              "      <td>2.74</td>\n",
              "    </tr>\n",
              "    <tr>\n",
              "      <th>4</th>\n",
              "      <td>1693</td>\n",
              "      <td>2.83</td>\n",
              "    </tr>\n",
              "    <tr>\n",
              "      <th>...</th>\n",
              "      <td>...</td>\n",
              "      <td>...</td>\n",
              "    </tr>\n",
              "    <tr>\n",
              "      <th>79</th>\n",
              "      <td>1936</td>\n",
              "      <td>3.71</td>\n",
              "    </tr>\n",
              "    <tr>\n",
              "      <th>80</th>\n",
              "      <td>1810</td>\n",
              "      <td>3.71</td>\n",
              "    </tr>\n",
              "    <tr>\n",
              "      <th>81</th>\n",
              "      <td>1987</td>\n",
              "      <td>3.73</td>\n",
              "    </tr>\n",
              "    <tr>\n",
              "      <th>82</th>\n",
              "      <td>1962</td>\n",
              "      <td>3.76</td>\n",
              "    </tr>\n",
              "    <tr>\n",
              "      <th>83</th>\n",
              "      <td>2050</td>\n",
              "      <td>3.81</td>\n",
              "    </tr>\n",
              "  </tbody>\n",
              "</table>\n",
              "<p>84 rows × 2 columns</p>\n",
              "</div>"
            ],
            "text/plain": [
              "     SAT   GPA\n",
              "0   1714  2.40\n",
              "1   1664  2.52\n",
              "2   1760  2.54\n",
              "3   1685  2.74\n",
              "4   1693  2.83\n",
              "..   ...   ...\n",
              "79  1936  3.71\n",
              "80  1810  3.71\n",
              "81  1987  3.73\n",
              "82  1962  3.76\n",
              "83  2050  3.81\n",
              "\n",
              "[84 rows x 2 columns]"
            ]
          },
          "metadata": {
            "tags": []
          },
          "execution_count": 33
        }
      ]
    },
    {
      "cell_type": "code",
      "metadata": {
        "colab": {
          "base_uri": "https://localhost:8080/",
          "height": 297
        },
        "id": "lyqEOIahgawp",
        "outputId": "1fabbeb5-0b0d-4701-a5eb-1a258d3e67ec"
      },
      "source": [
        "data.describe()"
      ],
      "execution_count": null,
      "outputs": [
        {
          "output_type": "execute_result",
          "data": {
            "text/html": [
              "<div>\n",
              "<style scoped>\n",
              "    .dataframe tbody tr th:only-of-type {\n",
              "        vertical-align: middle;\n",
              "    }\n",
              "\n",
              "    .dataframe tbody tr th {\n",
              "        vertical-align: top;\n",
              "    }\n",
              "\n",
              "    .dataframe thead th {\n",
              "        text-align: right;\n",
              "    }\n",
              "</style>\n",
              "<table border=\"1\" class=\"dataframe\">\n",
              "  <thead>\n",
              "    <tr style=\"text-align: right;\">\n",
              "      <th></th>\n",
              "      <th>SAT</th>\n",
              "      <th>GPA</th>\n",
              "    </tr>\n",
              "  </thead>\n",
              "  <tbody>\n",
              "    <tr>\n",
              "      <th>count</th>\n",
              "      <td>84.000000</td>\n",
              "      <td>84.000000</td>\n",
              "    </tr>\n",
              "    <tr>\n",
              "      <th>mean</th>\n",
              "      <td>1845.273810</td>\n",
              "      <td>3.330238</td>\n",
              "    </tr>\n",
              "    <tr>\n",
              "      <th>std</th>\n",
              "      <td>104.530661</td>\n",
              "      <td>0.271617</td>\n",
              "    </tr>\n",
              "    <tr>\n",
              "      <th>min</th>\n",
              "      <td>1634.000000</td>\n",
              "      <td>2.400000</td>\n",
              "    </tr>\n",
              "    <tr>\n",
              "      <th>25%</th>\n",
              "      <td>1772.000000</td>\n",
              "      <td>3.190000</td>\n",
              "    </tr>\n",
              "    <tr>\n",
              "      <th>50%</th>\n",
              "      <td>1846.000000</td>\n",
              "      <td>3.380000</td>\n",
              "    </tr>\n",
              "    <tr>\n",
              "      <th>75%</th>\n",
              "      <td>1934.000000</td>\n",
              "      <td>3.502500</td>\n",
              "    </tr>\n",
              "    <tr>\n",
              "      <th>max</th>\n",
              "      <td>2050.000000</td>\n",
              "      <td>3.810000</td>\n",
              "    </tr>\n",
              "  </tbody>\n",
              "</table>\n",
              "</div>"
            ],
            "text/plain": [
              "               SAT        GPA\n",
              "count    84.000000  84.000000\n",
              "mean   1845.273810   3.330238\n",
              "std     104.530661   0.271617\n",
              "min    1634.000000   2.400000\n",
              "25%    1772.000000   3.190000\n",
              "50%    1846.000000   3.380000\n",
              "75%    1934.000000   3.502500\n",
              "max    2050.000000   3.810000"
            ]
          },
          "metadata": {
            "tags": []
          },
          "execution_count": 34
        }
      ]
    },
    {
      "cell_type": "code",
      "metadata": {
        "colab": {
          "base_uri": "https://localhost:8080/"
        },
        "id": "tcdvbBptglWo",
        "outputId": "bd7e848a-0b20-428d-c039-7f42f201353b"
      },
      "source": [
        "sat = np.array(data['SAT'])\n",
        "gpa = np.array(data['GPA'])\n",
        "sat"
      ],
      "execution_count": null,
      "outputs": [
        {
          "output_type": "execute_result",
          "data": {
            "text/plain": [
              "array([1714, 1664, 1760, 1685, 1693, 1670, 1764, 1764, 1792, 1850, 1735,\n",
              "       1775, 1735, 1712, 1773, 1872, 1755, 1674, 1842, 1786, 1761, 1722,\n",
              "       1663, 1687, 1974, 1826, 1787, 1821, 2020, 1794, 1769, 1934, 1775,\n",
              "       1855, 1880, 1849, 1808, 1954, 1777, 1831, 1865, 1850, 1966, 1702,\n",
              "       1990, 1925, 1824, 1956, 1857, 1979, 1802, 1855, 1907, 1634, 1879,\n",
              "       1887, 1730, 1953, 1781, 1891, 1964, 1808, 1893, 2041, 1893, 1832,\n",
              "       1850, 1934, 1861, 1931, 1933, 1778, 1975, 1934, 2021, 2015, 1997,\n",
              "       2020, 1843, 1936, 1810, 1987, 1962, 2050])"
            ]
          },
          "metadata": {
            "tags": []
          },
          "execution_count": 35
        }
      ]
    },
    {
      "cell_type": "code",
      "metadata": {
        "colab": {
          "base_uri": "https://localhost:8080/",
          "height": 404
        },
        "id": "o0k1Mshcg-GG",
        "outputId": "bcb4026f-2717-4d6a-9583-a46dfbc5563f"
      },
      "source": [
        "plt.figure(figsize=(10,6))\n",
        "plt.scatter(sat, gpa, alpha=0.6)\n",
        "plt.title(\"SAT vs GPA\")\n",
        "plt.xlabel(\"SAT\")\n",
        "plt.ylabel(\"GPA\")\n",
        "plt.xlim(1600, 2100)\n",
        "plt.ylim(2.3, 4)\n",
        "plt.show()"
      ],
      "execution_count": null,
      "outputs": [
        {
          "output_type": "display_data",
          "data": {
            "image/png": "[encoded data removed]",
            "text/plain": [
              "<Figure size 720x432 with 1 Axes>"
            ]
          },
          "metadata": {
            "tags": [],
            "needs_background": "light"
          }
        }
      ]
    },
    {
      "cell_type": "code",
      "metadata": {
        "colab": {
          "base_uri": "https://localhost:8080/"
        },
        "id": "sasD89vRh9c4",
        "outputId": "4dc9664e-6322-4e7d-c4a0-0f36eba01d26"
      },
      "source": [
        "n = sat.shape[0]\n",
        "n"
      ],
      "execution_count": null,
      "outputs": [
        {
          "output_type": "execute_result",
          "data": {
            "text/plain": [
              "84"
            ]
          },
          "metadata": {
            "tags": []
          },
          "execution_count": 41
        }
      ]
    },
    {
      "cell_type": "code",
      "metadata": {
        "colab": {
          "base_uri": "https://localhost:8080/"
        },
        "id": "v0NVmLkoiNJG",
        "outputId": "267f5094-59bd-45ed-cc96-a5e2b87d70a9"
      },
      "source": [
        "x = sat.reshape(1, n)\n",
        "y = gpa.reshape(1, n)\n",
        "x"
      ],
      "execution_count": null,
      "outputs": [
        {
          "output_type": "execute_result",
          "data": {
            "text/plain": [
              "array([[1714, 1664, 1760, 1685, 1693, 1670, 1764, 1764, 1792, 1850, 1735,\n",
              "        1775, 1735, 1712, 1773, 1872, 1755, 1674, 1842, 1786, 1761, 1722,\n",
              "        1663, 1687, 1974, 1826, 1787, 1821, 2020, 1794, 1769, 1934, 1775,\n",
              "        1855, 1880, 1849, 1808, 1954, 1777, 1831, 1865, 1850, 1966, 1702,\n",
              "        1990, 1925, 1824, 1956, 1857, 1979, 1802, 1855, 1907, 1634, 1879,\n",
              "        1887, 1730, 1953, 1781, 1891, 1964, 1808, 1893, 2041, 1893, 1832,\n",
              "        1850, 1934, 1861, 1931, 1933, 1778, 1975, 1934, 2021, 2015, 1997,\n",
              "        2020, 1843, 1936, 1810, 1987, 1962, 2050]])"
            ]
          },
          "metadata": {
            "tags": []
          },
          "execution_count": 39
        }
      ]
    },
    {
      "cell_type": "code",
      "metadata": {
        "colab": {
          "base_uri": "https://localhost:8080/"
        },
        "id": "iqwPhEltif2_",
        "outputId": "621a6f1f-0a8d-4b8a-9a03-ff0d5160c793"
      },
      "source": [
        "w = np.random.rand(1,1)\n",
        "b = np.random.rand(1,1)\n",
        "w"
      ],
      "execution_count": null,
      "outputs": [
        {
          "output_type": "execute_result",
          "data": {
            "text/plain": [
              "array([[0.96131433]])"
            ]
          },
          "metadata": {
            "tags": []
          },
          "execution_count": 42
        }
      ]
    },
    {
      "cell_type": "code",
      "metadata": {
        "colab": {
          "base_uri": "https://localhost:8080/"
        },
        "id": "WjW2SmwgjmG2",
        "outputId": "4accca5c-2dc2-4a41-89a3-0fbb664cdd38"
      },
      "source": [
        "w, b, losses = gradient_descent(x, y, 0.00000005, w, b)\n",
        "w"
      ],
      "execution_count": null,
      "outputs": [
        {
          "output_type": "execute_result",
          "data": {
            "text/plain": [
              "array([[0.0016832]])"
            ]
          },
          "metadata": {
            "tags": []
          },
          "execution_count": 43
        }
      ]
    },
    {
      "cell_type": "code",
      "metadata": {
        "colab": {
          "base_uri": "https://localhost:8080/",
          "height": 404
        },
        "id": "ngV_0ZP_kHlY",
        "outputId": "93eb3deb-8edd-45ef-948c-7fa0e167f7dd"
      },
      "source": [
        "plt.figure(figsize=(10,6))\n",
        "plt.scatter(sat, gpa, alpha=0.6)\n",
        "plt.title(\"SAT vs GPA\")\n",
        "plt.xlabel(\"SAT\")\n",
        "plt.ylabel(\"GPA\")\n",
        "plt.xlim(1600, 2100)\n",
        "plt.ylim(2.3, 4)\n",
        "\n",
        "x = np.linspace(1600, 2100, num=500)\n",
        "y = y_hat(w, b, x)\n",
        "plt.scatter(x, y, color=\"r\", alpha=0.2)\n",
        "plt.show()\n"
      ],
      "execution_count": null,
      "outputs": [
        {
          "output_type": "display_data",
          "data": {
            "image/png": "[encoded data removed]",
            "text/plain": [
              "<Figure size 720x432 with 1 Axes>"
            ]
          },
          "metadata": {
            "tags": [],
            "needs_background": "light"
          }
        }
      ]
    },
    {
      "cell_type": "code",
      "metadata": {
        "id": "nm4niIwkkhIB"
      },
      "source": [
        ""
      ],
      "execution_count": null,
      "outputs": []
    }
  ]
}
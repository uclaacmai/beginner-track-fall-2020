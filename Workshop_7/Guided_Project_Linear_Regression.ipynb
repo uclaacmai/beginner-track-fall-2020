{
  "nbformat": 4,
  "nbformat_minor": 0,
  "metadata": {
    "colab": {
      "name": "Guided Project - Linear Regression.ipynb",
      "provenance": []
    },
    "kernelspec": {
      "name": "python3",
      "display_name": "Python 3"
    }
  },
  "cells": [
    {
      "cell_type": "code",
      "metadata": {
        "id": "83Bp3vUQXZfn"
      },
      "source": [
        "# import modules\n",
        "import numpy as np\n",
        "import pandas as pd\n",
        "import matplotlib.pyplot as plt"
      ],
      "execution_count": 1,
      "outputs": []
    },
    {
      "cell_type": "markdown",
      "metadata": {
        "id": "5YfLzLsrYLw3"
      },
      "source": [
        "## Function to be learned - a line\n",
        "### $$f(x) = \\pi x + 10 $$"
      ]
    },
    {
      "cell_type": "code",
      "metadata": {
        "id": "Rb31GbchX4Nb"
      },
      "source": [
        "# TO DO: implement f(x) - 1 line\n",
        "def f(x):\n",
        "  return np.pi*x + 10"
      ],
      "execution_count": 2,
      "outputs": []
    },
    {
      "cell_type": "code",
      "metadata": {
        "id": "YcR1MULvY4re"
      },
      "source": [
        "# TO DO: generate 100 data points in range of [-5,5] - 1 line\n",
        "n = 100\n",
        "x = np.linspace(-5,5, num=n)"
      ],
      "execution_count": 3,
      "outputs": []
    },
    {
      "cell_type": "code",
      "metadata": {
        "colab": {
          "base_uri": "https://localhost:8080/"
        },
        "id": "PmrCFNseZCM1",
        "outputId": "323ce7b8-465c-4d62-ff40-4020806d6c5b"
      },
      "source": [
        "x = x.reshape(1, n)\n",
        "x.shape"
      ],
      "execution_count": 4,
      "outputs": [
        {
          "output_type": "execute_result",
          "data": {
            "text/plain": [
              "(1, 100)"
            ]
          },
          "metadata": {
            "tags": []
          },
          "execution_count": 4
        }
      ]
    },
    {
      "cell_type": "code",
      "metadata": {
        "colab": {
          "base_uri": "https://localhost:8080/"
        },
        "id": "q5D0-nuoZ0jW",
        "outputId": "22ef3a6a-b792-44ee-da2e-981bb4ea5a55"
      },
      "source": [
        "y = f(x)\n",
        "y.shape"
      ],
      "execution_count": 5,
      "outputs": [
        {
          "output_type": "execute_result",
          "data": {
            "text/plain": [
              "(1, 100)"
            ]
          },
          "metadata": {
            "tags": []
          },
          "execution_count": 5
        }
      ]
    },
    {
      "cell_type": "markdown",
      "metadata": {
        "id": "kxDjCj_OaKJK"
      },
      "source": [
        "## Our hypothesis\n",
        "### $$\\hat{y}(x)=wx+b$$"
      ]
    },
    {
      "cell_type": "code",
      "metadata": {
        "id": "k71T-yoHZ5r5"
      },
      "source": [
        "# initialize weight and bias randomly - 2 lines\n",
        "w = np.random.rand(1)\n",
        "b = np.random.rand(1)"
      ],
      "execution_count": 6,
      "outputs": []
    },
    {
      "cell_type": "code",
      "metadata": {
        "colab": {
          "base_uri": "https://localhost:8080/"
        },
        "id": "xIfw6QGanNef",
        "outputId": "7192e7ef-7055-48ae-e675-6679280ac526"
      },
      "source": [
        "w.shape"
      ],
      "execution_count": 7,
      "outputs": [
        {
          "output_type": "execute_result",
          "data": {
            "text/plain": [
              "(1,)"
            ]
          },
          "metadata": {
            "tags": []
          },
          "execution_count": 7
        }
      ]
    },
    {
      "cell_type": "code",
      "metadata": {
        "id": "OLl_ouRBaKpu"
      },
      "source": [
        "w = w.reshape(1,1)\n",
        "b = b.reshape(1,1)"
      ],
      "execution_count": 8,
      "outputs": []
    },
    {
      "cell_type": "code",
      "metadata": {
        "colab": {
          "base_uri": "https://localhost:8080/"
        },
        "id": "s1R0p7NrnT_a",
        "outputId": "1c1b9f34-adab-49c5-e8a1-97253524c32d"
      },
      "source": [
        "w.shape"
      ],
      "execution_count": 9,
      "outputs": [
        {
          "output_type": "execute_result",
          "data": {
            "text/plain": [
              "(1, 1)"
            ]
          },
          "metadata": {
            "tags": []
          },
          "execution_count": 9
        }
      ]
    },
    {
      "cell_type": "code",
      "metadata": {
        "id": "ApB5Lm2HakA4"
      },
      "source": [
        "def y_hat(w, b, x):\n",
        "  return w*x + b"
      ],
      "execution_count": 10,
      "outputs": []
    },
    {
      "cell_type": "code",
      "metadata": {
        "colab": {
          "base_uri": "https://localhost:8080/",
          "height": 265
        },
        "id": "yLdv915EbICk",
        "outputId": "d39377c8-357b-43b6-da9a-5f8df6437449"
      },
      "source": [
        "plt.scatter(x, y)\n",
        "plt.scatter(x, y_hat(w, b, x))\n",
        "plt.show()"
      ],
      "execution_count": 11,
      "outputs": [
        {
          "output_type": "display_data",
          "data": {
            "image/png": "[encoded data removed]",
            "text/plain": [
              "<Figure size 432x288 with 1 Axes>"
            ]
          },
          "metadata": {
            "tags": [],
            "needs_background": "light"
          }
        }
      ]
    },
    {
      "cell_type": "markdown",
      "metadata": {
        "id": "6yUzHCDpbn3o"
      },
      "source": [
        "## Loss function - Mean Squared Error\n",
        "### $$L(y, \\hat{y}) = \\frac{1}{n} \\sum_{i=1}^{n} \\big(y_i-\\hat{y_i}\\big)^2 $$"
      ]
    },
    {
      "cell_type": "code",
      "metadata": {
        "id": "qnWE9LEmbQuR"
      },
      "source": [
        "# TO DO: implement mse - 1 to 2 lines\n",
        "def mse(y, y_hat):\n",
        "  return np.average((y - y_hat)**2)"
      ],
      "execution_count": 12,
      "outputs": []
    },
    {
      "cell_type": "markdown",
      "metadata": {
        "id": "Jm1UTOwEcaFs"
      },
      "source": [
        "## np.dot demo"
      ]
    },
    {
      "cell_type": "code",
      "metadata": {
        "id": "6ZFqFwjUbo2v"
      },
      "source": [
        "A = np.array([[1,2,3]])\n",
        "B = A"
      ],
      "execution_count": 13,
      "outputs": []
    },
    {
      "cell_type": "code",
      "metadata": {
        "colab": {
          "base_uri": "https://localhost:8080/"
        },
        "id": "cpTIOA2fckJA",
        "outputId": "2375515d-8201-4f85-97df-befc775ede83"
      },
      "source": [
        "A.shape"
      ],
      "execution_count": 14,
      "outputs": [
        {
          "output_type": "execute_result",
          "data": {
            "text/plain": [
              "(1, 3)"
            ]
          },
          "metadata": {
            "tags": []
          },
          "execution_count": 14
        }
      ]
    },
    {
      "cell_type": "code",
      "metadata": {
        "colab": {
          "base_uri": "https://localhost:8080/"
        },
        "id": "rJ5qZMB9clMe",
        "outputId": "d97b2f57-20fe-4f3f-f39c-673ed6a84d84"
      },
      "source": [
        "np.dot(A, B.T)"
      ],
      "execution_count": 15,
      "outputs": [
        {
          "output_type": "execute_result",
          "data": {
            "text/plain": [
              "array([[14]])"
            ]
          },
          "metadata": {
            "tags": []
          },
          "execution_count": 15
        }
      ]
    },
    {
      "cell_type": "code",
      "metadata": {
        "colab": {
          "base_uri": "https://localhost:8080/"
        },
        "id": "QqEKS2oFcxEP",
        "outputId": "d40b4f43-ee80-4eab-96bc-919398bc146e"
      },
      "source": [
        "B.T.shape"
      ],
      "execution_count": 16,
      "outputs": [
        {
          "output_type": "execute_result",
          "data": {
            "text/plain": [
              "(3, 1)"
            ]
          },
          "metadata": {
            "tags": []
          },
          "execution_count": 16
        }
      ]
    },
    {
      "cell_type": "code",
      "metadata": {
        "colab": {
          "base_uri": "https://localhost:8080/"
        },
        "id": "Qsp7eM6lc3Yk",
        "outputId": "3eabeae7-4b69-49a3-d20d-5505295255e3"
      },
      "source": [
        "np.dot(A.T, B)"
      ],
      "execution_count": 17,
      "outputs": [
        {
          "output_type": "execute_result",
          "data": {
            "text/plain": [
              "array([[1, 2, 3],\n",
              "       [2, 4, 6],\n",
              "       [3, 6, 9]])"
            ]
          },
          "metadata": {
            "tags": []
          },
          "execution_count": 17
        }
      ]
    },
    {
      "cell_type": "code",
      "metadata": {
        "colab": {
          "base_uri": "https://localhost:8080/"
        },
        "id": "GzVCnUxxc9zS",
        "outputId": "e2e37a41-740a-4a66-812f-74b76205dd1f"
      },
      "source": [
        "A*B"
      ],
      "execution_count": 18,
      "outputs": [
        {
          "output_type": "execute_result",
          "data": {
            "text/plain": [
              "array([[1, 4, 9]])"
            ]
          },
          "metadata": {
            "tags": []
          },
          "execution_count": 18
        }
      ]
    },
    {
      "cell_type": "markdown",
      "metadata": {
        "id": "FN82bHPFdheq"
      },
      "source": [
        "## Gradients with respect to w, b\n",
        "### $$ \\frac{\\partial L}{\\partial w} = \\frac{2}{n}\\sum_{i=1}^{n}\\big(\\hat{y_i}-y_i\\big)x_i$$\n",
        "### $$ \\frac{\\partial L}{\\partial b} = \\frac{2}{n}\\sum_{i=1}^{n}\\big(\\hat{y_i}-y_i\\big)$$\n"
      ]
    },
    {
      "cell_type": "code",
      "metadata": {
        "id": "xPuTAMGkdUHF"
      },
      "source": [
        "def gradients(x, y, y_hat):\n",
        "  n = y.shape[1]\n",
        "  grads = {}\n",
        "\n",
        "  # TO DO: add the gradients with respect to w,b to grads - 2 lines\n",
        "  grads['dw'] = (2/n)*np.dot((y_hat-y), x.T)\n",
        "  grads['db'] = 2*np.average(y_hat-y)\n",
        "\n",
        "  return grads"
      ],
      "execution_count": 19,
      "outputs": []
    },
    {
      "cell_type": "markdown",
      "metadata": {
        "id": "2qHa7WgdfPWi"
      },
      "source": [
        "## Training our model - update w, b accordingly\n",
        "### $$w = w - \\alpha \\frac{\\partial L}{\\partial w}$$\n",
        "### $$b = b - \\alpha \\frac{\\partial L}{\\partial b}$$\n"
      ]
    },
    {
      "cell_type": "code",
      "metadata": {
        "id": "wxXCGgZEfbcZ"
      },
      "source": [
        "def gradient_descent(x, y, learning_rate, w, b):\n",
        "  # initialize params\n",
        "  alpha = learning_rate\n",
        "  losses = []\n",
        "\n",
        "  # train model\n",
        "  for i in range(100):\n",
        "    # TO DO: get the predictions w, b, x using a function that we defined - 1 line\n",
        "    predictions = y_hat(w, b, x)\n",
        "\n",
        "    # TO DO: get the gradients using x, y, predictions using a function that we defined - 1 line\n",
        "    grads = gradients(x, y, predictions)\n",
        "    db = grads['db']\n",
        "    dw = grads['dw']\n",
        "\n",
        "    # TO DO: update w, b - 2 lines\n",
        "    b -= alpha*db\n",
        "    w -= alpha*dw\n",
        "\n",
        "    # compute loss \n",
        "    loss = mse(y, predictions)\n",
        "    losses.append(loss)\n",
        "\n",
        "  return w, b, losses"
      ],
      "execution_count": 20,
      "outputs": []
    },
    {
      "cell_type": "code",
      "metadata": {
        "id": "Y_B9a805hTzy"
      },
      "source": [
        "# TO DO: run linear regression gradient_descent function; set learning_rate = 0.03 - 1 line\n",
        "w, b, losses = gradient_descent(x, y, 0.03, w, b)"
      ],
      "execution_count": 21,
      "outputs": []
    },
    {
      "cell_type": "code",
      "metadata": {
        "colab": {
          "base_uri": "https://localhost:8080/"
        },
        "id": "JBHHoIG-jWgc",
        "outputId": "ebc7184f-0bcf-4076-d2ed-569fc2a382e5"
      },
      "source": [
        "w"
      ],
      "execution_count": 22,
      "outputs": [
        {
          "output_type": "execute_result",
          "data": {
            "text/plain": [
              "array([[3.14159265]])"
            ]
          },
          "metadata": {
            "tags": []
          },
          "execution_count": 22
        }
      ]
    },
    {
      "cell_type": "code",
      "metadata": {
        "colab": {
          "base_uri": "https://localhost:8080/"
        },
        "id": "wuy-LLONju5F",
        "outputId": "15300466-9e38-4952-e4cd-3bec269b53ed"
      },
      "source": [
        "b"
      ],
      "execution_count": 23,
      "outputs": [
        {
          "output_type": "execute_result",
          "data": {
            "text/plain": [
              "array([[9.9804155]])"
            ]
          },
          "metadata": {
            "tags": []
          },
          "execution_count": 23
        }
      ]
    },
    {
      "cell_type": "code",
      "metadata": {
        "colab": {
          "base_uri": "https://localhost:8080/",
          "height": 265
        },
        "id": "XPVVcCEWjvhr",
        "outputId": "70156671-670b-438b-d7c0-86ca0d56ee54"
      },
      "source": [
        "plt.scatter(x, y, alpha=0.5)\n",
        "plt.scatter(x, y_hat(w, b, x), alpha=0.5)\n",
        "plt.show()"
      ],
      "execution_count": 24,
      "outputs": [
        {
          "output_type": "display_data",
          "data": {
            "image/png": "[encoded data removed]",
            "text/plain": [
              "<Figure size 432x288 with 1 Axes>"
            ]
          },
          "metadata": {
            "tags": [],
            "needs_background": "light"
          }
        }
      ]
    },
    {
      "cell_type": "code",
      "metadata": {
        "colab": {
          "base_uri": "https://localhost:8080/",
          "height": 282
        },
        "id": "7duktR0bj-AM",
        "outputId": "3e62426b-06e2-4c19-bf89-64f586c16dab"
      },
      "source": [
        "plt.plot(range(1, len(losses)+1), losses)"
      ],
      "execution_count": 25,
      "outputs": [
        {
          "output_type": "execute_result",
          "data": {
            "text/plain": [
              "[<matplotlib.lines.Line2D at 0x7f1c615aa438>]"
            ]
          },
          "metadata": {
            "tags": []
          },
          "execution_count": 25
        },
        {
          "output_type": "display_data",
          "data": {
            "image/png": "[encoded data removed]",
            "text/plain": [
              "<Figure size 432x288 with 1 Axes>"
            ]
          },
          "metadata": {
            "tags": [],
            "needs_background": "light"
          }
        }
      ]
    },
    {
      "cell_type": "markdown",
      "metadata": {
        "id": "VNxVa22xkTh5"
      },
      "source": [
        "## The effect of different learning rates"
      ]
    },
    {
      "cell_type": "code",
      "metadata": {
        "id": "A0ypu9o9lr1O"
      },
      "source": [
        "w_small_alpha = 0\n",
        "b_small_alpha = 0\n",
        "w_large_alpha = 0\n",
        "b_large_alpha = 0"
      ],
      "execution_count": 26,
      "outputs": []
    },
    {
      "cell_type": "code",
      "metadata": {
        "id": "Q0eDsoU8k-2b"
      },
      "source": [
        "w_small_alpha, b_small_alpha, losses_small_alpha = gradient_descent(x, y, 0.01, w_small_alpha, b_small_alpha)\n",
        "w_large_alpha, b_large_alpha, losses_large_alpha = gradient_descent(x, y, 0.1, w_large_alpha, b_large_alpha)"
      ],
      "execution_count": 27,
      "outputs": []
    },
    {
      "cell_type": "code",
      "metadata": {
        "colab": {
          "base_uri": "https://localhost:8080/",
          "height": 282
        },
        "id": "fKzLPG7zl9kh",
        "outputId": "27f591c8-333f-4304-d815-053c1ea687c0"
      },
      "source": [
        "plt.plot(range(1, len(losses)+1), losses_small_alpha, label='small learning rate')\n",
        "plt.plot(range(1, len(losses)+1), losses, label='medium learning rate', color='r')\n",
        "plt.plot(range(1, len(losses)+1), losses_large_alpha, label='large learning rate', color='g')\n",
        "plt.legend()"
      ],
      "execution_count": 28,
      "outputs": [
        {
          "output_type": "execute_result",
          "data": {
            "text/plain": [
              "<matplotlib.legend.Legend at 0x7f1c6151cc88>"
            ]
          },
          "metadata": {
            "tags": []
          },
          "execution_count": 28
        },
        {
          "output_type": "display_data",
          "data": {
            "image/png": "[encoded data removed]",
            "text/plain": [
              "<Figure size 432x288 with 1 Axes>"
            ]
          },
          "metadata": {
            "tags": [],
            "needs_background": "light"
          }
        }
      ]
    },
    {
      "cell_type": "markdown",
      "metadata": {
        "id": "H1v0qbESr4eZ"
      },
      "source": [
        "## Note: A large learning rate will cause the loss to diverge to infinity"
      ]
    },
    {
      "cell_type": "code",
      "metadata": {
        "id": "5Z985Vz9maMn"
      },
      "source": [
        "w_large_alpha, b_large_alpha, losses_large_alpha = gradient_descent(x, y, 0.5, w_large_alpha, b_large_alpha)"
      ],
      "execution_count": 29,
      "outputs": []
    },
    {
      "cell_type": "code",
      "metadata": {
        "colab": {
          "base_uri": "https://localhost:8080/",
          "height": 293
        },
        "id": "HO6cvN3sm1HK",
        "outputId": "8e9637c8-6a01-4360-a02f-2a07e785c087"
      },
      "source": [
        "plt.plot(range(1, len(losses)+1), losses_large_alpha, label='large learning rate')"
      ],
      "execution_count": 30,
      "outputs": [
        {
          "output_type": "execute_result",
          "data": {
            "text/plain": [
              "[<matplotlib.lines.Line2D at 0x7f1c61517ac8>]"
            ]
          },
          "metadata": {
            "tags": []
          },
          "execution_count": 30
        },
        {
          "output_type": "display_data",
          "data": {
            "image/png": "[encoded data removed]",
            "text/plain": [
              "<Figure size 432x288 with 1 Axes>"
            ]
          },
          "metadata": {
            "tags": [],
            "needs_background": "light"
          }
        }
      ]
    },
    {
      "cell_type": "code",
      "metadata": {
        "id": "tyGPXrYIm3Xn"
      },
      "source": [
        ""
      ],
      "execution_count": 30,
      "outputs": []
    }
  ]
}
{
  "nbformat": 4,
  "nbformat_minor": 0,
  "metadata": {
    "kernelspec": {
      "display_name": "Python 3",
      "language": "python",
      "name": "python3"
    },
    "language_info": {
      "codemirror_mode": {
        "name": "ipython",
        "version": 3
      },
      "file_extension": ".py",
      "mimetype": "text/x-python",
      "name": "python",
      "nbconvert_exporter": "python",
      "pygments_lexer": "ipython3",
      "version": "3.7.6"
    },
    "colab": {
      "name": "Solution_to_Worksheet_Exercise_notebook_for_Intro_to_Python.ipynb",
      "provenance": []
    }
  },
  "cells": [
    {
      "cell_type": "markdown",
      "metadata": {
        "id": "ZtCOYcHM0OcE"
      },
      "source": [
        "# ACM AI Beginner Track\n",
        "## Worksheet questions for the Intro to Python workshop\n",
        "This worksheet contains questions to help you improve your Python programming skills. \n",
        "\n",
        "It's divided into two parts: **section one** for questions to be done during the workshop and **section two** for questions you can work on in your own time after the workshop.\n",
        "\n"
      ]
    },
    {
      "cell_type": "markdown",
      "metadata": {
        "id": "z4n1Wxmn0OcG"
      },
      "source": [
        "### SECTION 1\n",
        "Do these questions during the workshop once we tell you to."
      ]
    },
    {
      "cell_type": "markdown",
      "metadata": {
        "id": "3vn6brAH0OcH"
      },
      "source": [
        "#### Question 1\n",
        "Print 183 in one line using the given two variables. "
      ]
    },
    {
      "cell_type": "code",
      "metadata": {
        "id": "UgpDn73r0OcI"
      },
      "source": [
        "x = 33\n",
        "y = 42\n",
        "#Type answer here.\n",
        "print(3*x + 2*y)"
      ],
      "execution_count": null,
      "outputs": []
    },
    {
      "cell_type": "markdown",
      "metadata": {
        "id": "rSYF0o7w0OcO"
      },
      "source": [
        "#### Question 2\n",
        "Print the phrase \"You can't see me!\" in a single statement."
      ]
    },
    {
      "cell_type": "code",
      "metadata": {
        "id": "BeiLxvkE0OcP"
      },
      "source": [
        "# Type answer here.\n",
        "print(\"You can't see me!\")"
      ],
      "execution_count": null,
      "outputs": []
    },
    {
      "cell_type": "markdown",
      "metadata": {
        "id": "RsOQmXaO0OcT"
      },
      "source": [
        "#### Question 3\n",
        "Using a loop, print out every second entry in the array."
      ]
    },
    {
      "cell_type": "code",
      "metadata": {
        "id": "KtLDsxUW0OcU"
      },
      "source": [
        "arr = [1,2,3,4,5,6,7,8,9,0]\n",
        "# Type answer here.\n",
        "for i in arr:\n",
        "  print(i)"
      ],
      "execution_count": null,
      "outputs": []
    },
    {
      "cell_type": "markdown",
      "metadata": {
        "id": "Rt8mVKJH0OcZ"
      },
      "source": [
        "#### Question 4\n",
        "Access the number 3 in the list below."
      ]
    },
    {
      "cell_type": "code",
      "metadata": {
        "id": "UeSaGgib0Oca"
      },
      "source": [
        "confuse = [8, [[[2, [4]], 6, [7, 1], 3], 0, 5], 9]\n",
        "# Type answer here.\n",
        "confuse[1][0][3]"
      ],
      "execution_count": null,
      "outputs": []
    },
    {
      "cell_type": "markdown",
      "metadata": {
        "id": "JE_naul20Oce"
      },
      "source": [
        "#### Question 5\n",
        "Using the map method, add the letter 's' to each string in the list below."
      ]
    },
    {
      "cell_type": "code",
      "metadata": {
        "id": "3ZbxXVSo0Ocf"
      },
      "source": [
        "add_s = [\"among u\", \"su\", \"imposter\"]\n",
        "# Type answer here.\n",
        "list(map(lambda input: input + 's', add_s))"
      ],
      "execution_count": null,
      "outputs": []
    },
    {
      "cell_type": "markdown",
      "metadata": {
        "id": "62Tn_-La0Ocj"
      },
      "source": [
        "#### Question 6\n",
        "Define a function that takes in a single number and returns the absolute value of that number."
      ]
    },
    {
      "cell_type": "code",
      "metadata": {
        "id": "_1R5OfWT0Ocj"
      },
      "source": [
        "# Type answer here.\n",
        "def absolute_value(x):\n",
        "  if x >= 0:\n",
        "    return x\n",
        "  else:\n",
        "    return -x"
      ],
      "execution_count": null,
      "outputs": []
    },
    {
      "cell_type": "code",
      "metadata": {
        "id": "TQWZIaE925PU"
      },
      "source": [
        "print(absolute_value(1))\n",
        "print(absolute_value(0))\n",
        "print(absolute_value(-2))"
      ],
      "execution_count": null,
      "outputs": []
    },
    {
      "cell_type": "markdown",
      "metadata": {
        "id": "2tg8d8GZ0Oco"
      },
      "source": [
        "### SECTION 2\n",
        "Feel free to do these questions after the workshop is over to further build on your Python skills. Some of these are a bit hard so don't feel demotivated if you can't get them immediately. Don't shy away from venturing outside of the details outlined in the reference document and looking up things online or asking any of the beginner track officers."
      ]
    },
    {
      "cell_type": "markdown",
      "metadata": {
        "id": "1d4o1eZZ0Oco"
      },
      "source": [
        "#### Question 1\n",
        "Define a function that takes in a single number as seconds and returns the number of years that number represents."
      ]
    },
    {
      "cell_type": "code",
      "metadata": {
        "id": "cvrPnbgK0Ocq"
      },
      "source": [
        "def seconds_to_years(seconds):\n",
        "    # Type answer here.\n",
        "    return seconds/(3600*24*365)"
      ],
      "execution_count": null,
      "outputs": []
    },
    {
      "cell_type": "code",
      "metadata": {
        "id": "gzfNOEun3l4e"
      },
      "source": [
        "seconds_to_years(10**(9))"
      ],
      "execution_count": null,
      "outputs": []
    },
    {
      "cell_type": "markdown",
      "metadata": {
        "id": "_atGqc1r0Ocu"
      },
      "source": [
        "#### Question 2\n",
        "Define a function that takes in a list and a number as parameters and removes the entry at that number (position), shifting all entries after that position down the list and replacing the last entry with -1. If this can be successfully done, return the array itself, otherwise return \"ERROR\".\n",
        "\n",
        "Remember, the first entry in a list is considered to be at position 0!\n",
        "\n",
        "Example: ([1,2,3,4,5], 1) => [1,3,4,5,-1]\n",
        "\n",
        "Example: ([1,2,3,4,5], 10) => \"ERROR\"  "
      ]
    },
    {
      "cell_type": "code",
      "metadata": {
        "id": "RsW1x0Nx0Ocu"
      },
      "source": [
        "def filter(array, pos):\n",
        "    # Type answer here.\n",
        "    if pos >= len(array):\n",
        "      return \"ERROR\"\n",
        "\n",
        "    i = pos\n",
        "    while(i < len(array) - 1):\n",
        "      array[i] = array[i+1]\n",
        "      i += 1\n",
        "      \n",
        "    array[len(array)-1] = -1\n",
        "    return array"
      ],
      "execution_count": null,
      "outputs": []
    },
    {
      "cell_type": "code",
      "metadata": {
        "id": "sV9SFa5e45OW"
      },
      "source": [
        "filter([1,2,3,4,5], 1)"
      ],
      "execution_count": null,
      "outputs": []
    },
    {
      "cell_type": "code",
      "metadata": {
        "id": "LX9jdpcnDeT3"
      },
      "source": [
        "filter([1,2,3,4,5], 10)"
      ],
      "execution_count": null,
      "outputs": []
    },
    {
      "cell_type": "markdown",
      "metadata": {
        "id": "WYZS4YH40Oc0"
      },
      "source": [
        "#### Question 3\n",
        "Define a function that sorts a given list of numbers in ascending order."
      ]
    },
    {
      "cell_type": "code",
      "metadata": {
        "id": "PaaZkradBf30"
      },
      "source": [
        "def swap(arr, i, j):\n",
        "  # swap 2 elements in a list if the indices are valid, and do nothing otherwise\n",
        "  if i < 0 or i >= len(arr) or j < 0 or j >= len(arr):\n",
        "    return\n",
        "  temp = arr[i]\n",
        "  arr[i] = arr[j]\n",
        "  arr[j] = temp"
      ],
      "execution_count": null,
      "outputs": []
    },
    {
      "cell_type": "code",
      "metadata": {
        "id": "Hl_vP9emBtZU"
      },
      "source": [
        "array = [1, 2, 3, 4]\n",
        "swap(array, 0, 1)\n",
        "array"
      ],
      "execution_count": null,
      "outputs": []
    },
    {
      "cell_type": "code",
      "metadata": {
        "id": "cmTpid5J0Oc1"
      },
      "source": [
        "def asc(array):\n",
        "    # Selection sort\n",
        "    n = len(array)\n",
        "    for i in range(n):\n",
        "      smallest_i = i\n",
        "      for j in range(i, n):\n",
        "        if array[j] < array[smallest_i]:\n",
        "          smallest_i = j\n",
        "      swap(array, i, smallest_i)"
      ],
      "execution_count": null,
      "outputs": []
    },
    {
      "cell_type": "code",
      "metadata": {
        "id": "0siTrulnCP0m"
      },
      "source": [
        "my_array = [5,7,6,2,4,3,1,0]\n",
        "asc(my_array)\n",
        "my_array"
      ],
      "execution_count": null,
      "outputs": []
    },
    {
      "cell_type": "markdown",
      "metadata": {
        "id": "18AuVG1x0Oc3"
      },
      "source": [
        "#### Question 4\n",
        "Using a lambda function and the map method, print the phrase \"SOME_WORD is a palindrome.\" if the word in the list below is a palindrome or \"SOME_WORD is not a palindrome.\" if it isn't.\n",
        "\n",
        "Example: \"racecar is a palindrome.\"\n",
        "\n",
        "Example: \"pandas is not a palindrome.\""
      ]
    },
    {
      "cell_type": "code",
      "metadata": {
        "id": "IL545pXu8vG5"
      },
      "source": [
        "def is_palindrome(word):\n",
        "  n = len(word)\n",
        "  for i in range(n//2):\n",
        "    if word[i] != word[n-i-1]:\n",
        "      return False\n",
        "  return True"
      ],
      "execution_count": null,
      "outputs": []
    },
    {
      "cell_type": "code",
      "metadata": {
        "id": "jieJKmqL9ORA"
      },
      "source": [
        "is_palindrome('racecar')"
      ],
      "execution_count": null,
      "outputs": []
    },
    {
      "cell_type": "code",
      "metadata": {
        "id": "7O3XjH8p9T6F"
      },
      "source": [
        "is_palindrome('pandas')"
      ],
      "execution_count": null,
      "outputs": []
    },
    {
      "cell_type": "code",
      "metadata": {
        "id": "fY1jOZjE9xf4"
      },
      "source": [
        "def palindrome(word):\n",
        "  if is_palindrome(word):\n",
        "    return word + ' is a palindrome.'\n",
        "  else:\n",
        "    return word + ' is not a palindrome.'"
      ],
      "execution_count": null,
      "outputs": []
    },
    {
      "cell_type": "code",
      "metadata": {
        "id": "skzsWFgY0Oc3"
      },
      "source": [
        "words = ['racecar', 'python', 'pandas', 'nun', 'madam', 'lambda']\n",
        "# Type answer here.\n",
        "list(map(lambda word: palindrome(word), words))"
      ],
      "execution_count": null,
      "outputs": []
    },
    {
      "cell_type": "markdown",
      "metadata": {
        "id": "821xydBP0Oc6"
      },
      "source": [
        "#### Question 5\n",
        "Define a function that takes a list as its only parameter and returns the first entry in the list that is repeated.\n",
        "If no such entry is found, return -1.\n",
        "\n",
        "Example: ([1,2,3,2,4,5,4]) => 2\n",
        "\n",
        "Example: ([1,2,3]) => -1"
      ]
    },
    {
      "cell_type": "code",
      "metadata": {
        "id": "hGUQN0HL0Oc6"
      },
      "source": [
        "def repeat(array):\n",
        "    # Type answer here.\n",
        "    repeated = []\n",
        "    for i in array:\n",
        "      if i in repeated:\n",
        "        return i\n",
        "      else:\n",
        "        repeated.append(i)\n",
        "    return -1"
      ],
      "execution_count": null,
      "outputs": []
    },
    {
      "cell_type": "code",
      "metadata": {
        "id": "7QumW_jn7q0Y"
      },
      "source": [
        "repeat([1,2,3,2,4,5,4])"
      ],
      "execution_count": null,
      "outputs": []
    },
    {
      "cell_type": "code",
      "metadata": {
        "id": "xe-VvuIn7uNn"
      },
      "source": [
        "repeat([1,2,3])"
      ],
      "execution_count": null,
      "outputs": []
    },
    {
      "cell_type": "code",
      "metadata": {
        "id": "L8xrKh8l7wW6"
      },
      "source": [
        ""
      ],
      "execution_count": null,
      "outputs": []
    }
  ]
}
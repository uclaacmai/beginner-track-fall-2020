{
 "cells": [
  {
   "cell_type": "markdown",
   "metadata": {},
   "source": [
    "# ACM AI Beginner Track\n",
    "## Worksheet questions for the Intro to Python workshop\n",
    "This worksheet contains questions to help you improve your Python programming skills. \n",
    "\n",
    "It's divided into two parts: **section one** for questions to be done during the workshop and **section two** for questions you can work on in your own time after the workshop.\n",
    "\n"
   ]
  },
  {
   "cell_type": "markdown",
   "metadata": {},
   "source": [
    "### SECTION 1\n",
    "Do these questions during the workshop once we tell you to."
   ]
  },
  {
   "cell_type": "markdown",
   "metadata": {},
   "source": [
    "#### Question 1\n",
    "Print 183 in one line using the given two variables. "
   ]
  },
  {
   "cell_type": "code",
   "execution_count": 3,
   "metadata": {},
   "outputs": [],
   "source": [
    "x = 33\n",
    "y = 42\n",
    "#Type answer here."
   ]
  },
  {
   "cell_type": "markdown",
   "metadata": {},
   "source": [
    "#### Question 2\n",
    "Print the phrase \"You can't see me!\" in a single statement."
   ]
  },
  {
   "cell_type": "code",
   "execution_count": 4,
   "metadata": {},
   "outputs": [],
   "source": [
    "# Type answer here."
   ]
  },
  {
   "cell_type": "markdown",
   "metadata": {},
   "source": [
    "#### Question 3\n",
    "Using a loop, print out every second entry in the array."
   ]
  },
  {
   "cell_type": "code",
   "execution_count": 5,
   "metadata": {},
   "outputs": [],
   "source": [
    "arr = [1,2,3,4,5,6,7,8,9,0]\n",
    "# Type answer here."
   ]
  },
  {
   "cell_type": "markdown",
   "metadata": {},
   "source": [
    "#### Question 4\n",
    "Access the number 3 in the list below."
   ]
  },
  {
   "cell_type": "code",
   "execution_count": null,
   "metadata": {},
   "outputs": [],
   "source": [
    "confuse = [8, [[[2, [4]], 6, [7, 1], 3], 0, 5], 9]\n",
    "# Type answer here."
   ]
  },
  {
   "cell_type": "markdown",
   "metadata": {},
   "source": [
    "#### Question 5\n",
    "Using the map method, add the letter 's' to each string in the list below."
   ]
  },
  {
   "cell_type": "code",
   "execution_count": 33,
   "metadata": {},
   "outputs": [],
   "source": [
    "add_s = [\"among u\", \"su\", \"imposter\"]\n",
    "# Type answer here."
   ]
  },
  {
   "cell_type": "markdown",
   "metadata": {},
   "source": [
    "#### Question 6\n",
    "Define a function that takes in a single number and returns the absolute value of that number."
   ]
  },
  {
   "cell_type": "code",
   "execution_count": 34,
   "metadata": {},
   "outputs": [],
   "source": [
    "# Type answer here."
   ]
  },
  {
   "cell_type": "markdown",
   "metadata": {},
   "source": [
    "### SECTION 2\n",
    "Feel free to do these questions after the workshop is over to further build on your Python skills. Some of these are a bit hard so don't feel demotivated if you can't get them immediately. Don't shy away from venturing outside of the details outlined in the reference document and looking up things online or asking any of the beginner track officers."
   ]
  },
  {
   "cell_type": "markdown",
   "metadata": {},
   "source": [
    "#### Question 1\n",
    "Define a function that takes in a single number as seconds and returns the number of years that number represents."
   ]
  },
  {
   "cell_type": "code",
   "execution_count": 36,
   "metadata": {},
   "outputs": [],
   "source": [
    "def seconds_to_years(seconds):\n",
    "    # Type answer here.\n",
    "    return None"
   ]
  },
  {
   "cell_type": "markdown",
   "metadata": {},
   "source": [
    "#### Question 2\n",
    "Define a function that takes in a list and a number as parameters and removes the entry at that number (position), shifting all entries after that position down the list and replacing the last entry with -1. If this can be successfully done, return the array itself, otherwise return \"ERROR\".\n",
    "\n",
    "Remember, the first entry in a list is considered to be at position 0!\n",
    "\n",
    "Example: ([1,2,3,4,5], 1) => [1,3,4,5,-1]\n",
    "\n",
    "Example: ([1,2,3,4,5], 10) => \"ERROR\"  "
   ]
  },
  {
   "cell_type": "code",
   "execution_count": 48,
   "metadata": {},
   "outputs": [],
   "source": [
    "def filter(array, pos):\n",
    "    # Type answer here.\n",
    "    return None"
   ]
  },
  {
   "cell_type": "markdown",
   "metadata": {},
   "source": [
    "#### Question 3\n",
    "Define a function that sorts a given list of numbers in ascending order."
   ]
  },
  {
   "cell_type": "code",
   "execution_count": 49,
   "metadata": {},
   "outputs": [],
   "source": [
    "def asc(array):\n",
    "    # Type answer here.\n",
    "    return None"
   ]
  },
  {
   "cell_type": "markdown",
   "metadata": {},
   "source": [
    "#### Question 4\n",
    "Using a lambda function and the map method, print the phrase \"SOME_WORD is a palindrome.\" if the word in the list below is a palindrome or \"SOME_WORD is not a palindrome.\" if it isn't.\n",
    "\n",
    "Example: \"racecar is a palindrome.\"\n",
    "\n",
    "Example: \"pandas is not a palindrome.\""
   ]
  },
  {
   "cell_type": "code",
   "execution_count": 50,
   "metadata": {},
   "outputs": [],
   "source": [
    "words = ['racecar', 'python', 'pandas', 'nun', 'madam', 'lambda']\n",
    "# Type answer here."
   ]
  },
  {
   "cell_type": "markdown",
   "metadata": {},
   "source": [
    "#### Question 5\n",
    "Define a function that takes a list as its only parameter and returns the first entry in the list that is repeated.\n",
    "If no such entry is found, return -1.\n",
    "\n",
    "Example: ([1,2,3,2,4,5,4]) => 2\n",
    "\n",
    "Example: ([1,2,3]) => -1"
   ]
  },
  {
   "cell_type": "code",
   "execution_count": 51,
   "metadata": {},
   "outputs": [],
   "source": [
    "def repeat(array):\n",
    "    # Type answer here.\n",
    "    return None"
   ]
  }
 ],
 "metadata": {
  "kernelspec": {
   "display_name": "Python 3",
   "language": "python",
   "name": "python3"
  },
  "language_info": {
   "codemirror_mode": {
    "name": "ipython",
    "version": 3
   },
   "file_extension": ".py",
   "mimetype": "text/x-python",
   "name": "python",
   "nbconvert_exporter": "python",
   "pygments_lexer": "ipython3",
   "version": "3.7.6"
  }
 },
 "nbformat": 4,
 "nbformat_minor": 4
}

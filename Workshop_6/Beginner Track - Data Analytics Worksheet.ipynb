{
 "cells": [
  {
   "cell_type": "markdown",
   "metadata": {},
   "source": [
    "# ACM AI Beginner Track\n",
    "## Worksheet questions for the Data Analytics workshop\n",
    "This worksheet contains questions to help you improve your familiarity with Python's Numpy and Pandas libraries. \n",
    "\n",
    "It's divided into two parts: **section one** for questions to be done during the workshop and **section two** for questions you can work on in your own time after the workshop."
   ]
  },
  {
   "cell_type": "markdown",
   "metadata": {},
   "source": [
    "### SECTION 1\n",
    "Do these questions during the workshop once we tell you to."
   ]
  },
  {
   "cell_type": "code",
   "execution_count": 1,
   "metadata": {},
   "outputs": [],
   "source": [
    "import numpy as np\n",
    "import pandas as pd"
   ]
  },
  {
   "cell_type": "markdown",
   "metadata": {},
   "source": [
    "#### Question 1\n",
    "Create a numpy array of shape 3x3 over an interval between 1 and 99."
   ]
  },
  {
   "cell_type": "code",
   "execution_count": 7,
   "metadata": {},
   "outputs": [],
   "source": [
    "# Type answer here."
   ]
  },
  {
   "cell_type": "markdown",
   "metadata": {},
   "source": [
    "#### Question 2\n",
    "Create a random numpy array of shape 20x5 and get the difference between the maximum values in the first and last row."
   ]
  },
  {
   "cell_type": "code",
   "execution_count": 16,
   "metadata": {},
   "outputs": [],
   "source": [
    "# Type answer here."
   ]
  },
  {
   "cell_type": "markdown",
   "metadata": {},
   "source": [
    "#### Question 3\n",
    "Create two random numpy array of integers of shape 5x1 and perform an elementwise multiplication of the arrays. "
   ]
  },
  {
   "cell_type": "code",
   "execution_count": 61,
   "metadata": {},
   "outputs": [],
   "source": [
    "# Type answer here."
   ]
  },
  {
   "cell_type": "markdown",
   "metadata": {},
   "source": [
    "#### Question 4\n",
    "Get the array containing the first 5 rows and columns 5 to 8 of the array below."
   ]
  },
  {
   "cell_type": "code",
   "execution_count": 38,
   "metadata": {},
   "outputs": [],
   "source": [
    "slice_me_up = np.random.randint(0, 100, 400)\n",
    "slice_me_up = slice_me_up.reshape(20,20)\n",
    "# Type answer here."
   ]
  },
  {
   "cell_type": "markdown",
   "metadata": {},
   "source": [
    "#### Question 5\n",
    "Create a Pandas series of 10 numbers with any arbitrary index using a dictionary. Print the first value in the series."
   ]
  },
  {
   "cell_type": "code",
   "execution_count": 53,
   "metadata": {},
   "outputs": [],
   "source": [
    "# Type answer here."
   ]
  },
  {
   "cell_type": "markdown",
   "metadata": {},
   "source": [
    "#### Question 6\n",
    "Create a 10x9 Pandas dataframe of random integers using Numpy arrays and add a new column to the dataframe using the series created in the previous question."
   ]
  },
  {
   "cell_type": "code",
   "execution_count": 60,
   "metadata": {},
   "outputs": [],
   "source": [
    "# Type answer here."
   ]
  },
  {
   "cell_type": "markdown",
   "metadata": {},
   "source": [
    "#### Question 7\n",
    "Find and permanently drop the row in the DataFrame you made above that has the minimum sum."
   ]
  },
  {
   "cell_type": "code",
   "execution_count": 62,
   "metadata": {},
   "outputs": [],
   "source": [
    "# Type answer here."
   ]
  },
  {
   "cell_type": "markdown",
   "metadata": {},
   "source": [
    "#### Question 8\n",
    "From the DataFrame below, get all the values in column 'X' that are greater than 2020."
   ]
  },
  {
   "cell_type": "code",
   "execution_count": 81,
   "metadata": {},
   "outputs": [
    {
     "data": {
      "text/html": [
       "<div>\n",
       "<style scoped>\n",
       "    .dataframe tbody tr th:only-of-type {\n",
       "        vertical-align: middle;\n",
       "    }\n",
       "\n",
       "    .dataframe tbody tr th {\n",
       "        vertical-align: top;\n",
       "    }\n",
       "\n",
       "    .dataframe thead th {\n",
       "        text-align: right;\n",
       "    }\n",
       "</style>\n",
       "<table border=\"1\" class=\"dataframe\">\n",
       "  <thead>\n",
       "    <tr style=\"text-align: right;\">\n",
       "      <th></th>\n",
       "      <th>U</th>\n",
       "      <th>V</th>\n",
       "      <th>W</th>\n",
       "      <th>X</th>\n",
       "      <th>Y</th>\n",
       "      <th>Z</th>\n",
       "    </tr>\n",
       "  </thead>\n",
       "  <tbody>\n",
       "    <tr>\n",
       "      <th>A</th>\n",
       "      <td>1903</td>\n",
       "      <td>1967</td>\n",
       "      <td>2053</td>\n",
       "      <td>2043</td>\n",
       "      <td>1937</td>\n",
       "      <td>1978</td>\n",
       "    </tr>\n",
       "    <tr>\n",
       "      <th>B</th>\n",
       "      <td>1904</td>\n",
       "      <td>1983</td>\n",
       "      <td>1927</td>\n",
       "      <td>2012</td>\n",
       "      <td>2030</td>\n",
       "      <td>2010</td>\n",
       "    </tr>\n",
       "    <tr>\n",
       "      <th>C</th>\n",
       "      <td>2061</td>\n",
       "      <td>1969</td>\n",
       "      <td>2078</td>\n",
       "      <td>1959</td>\n",
       "      <td>1998</td>\n",
       "      <td>1932</td>\n",
       "    </tr>\n",
       "    <tr>\n",
       "      <th>D</th>\n",
       "      <td>2002</td>\n",
       "      <td>1934</td>\n",
       "      <td>2056</td>\n",
       "      <td>2060</td>\n",
       "      <td>2089</td>\n",
       "      <td>2071</td>\n",
       "    </tr>\n",
       "    <tr>\n",
       "      <th>E</th>\n",
       "      <td>1944</td>\n",
       "      <td>1916</td>\n",
       "      <td>1924</td>\n",
       "      <td>2001</td>\n",
       "      <td>1968</td>\n",
       "      <td>2078</td>\n",
       "    </tr>\n",
       "    <tr>\n",
       "      <th>F</th>\n",
       "      <td>1970</td>\n",
       "      <td>1928</td>\n",
       "      <td>2078</td>\n",
       "      <td>1973</td>\n",
       "      <td>1951</td>\n",
       "      <td>2088</td>\n",
       "    </tr>\n",
       "  </tbody>\n",
       "</table>\n",
       "</div>"
      ],
      "text/plain": [
       "      U     V     W     X     Y     Z\n",
       "A  1903  1967  2053  2043  1937  1978\n",
       "B  1904  1983  1927  2012  2030  2010\n",
       "C  2061  1969  2078  1959  1998  1932\n",
       "D  2002  1934  2056  2060  2089  2071\n",
       "E  1944  1916  1924  2001  1968  2078\n",
       "F  1970  1928  2078  1973  1951  2088"
      ]
     },
     "execution_count": 81,
     "metadata": {},
     "output_type": "execute_result"
    }
   ],
   "source": [
    "random_numbers = pd.DataFrame(data = np.random.randint(1900, 2100, 36).reshape(6,6), \n",
    "                              index=['A', 'B', 'C', 'D', 'E', 'F'],\n",
    "                              columns=['U', 'V', 'W', 'X', 'Y', 'Z'])\n",
    "random_numbers"
   ]
  },
  {
   "cell_type": "code",
   "execution_count": 83,
   "metadata": {},
   "outputs": [],
   "source": [
    "# Type answer here."
   ]
  },
  {
   "cell_type": "markdown",
   "metadata": {},
   "source": [
    "### SECTION 2\n",
    "Feel free to do these questions after the workshop is over to further build on your Numpy and Pandas skills. Some of these are a bit hard so don't feel demotivated if you can't get them immediately. Don't shy away from venturing outside of the details outlined in the reference document and looking up things online or asking any of the beginner track officers."
   ]
  },
  {
   "cell_type": "code",
   "execution_count": null,
   "metadata": {},
   "outputs": [],
   "source": []
  }
 ],
 "metadata": {
  "kernelspec": {
   "display_name": "Python 3",
   "language": "python",
   "name": "python3"
  },
  "language_info": {
   "codemirror_mode": {
    "name": "ipython",
    "version": 3
   },
   "file_extension": ".py",
   "mimetype": "text/x-python",
   "name": "python",
   "nbconvert_exporter": "python",
   "pygments_lexer": "ipython3",
   "version": "3.7.6"
  }
 },
 "nbformat": 4,
 "nbformat_minor": 4
}

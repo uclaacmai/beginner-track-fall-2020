{
 "cells": [
  {
   "cell_type": "markdown",
   "metadata": {},
   "source": [
    "# ACM AI Beginner Track\n",
    "## Walkthrough for the Data Analytics workshop\n",
    "This document contains all the details of the Data Analytics workshop that need to be shown to students participating in the AI Beginner Track."
   ]
  },
  {
   "cell_type": "markdown",
   "metadata": {},
   "source": [
    "**Begin by demonstrating how to import the Numpy and Pandas libraries.**"
   ]
  },
  {
   "cell_type": "code",
   "execution_count": 1,
   "metadata": {},
   "outputs": [],
   "source": [
    "import numpy as np\n",
    "import pandas as pd"
   ]
  },
  {
   "cell_type": "markdown",
   "metadata": {},
   "source": [
    "**Demonstrate how to create a Numpy array. Highlight differences between vectors and matrices.**"
   ]
  },
  {
   "cell_type": "code",
   "execution_count": 3,
   "metadata": {},
   "outputs": [
    {
     "data": {
      "text/plain": [
       "array([1, 2, 3, 4, 5, 6, 7, 8, 9])"
      ]
     },
     "execution_count": 3,
     "metadata": {},
     "output_type": "execute_result"
    }
   ],
   "source": [
    "np.array([1,2,3,4,5,6,7,8,9])"
   ]
  },
  {
   "cell_type": "code",
   "execution_count": 4,
   "metadata": {},
   "outputs": [
    {
     "data": {
      "text/plain": [
       "array([[1, 2, 3],\n",
       "       [4, 5, 6],\n",
       "       [7, 8, 9]])"
      ]
     },
     "execution_count": 4,
     "metadata": {},
     "output_type": "execute_result"
    }
   ],
   "source": [
    "np.array([[1,2,3], [4,5,6], [7,8,9]])"
   ]
  },
  {
   "cell_type": "markdown",
   "metadata": {},
   "source": [
    "**Creating an array within and over an interval.**"
   ]
  },
  {
   "cell_type": "code",
   "execution_count": 16,
   "metadata": {},
   "outputs": [
    {
     "data": {
      "text/plain": [
       "array([1, 2, 3, 4, 5, 6, 7, 8, 9])"
      ]
     },
     "execution_count": 16,
     "metadata": {},
     "output_type": "execute_result"
    }
   ],
   "source": [
    "# np.arange(lower_bound, upper_bound, spacing)\n",
    "np.arange(1,10,1)"
   ]
  },
  {
   "cell_type": "code",
   "execution_count": 14,
   "metadata": {},
   "outputs": [
    {
     "data": {
      "text/plain": [
       "array([1, 3, 5, 7, 9])"
      ]
     },
     "execution_count": 14,
     "metadata": {},
     "output_type": "execute_result"
    }
   ],
   "source": [
    "np.arange(1,10,2)"
   ]
  },
  {
   "cell_type": "code",
   "execution_count": 15,
   "metadata": {},
   "outputs": [
    {
     "data": {
      "text/plain": [
       "array([1, 4, 7])"
      ]
     },
     "execution_count": 15,
     "metadata": {},
     "output_type": "execute_result"
    }
   ],
   "source": [
    "np.arange(1,10,3)"
   ]
  },
  {
   "cell_type": "code",
   "execution_count": 17,
   "metadata": {},
   "outputs": [
    {
     "data": {
      "text/plain": [
       "array([ 1.,  2.,  3.,  4.,  5.,  6.,  7.,  8.,  9., 10.])"
      ]
     },
     "execution_count": 17,
     "metadata": {},
     "output_type": "execute_result"
    }
   ],
   "source": [
    "# np.linspace(lower_bound, upper_bound, number_of_values)\n",
    "np.linspace(1,10,10)"
   ]
  },
  {
   "cell_type": "code",
   "execution_count": 19,
   "metadata": {},
   "outputs": [
    {
     "data": {
      "text/plain": [
       "array([ 1.  ,  3.25,  5.5 ,  7.75, 10.  ])"
      ]
     },
     "execution_count": 19,
     "metadata": {},
     "output_type": "execute_result"
    }
   ],
   "source": [
    "np.linspace(1,10, 5)"
   ]
  },
  {
   "cell_type": "markdown",
   "metadata": {},
   "source": [
    "**Creating an array of random values.**"
   ]
  },
  {
   "cell_type": "code",
   "execution_count": 20,
   "metadata": {},
   "outputs": [
    {
     "data": {
      "text/plain": [
       "3"
      ]
     },
     "execution_count": 20,
     "metadata": {},
     "output_type": "execute_result"
    }
   ],
   "source": [
    "# Random number between 1 and 10.\n",
    "np.random.randint(1,10)"
   ]
  },
  {
   "cell_type": "code",
   "execution_count": 22,
   "metadata": {},
   "outputs": [
    {
     "data": {
      "text/plain": [
       "array([6, 7, 4, 2, 6])"
      ]
     },
     "execution_count": 22,
     "metadata": {},
     "output_type": "execute_result"
    }
   ],
   "source": [
    "# Five random numbers between 1 and 10.\n",
    "np.random.randint(1,10, 5)"
   ]
  },
  {
   "cell_type": "code",
   "execution_count": 24,
   "metadata": {},
   "outputs": [
    {
     "data": {
      "text/plain": [
       "array([0.91579902, 0.00192366, 0.46134018, 0.45634536, 0.75895027,\n",
       "       0.08286168, 0.23453266, 0.56508013, 0.57009967, 0.64946642])"
      ]
     },
     "execution_count": 24,
     "metadata": {},
     "output_type": "execute_result"
    }
   ],
   "source": [
    "# Ten random values between 0 inclusive and 1 exclusive.\n",
    "np.random.rand(10)"
   ]
  },
  {
   "cell_type": "code",
   "execution_count": 28,
   "metadata": {},
   "outputs": [
    {
     "data": {
      "text/plain": [
       "array([ 0.35089016, -0.41316642, -0.40191492, -0.9670939 ,  0.28710696,\n",
       "       -1.53575363, -0.27459666,  0.56416427, -1.04595812, -0.53421185])"
      ]
     },
     "execution_count": 28,
     "metadata": {},
     "output_type": "execute_result"
    }
   ],
   "source": [
    "# Ten random values from the standard normal distribution.\n",
    "np.random.randn(10)"
   ]
  },
  {
   "cell_type": "code",
   "execution_count": 33,
   "metadata": {},
   "outputs": [
    {
     "data": {
      "text/plain": [
       "array([[-0.78470825, -0.3009308 , -0.97034251,  1.41170743, -0.76681071],\n",
       "       [ 1.85334106, -0.56161042,  0.60727931, -0.73539151, -0.41463352],\n",
       "       [-0.26068733,  0.02082152, -0.02376478,  1.60272834, -0.1091803 ],\n",
       "       [ 1.93477099, -1.00939486, -0.29990982,  0.389838  ,  1.018366  ],\n",
       "       [-0.7376452 , -1.43321537,  0.62090993, -0.45446043,  0.34033139]])"
      ]
     },
     "execution_count": 33,
     "metadata": {},
     "output_type": "execute_result"
    }
   ],
   "source": [
    "# 5x5 matrix of random values from the standard normal distribution.\n",
    "np.random.randn(5,5)"
   ]
  },
  {
   "cell_type": "markdown",
   "metadata": {},
   "source": [
    "**Show various Numpy array attributes.**"
   ]
  },
  {
   "cell_type": "code",
   "execution_count": 57,
   "metadata": {},
   "outputs": [
    {
     "data": {
      "text/plain": [
       "array([47, 62, 94, 37, 88, 30,  8, 48, 75,  9, 93, 64,  9, 54, 15, 38, 69,\n",
       "       56, 87, 63, 30, 41, 93,  2, 25, 28, 31, 56, 97, 97, 36, 42, 74,  6,\n",
       "       38, 79,  4, 89, 74, 11, 49, 78, 62, 39,  7, 51, 72,  7, 36, 22, 24,\n",
       "       93, 31, 27, 29, 39, 71, 75, 44,  4, 66, 62, 31, 75, 82, 76, 65, 81,\n",
       "       26,  5, 49, 52,  4, 21, 15, 33, 16, 44, 64, 28, 35, 69, 64, 45, 67,\n",
       "       56, 20, 31, 62, 77, 21, 62,  6, 27, 56, 91,  9, 87, 75, 88])"
      ]
     },
     "execution_count": 57,
     "metadata": {},
     "output_type": "execute_result"
    }
   ],
   "source": [
    "np_array = np.random.randint(0,99, 100)\n",
    "np_array"
   ]
  },
  {
   "cell_type": "code",
   "execution_count": 58,
   "metadata": {},
   "outputs": [
    {
     "data": {
      "text/plain": [
       "array([[47, 62, 94, 37, 88, 30,  8, 48, 75,  9],\n",
       "       [93, 64,  9, 54, 15, 38, 69, 56, 87, 63],\n",
       "       [30, 41, 93,  2, 25, 28, 31, 56, 97, 97],\n",
       "       [36, 42, 74,  6, 38, 79,  4, 89, 74, 11],\n",
       "       [49, 78, 62, 39,  7, 51, 72,  7, 36, 22],\n",
       "       [24, 93, 31, 27, 29, 39, 71, 75, 44,  4],\n",
       "       [66, 62, 31, 75, 82, 76, 65, 81, 26,  5],\n",
       "       [49, 52,  4, 21, 15, 33, 16, 44, 64, 28],\n",
       "       [35, 69, 64, 45, 67, 56, 20, 31, 62, 77],\n",
       "       [21, 62,  6, 27, 56, 91,  9, 87, 75, 88]])"
      ]
     },
     "execution_count": 58,
     "metadata": {},
     "output_type": "execute_result"
    }
   ],
   "source": [
    "np_array = np_array.reshape(10,10)\n",
    "np_array"
   ]
  },
  {
   "cell_type": "code",
   "execution_count": 59,
   "metadata": {},
   "outputs": [
    {
     "data": {
      "text/plain": [
       "97"
      ]
     },
     "execution_count": 59,
     "metadata": {},
     "output_type": "execute_result"
    }
   ],
   "source": [
    "np_array.max()"
   ]
  },
  {
   "cell_type": "code",
   "execution_count": 60,
   "metadata": {},
   "outputs": [
    {
     "data": {
      "text/plain": [
       "48.02"
      ]
     },
     "execution_count": 60,
     "metadata": {},
     "output_type": "execute_result"
    }
   ],
   "source": [
    "np_array.mean()"
   ]
  },
  {
   "cell_type": "code",
   "execution_count": 61,
   "metadata": {},
   "outputs": [
    {
     "data": {
      "text/plain": [
       "23"
      ]
     },
     "execution_count": 61,
     "metadata": {},
     "output_type": "execute_result"
    }
   ],
   "source": [
    "np_array.argmin()"
   ]
  },
  {
   "cell_type": "code",
   "execution_count": 62,
   "metadata": {},
   "outputs": [
    {
     "data": {
      "text/plain": [
       "(10, 10)"
      ]
     },
     "execution_count": 62,
     "metadata": {},
     "output_type": "execute_result"
    }
   ],
   "source": [
    "np_array.shape"
   ]
  },
  {
   "cell_type": "markdown",
   "metadata": {},
   "source": [
    "**Demonstrate array selection and broadcasting**"
   ]
  },
  {
   "cell_type": "code",
   "execution_count": 63,
   "metadata": {},
   "outputs": [
    {
     "data": {
      "text/plain": [
       "array([[47, 62, 94, 37, 88, 30,  8, 48, 75,  9],\n",
       "       [93, 64,  9, 54, 15, 38, 69, 56, 87, 63],\n",
       "       [30, 41, 93,  2, 25, 28, 31, 56, 97, 97],\n",
       "       [36, 42, 74,  6, 38, 79,  4, 89, 74, 11],\n",
       "       [49, 78, 62, 39,  7, 51, 72,  7, 36, 22],\n",
       "       [24, 93, 31, 27, 29, 39, 71, 75, 44,  4],\n",
       "       [66, 62, 31, 75, 82, 76, 65, 81, 26,  5],\n",
       "       [49, 52,  4, 21, 15, 33, 16, 44, 64, 28],\n",
       "       [35, 69, 64, 45, 67, 56, 20, 31, 62, 77],\n",
       "       [21, 62,  6, 27, 56, 91,  9, 87, 75, 88]])"
      ]
     },
     "execution_count": 63,
     "metadata": {},
     "output_type": "execute_result"
    }
   ],
   "source": [
    "np_array"
   ]
  },
  {
   "cell_type": "code",
   "execution_count": 69,
   "metadata": {},
   "outputs": [
    {
     "data": {
      "text/plain": [
       "47"
      ]
     },
     "execution_count": 69,
     "metadata": {},
     "output_type": "execute_result"
    }
   ],
   "source": [
    "np_array[0, 0]"
   ]
  },
  {
   "cell_type": "code",
   "execution_count": 70,
   "metadata": {},
   "outputs": [
    {
     "data": {
      "text/plain": [
       "array([[47, 62, 94, 37, 88, 30,  8, 48, 75,  9],\n",
       "       [93, 64,  9, 54, 15, 38, 69, 56, 87, 63],\n",
       "       [30, 41, 93,  2, 25, 28, 31, 56, 97, 97],\n",
       "       [36, 42, 74,  6, 38, 79,  4, 89, 74, 11],\n",
       "       [49, 78, 62, 39,  7, 51, 72,  7, 36, 22],\n",
       "       [24, 93, 31, 27, 29, 39, 71, 75, 44,  4],\n",
       "       [66, 62, 31, 75, 82, 76, 65, 81, 26,  5],\n",
       "       [49, 52,  4, 21, 15, 33, 16, 44, 64, 28],\n",
       "       [35, 69, 64, 45, 67, 56, 20, 31, 62, 77],\n",
       "       [21, 62,  6, 27, 56, 91,  9, 87, 75, 88]])"
      ]
     },
     "execution_count": 70,
     "metadata": {},
     "output_type": "execute_result"
    }
   ],
   "source": [
    "np_array[:]"
   ]
  },
  {
   "cell_type": "code",
   "execution_count": 72,
   "metadata": {},
   "outputs": [
    {
     "data": {
      "text/plain": [
       "array([[37, 88, 30,  8],\n",
       "       [54, 15, 38, 69],\n",
       "       [ 2, 25, 28, 31]])"
      ]
     },
     "execution_count": 72,
     "metadata": {},
     "output_type": "execute_result"
    }
   ],
   "source": [
    "# Getting values in first 3 rows and columns 3 to 7.\n",
    "np_array[0:3, 3:7]"
   ]
  },
  {
   "cell_type": "code",
   "execution_count": 74,
   "metadata": {},
   "outputs": [
    {
     "data": {
      "text/plain": [
       "array([[100,  62,  94,  37,  88,  30,   8,  48,  75,   9],\n",
       "       [ 93,  64,   9,  54,  15,  38,  69,  56,  87,  63],\n",
       "       [ 30,  41,  93,   2,  25,  28,  31,  56,  97,  97],\n",
       "       [ 36,  42,  74,   6,  38,  79,   4,  89,  74,  11],\n",
       "       [ 49,  78,  62,  39,   7,  51,  72,   7,  36,  22],\n",
       "       [ 24,  93,  31,  27,  29,  39,  71,  75,  44,   4],\n",
       "       [ 66,  62,  31,  75,  82,  76,  65,  81,  26,   5],\n",
       "       [ 49,  52,   4,  21,  15,  33,  16,  44,  64,  28],\n",
       "       [ 35,  69,  64,  45,  67,  56,  20,  31,  62,  77],\n",
       "       [ 21,  62,   6,  27,  56,  91,   9,  87,  75,  88]])"
      ]
     },
     "execution_count": 74,
     "metadata": {},
     "output_type": "execute_result"
    }
   ],
   "source": [
    "np_array[0,0] = 100\n",
    "np_array"
   ]
  },
  {
   "cell_type": "code",
   "execution_count": 75,
   "metadata": {},
   "outputs": [],
   "source": [
    "np_array_copy = np_array.copy()\n",
    "np_array_copy[0,0] = 1000"
   ]
  },
  {
   "cell_type": "code",
   "execution_count": 76,
   "metadata": {},
   "outputs": [
    {
     "data": {
      "text/plain": [
       "array([[100,  62,  94,  37,  88,  30,   8,  48,  75,   9],\n",
       "       [ 93,  64,   9,  54,  15,  38,  69,  56,  87,  63],\n",
       "       [ 30,  41,  93,   2,  25,  28,  31,  56,  97,  97],\n",
       "       [ 36,  42,  74,   6,  38,  79,   4,  89,  74,  11],\n",
       "       [ 49,  78,  62,  39,   7,  51,  72,   7,  36,  22],\n",
       "       [ 24,  93,  31,  27,  29,  39,  71,  75,  44,   4],\n",
       "       [ 66,  62,  31,  75,  82,  76,  65,  81,  26,   5],\n",
       "       [ 49,  52,   4,  21,  15,  33,  16,  44,  64,  28],\n",
       "       [ 35,  69,  64,  45,  67,  56,  20,  31,  62,  77],\n",
       "       [ 21,  62,   6,  27,  56,  91,   9,  87,  75,  88]])"
      ]
     },
     "execution_count": 76,
     "metadata": {},
     "output_type": "execute_result"
    }
   ],
   "source": [
    "np_array"
   ]
  },
  {
   "cell_type": "code",
   "execution_count": 77,
   "metadata": {},
   "outputs": [
    {
     "data": {
      "text/plain": [
       "array([[1000,   62,   94,   37,   88,   30,    8,   48,   75,    9],\n",
       "       [  93,   64,    9,   54,   15,   38,   69,   56,   87,   63],\n",
       "       [  30,   41,   93,    2,   25,   28,   31,   56,   97,   97],\n",
       "       [  36,   42,   74,    6,   38,   79,    4,   89,   74,   11],\n",
       "       [  49,   78,   62,   39,    7,   51,   72,    7,   36,   22],\n",
       "       [  24,   93,   31,   27,   29,   39,   71,   75,   44,    4],\n",
       "       [  66,   62,   31,   75,   82,   76,   65,   81,   26,    5],\n",
       "       [  49,   52,    4,   21,   15,   33,   16,   44,   64,   28],\n",
       "       [  35,   69,   64,   45,   67,   56,   20,   31,   62,   77],\n",
       "       [  21,   62,    6,   27,   56,   91,    9,   87,   75,   88]])"
      ]
     },
     "execution_count": 77,
     "metadata": {},
     "output_type": "execute_result"
    }
   ],
   "source": [
    "np_array_copy"
   ]
  },
  {
   "cell_type": "code",
   "execution_count": 78,
   "metadata": {},
   "outputs": [
    {
     "data": {
      "text/plain": [
       "array([[ True,  True,  True, False,  True, False, False, False,  True,\n",
       "        False],\n",
       "       [ True,  True, False,  True, False, False,  True,  True,  True,\n",
       "         True],\n",
       "       [False, False,  True, False, False, False, False,  True,  True,\n",
       "         True],\n",
       "       [False, False,  True, False, False,  True, False,  True,  True,\n",
       "        False],\n",
       "       [False,  True,  True, False, False,  True,  True, False, False,\n",
       "        False],\n",
       "       [False,  True, False, False, False, False,  True,  True, False,\n",
       "        False],\n",
       "       [ True,  True, False,  True,  True,  True,  True,  True, False,\n",
       "        False],\n",
       "       [False,  True, False, False, False, False, False, False,  True,\n",
       "        False],\n",
       "       [False,  True,  True, False,  True,  True, False, False,  True,\n",
       "         True],\n",
       "       [False,  True, False, False,  True,  True, False,  True,  True,\n",
       "         True]])"
      ]
     },
     "execution_count": 78,
     "metadata": {},
     "output_type": "execute_result"
    }
   ],
   "source": [
    "np_array > 50"
   ]
  },
  {
   "cell_type": "code",
   "execution_count": 86,
   "metadata": {},
   "outputs": [
    {
     "data": {
      "text/plain": [
       "array([100,  62,  94,  88,  75,  93,  64,  54,  69,  56,  87,  63,  93,\n",
       "        56,  97,  97,  74,  79,  89,  74,  78,  62,  51,  72,  93,  71,\n",
       "        75,  66,  62,  75,  82,  76,  65,  81,  52,  64,  69,  64,  67,\n",
       "        56,  62,  77,  62,  56,  91,  87,  75,  88])"
      ]
     },
     "execution_count": 86,
     "metadata": {},
     "output_type": "execute_result"
    }
   ],
   "source": [
    "np_array[np_array > 50]"
   ]
  },
  {
   "cell_type": "markdown",
   "metadata": {},
   "source": [
    "**Show universal array functions.**"
   ]
  },
  {
   "cell_type": "code",
   "execution_count": 87,
   "metadata": {},
   "outputs": [
    {
     "data": {
      "text/plain": [
       "array([[2.68811714e+43, 8.43835667e+26, 6.66317622e+40, 1.17191424e+16,\n",
       "        1.65163625e+38, 1.06864746e+13, 2.98095799e+03, 7.01673591e+20,\n",
       "        3.73324200e+32, 8.10308393e+03],\n",
       "       [2.45124554e+40, 6.23514908e+27, 8.10308393e+03, 2.83075330e+23,\n",
       "        3.26901737e+06, 3.18559318e+16, 9.25378173e+29, 2.09165950e+24,\n",
       "        6.07603023e+37, 2.29378316e+27],\n",
       "       [1.06864746e+13, 6.39843494e+17, 2.45124554e+40, 7.38905610e+00,\n",
       "        7.20048993e+10, 1.44625706e+12, 2.90488497e+13, 2.09165950e+24,\n",
       "        1.33833472e+42, 1.33833472e+42],\n",
       "       [4.31123155e+15, 1.73927494e+18, 1.37338298e+32, 4.03428793e+02,\n",
       "        3.18559318e+16, 2.03828107e+34, 5.45981500e+01, 4.48961282e+38,\n",
       "        1.37338298e+32, 5.98741417e+04],\n",
       "       [1.90734657e+21, 7.49841700e+33, 8.43835667e+26, 8.65934004e+16,\n",
       "        1.09663316e+03, 1.40934908e+22, 1.85867175e+31, 1.09663316e+03,\n",
       "        4.31123155e+15, 3.58491285e+09],\n",
       "       [2.64891221e+10, 2.45124554e+40, 2.90488497e+13, 5.32048241e+11,\n",
       "        3.93133430e+12, 8.65934004e+16, 6.83767123e+30, 3.73324200e+32,\n",
       "        1.28516001e+19, 5.45981500e+01],\n",
       "       [4.60718663e+28, 8.43835667e+26, 2.90488497e+13, 3.73324200e+32,\n",
       "        4.09399696e+35, 1.01480039e+33, 1.69488924e+28, 1.50609731e+35,\n",
       "        1.95729609e+11, 1.48413159e+02],\n",
       "       [1.90734657e+21, 3.83100800e+22, 5.45981500e+01, 1.31881573e+09,\n",
       "        3.26901737e+06, 2.14643580e+14, 8.88611052e+06, 1.28516001e+19,\n",
       "        6.23514908e+27, 1.44625706e+12],\n",
       "       [1.58601345e+15, 9.25378173e+29, 6.23514908e+27, 3.49342711e+19,\n",
       "        1.25236317e+29, 2.09165950e+24, 4.85165195e+08, 2.90488497e+13,\n",
       "        8.43835667e+26, 2.75851345e+33],\n",
       "       [1.31881573e+09, 8.43835667e+26, 4.03428793e+02, 5.32048241e+11,\n",
       "        2.09165950e+24, 3.31740010e+39, 8.10308393e+03, 6.07603023e+37,\n",
       "        3.73324200e+32, 1.65163625e+38]])"
      ]
     },
     "execution_count": 87,
     "metadata": {},
     "output_type": "execute_result"
    }
   ],
   "source": [
    "np.exp(np_array)"
   ]
  },
  {
   "cell_type": "code",
   "execution_count": 88,
   "metadata": {},
   "outputs": [
    {
     "data": {
      "text/plain": [
       "array([[-0.50636564, -0.7391807 , -0.24525199, -0.64353813,  0.0353983 ,\n",
       "        -0.98803162,  0.98935825, -0.76825466, -0.38778164,  0.41211849],\n",
       "       [-0.94828214,  0.92002604,  0.41211849, -0.55878905,  0.65028784,\n",
       "         0.29636858, -0.11478481, -0.521551  , -0.82181784,  0.1673557 ],\n",
       "       [-0.98803162, -0.15862267, -0.94828214,  0.90929743, -0.13235175,\n",
       "         0.27090579, -0.40403765, -0.521551  ,  0.37960774,  0.37960774],\n",
       "       [-0.99177885, -0.91652155, -0.98514626, -0.2794155 ,  0.29636858,\n",
       "        -0.44411267, -0.7568025 ,  0.86006941, -0.98514626, -0.99999021],\n",
       "       [-0.95375265,  0.51397846, -0.7391807 ,  0.96379539,  0.6569866 ,\n",
       "         0.67022918,  0.25382336,  0.6569866 , -0.99177885, -0.00885131],\n",
       "       [-0.90557836, -0.94828214, -0.40403765,  0.95637593, -0.66363388,\n",
       "         0.96379539,  0.95105465, -0.38778164,  0.01770193, -0.7568025 ],\n",
       "       [-0.02655115, -0.7391807 , -0.40403765, -0.38778164,  0.31322878,\n",
       "         0.56610764,  0.82682868, -0.62988799,  0.76255845, -0.95892427],\n",
       "       [-0.95375265,  0.98662759, -0.7568025 ,  0.83665564,  0.65028784,\n",
       "         0.99991186, -0.28790332,  0.01770193,  0.92002604,  0.27090579],\n",
       "       [-0.42818267, -0.11478481,  0.92002604,  0.85090352, -0.85551998,\n",
       "        -0.521551  ,  0.91294525, -0.40403765, -0.7391807 ,  0.99952016],\n",
       "       [ 0.83665564, -0.7391807 , -0.2794155 ,  0.95637593, -0.521551  ,\n",
       "         0.10598751,  0.41211849, -0.82181784, -0.38778164,  0.0353983 ]])"
      ]
     },
     "execution_count": 88,
     "metadata": {},
     "output_type": "execute_result"
    }
   ],
   "source": [
    "np.sin(np_array)"
   ]
  },
  {
   "cell_type": "markdown",
   "metadata": {},
   "source": [
    "**Creating Pandas series.**"
   ]
  },
  {
   "cell_type": "code",
   "execution_count": 96,
   "metadata": {},
   "outputs": [
    {
     "data": {
      "text/plain": [
       "A    1\n",
       "B    2\n",
       "C    3\n",
       "D    4\n",
       "E    5\n",
       "dtype: int64"
      ]
     },
     "execution_count": 96,
     "metadata": {},
     "output_type": "execute_result"
    }
   ],
   "source": [
    "# Pandas series have both an index and values.\n",
    "some_series = pd.Series(data=[1,2,3,4,5], index=['A', 'B', 'C', 'D', 'E'])\n",
    "some_series"
   ]
  },
  {
   "cell_type": "code",
   "execution_count": 97,
   "metadata": {},
   "outputs": [
    {
     "data": {
      "text/plain": [
       "1"
      ]
     },
     "execution_count": 97,
     "metadata": {},
     "output_type": "execute_result"
    }
   ],
   "source": [
    "# You can use the index to access values.\n",
    "some_series['A']"
   ]
  },
  {
   "cell_type": "code",
   "execution_count": 99,
   "metadata": {},
   "outputs": [
    {
     "data": {
      "text/plain": [
       "A    11\n",
       "B    22\n",
       "C    33\n",
       "D    44\n",
       "E    55\n",
       "dtype: int64"
      ]
     },
     "execution_count": 99,
     "metadata": {},
     "output_type": "execute_result"
    }
   ],
   "source": [
    "# You can also carry out elementwise operations between two series.\n",
    "another_series = pd.Series(data=[10,20,30,40,50], index=['A', 'B', 'C', 'D', 'E'])\n",
    "\n",
    "some_series + another_series"
   ]
  },
  {
   "cell_type": "markdown",
   "metadata": {},
   "source": [
    "**Creating a Pandas Dataframe.**"
   ]
  },
  {
   "cell_type": "code",
   "execution_count": 121,
   "metadata": {},
   "outputs": [
    {
     "data": {
      "text/html": [
       "<div>\n",
       "<style scoped>\n",
       "    .dataframe tbody tr th:only-of-type {\n",
       "        vertical-align: middle;\n",
       "    }\n",
       "\n",
       "    .dataframe tbody tr th {\n",
       "        vertical-align: top;\n",
       "    }\n",
       "\n",
       "    .dataframe thead th {\n",
       "        text-align: right;\n",
       "    }\n",
       "</style>\n",
       "<table border=\"1\" class=\"dataframe\">\n",
       "  <thead>\n",
       "    <tr style=\"text-align: right;\">\n",
       "      <th></th>\n",
       "      <th>a</th>\n",
       "      <th>b</th>\n",
       "      <th>c</th>\n",
       "      <th>d</th>\n",
       "      <th>e</th>\n",
       "      <th>f</th>\n",
       "      <th>g</th>\n",
       "      <th>h</th>\n",
       "      <th>i</th>\n",
       "      <th>j</th>\n",
       "    </tr>\n",
       "  </thead>\n",
       "  <tbody>\n",
       "    <tr>\n",
       "      <th>A</th>\n",
       "      <td>100</td>\n",
       "      <td>62</td>\n",
       "      <td>94</td>\n",
       "      <td>37</td>\n",
       "      <td>88</td>\n",
       "      <td>30</td>\n",
       "      <td>8</td>\n",
       "      <td>48</td>\n",
       "      <td>75</td>\n",
       "      <td>9</td>\n",
       "    </tr>\n",
       "    <tr>\n",
       "      <th>B</th>\n",
       "      <td>93</td>\n",
       "      <td>64</td>\n",
       "      <td>9</td>\n",
       "      <td>54</td>\n",
       "      <td>15</td>\n",
       "      <td>38</td>\n",
       "      <td>69</td>\n",
       "      <td>56</td>\n",
       "      <td>87</td>\n",
       "      <td>63</td>\n",
       "    </tr>\n",
       "    <tr>\n",
       "      <th>C</th>\n",
       "      <td>30</td>\n",
       "      <td>41</td>\n",
       "      <td>93</td>\n",
       "      <td>2</td>\n",
       "      <td>25</td>\n",
       "      <td>28</td>\n",
       "      <td>31</td>\n",
       "      <td>56</td>\n",
       "      <td>97</td>\n",
       "      <td>97</td>\n",
       "    </tr>\n",
       "    <tr>\n",
       "      <th>D</th>\n",
       "      <td>36</td>\n",
       "      <td>42</td>\n",
       "      <td>74</td>\n",
       "      <td>6</td>\n",
       "      <td>38</td>\n",
       "      <td>79</td>\n",
       "      <td>4</td>\n",
       "      <td>89</td>\n",
       "      <td>74</td>\n",
       "      <td>11</td>\n",
       "    </tr>\n",
       "    <tr>\n",
       "      <th>E</th>\n",
       "      <td>49</td>\n",
       "      <td>78</td>\n",
       "      <td>62</td>\n",
       "      <td>39</td>\n",
       "      <td>7</td>\n",
       "      <td>51</td>\n",
       "      <td>72</td>\n",
       "      <td>7</td>\n",
       "      <td>36</td>\n",
       "      <td>22</td>\n",
       "    </tr>\n",
       "    <tr>\n",
       "      <th>F</th>\n",
       "      <td>24</td>\n",
       "      <td>93</td>\n",
       "      <td>31</td>\n",
       "      <td>27</td>\n",
       "      <td>29</td>\n",
       "      <td>39</td>\n",
       "      <td>71</td>\n",
       "      <td>75</td>\n",
       "      <td>44</td>\n",
       "      <td>4</td>\n",
       "    </tr>\n",
       "    <tr>\n",
       "      <th>G</th>\n",
       "      <td>66</td>\n",
       "      <td>62</td>\n",
       "      <td>31</td>\n",
       "      <td>75</td>\n",
       "      <td>82</td>\n",
       "      <td>76</td>\n",
       "      <td>65</td>\n",
       "      <td>81</td>\n",
       "      <td>26</td>\n",
       "      <td>5</td>\n",
       "    </tr>\n",
       "    <tr>\n",
       "      <th>H</th>\n",
       "      <td>49</td>\n",
       "      <td>52</td>\n",
       "      <td>4</td>\n",
       "      <td>21</td>\n",
       "      <td>15</td>\n",
       "      <td>33</td>\n",
       "      <td>16</td>\n",
       "      <td>44</td>\n",
       "      <td>64</td>\n",
       "      <td>28</td>\n",
       "    </tr>\n",
       "    <tr>\n",
       "      <th>I</th>\n",
       "      <td>35</td>\n",
       "      <td>69</td>\n",
       "      <td>64</td>\n",
       "      <td>45</td>\n",
       "      <td>67</td>\n",
       "      <td>56</td>\n",
       "      <td>20</td>\n",
       "      <td>31</td>\n",
       "      <td>62</td>\n",
       "      <td>77</td>\n",
       "    </tr>\n",
       "    <tr>\n",
       "      <th>J</th>\n",
       "      <td>21</td>\n",
       "      <td>62</td>\n",
       "      <td>6</td>\n",
       "      <td>27</td>\n",
       "      <td>56</td>\n",
       "      <td>91</td>\n",
       "      <td>9</td>\n",
       "      <td>87</td>\n",
       "      <td>75</td>\n",
       "      <td>88</td>\n",
       "    </tr>\n",
       "  </tbody>\n",
       "</table>\n",
       "</div>"
      ],
      "text/plain": [
       "     a   b   c   d   e   f   g   h   i   j\n",
       "A  100  62  94  37  88  30   8  48  75   9\n",
       "B   93  64   9  54  15  38  69  56  87  63\n",
       "C   30  41  93   2  25  28  31  56  97  97\n",
       "D   36  42  74   6  38  79   4  89  74  11\n",
       "E   49  78  62  39   7  51  72   7  36  22\n",
       "F   24  93  31  27  29  39  71  75  44   4\n",
       "G   66  62  31  75  82  76  65  81  26   5\n",
       "H   49  52   4  21  15  33  16  44  64  28\n",
       "I   35  69  64  45  67  56  20  31  62  77\n",
       "J   21  62   6  27  56  91   9  87  75  88"
      ]
     },
     "execution_count": 121,
     "metadata": {},
     "output_type": "execute_result"
    }
   ],
   "source": [
    "df = pd.DataFrame(data=np_array, \n",
    "                  index=['A', 'B', 'C', 'D', 'E', 'F', 'G', 'H', 'I', 'J'], \n",
    "                  columns=['a', 'b', 'c', 'd', 'e', 'f', 'g', 'h', 'i', 'j'])\n",
    "df"
   ]
  },
  {
   "cell_type": "code",
   "execution_count": 122,
   "metadata": {},
   "outputs": [
    {
     "data": {
      "text/plain": [
       "A    100\n",
       "B     93\n",
       "C     30\n",
       "D     36\n",
       "E     49\n",
       "F     24\n",
       "G     66\n",
       "H     49\n",
       "I     35\n",
       "J     21\n",
       "Name: a, dtype: int64"
      ]
     },
     "execution_count": 122,
     "metadata": {},
     "output_type": "execute_result"
    }
   ],
   "source": [
    "df['a']"
   ]
  },
  {
   "cell_type": "code",
   "execution_count": 123,
   "metadata": {},
   "outputs": [
    {
     "data": {
      "text/plain": [
       "dtype('int64')"
      ]
     },
     "execution_count": 123,
     "metadata": {},
     "output_type": "execute_result"
    }
   ],
   "source": [
    "df['a'].dtype"
   ]
  },
  {
   "cell_type": "markdown",
   "metadata": {},
   "source": [
    "Both columns and rows of a DataFrame are Pandas Series and therefore all the methods discussed before apply."
   ]
  },
  {
   "cell_type": "code",
   "execution_count": 124,
   "metadata": {},
   "outputs": [
    {
     "data": {
      "text/plain": [
       "pandas.core.series.Series"
      ]
     },
     "execution_count": 124,
     "metadata": {},
     "output_type": "execute_result"
    }
   ],
   "source": [
    "type(df['a'])"
   ]
  },
  {
   "cell_type": "code",
   "execution_count": 125,
   "metadata": {},
   "outputs": [
    {
     "data": {
      "text/plain": [
       "a    100\n",
       "b     62\n",
       "c     94\n",
       "d     37\n",
       "e     88\n",
       "f     30\n",
       "g      8\n",
       "h     48\n",
       "i     75\n",
       "j      9\n",
       "Name: A, dtype: int64"
      ]
     },
     "execution_count": 125,
     "metadata": {},
     "output_type": "execute_result"
    }
   ],
   "source": [
    "df.loc['A']"
   ]
  },
  {
   "cell_type": "code",
   "execution_count": 126,
   "metadata": {},
   "outputs": [
    {
     "data": {
      "text/plain": [
       "pandas.core.series.Series"
      ]
     },
     "execution_count": 126,
     "metadata": {},
     "output_type": "execute_result"
    }
   ],
   "source": [
    "type(df.loc['A'])"
   ]
  },
  {
   "cell_type": "markdown",
   "metadata": {},
   "source": [
    "**Adding and removing columns and rows.**"
   ]
  },
  {
   "cell_type": "code",
   "execution_count": 127,
   "metadata": {},
   "outputs": [
    {
     "data": {
      "text/html": [
       "<div>\n",
       "<style scoped>\n",
       "    .dataframe tbody tr th:only-of-type {\n",
       "        vertical-align: middle;\n",
       "    }\n",
       "\n",
       "    .dataframe tbody tr th {\n",
       "        vertical-align: top;\n",
       "    }\n",
       "\n",
       "    .dataframe thead th {\n",
       "        text-align: right;\n",
       "    }\n",
       "</style>\n",
       "<table border=\"1\" class=\"dataframe\">\n",
       "  <thead>\n",
       "    <tr style=\"text-align: right;\">\n",
       "      <th></th>\n",
       "      <th>a</th>\n",
       "      <th>b</th>\n",
       "      <th>c</th>\n",
       "      <th>d</th>\n",
       "      <th>e</th>\n",
       "      <th>f</th>\n",
       "      <th>g</th>\n",
       "      <th>h</th>\n",
       "      <th>i</th>\n",
       "      <th>j</th>\n",
       "      <th>z</th>\n",
       "    </tr>\n",
       "  </thead>\n",
       "  <tbody>\n",
       "    <tr>\n",
       "      <th>A</th>\n",
       "      <td>100</td>\n",
       "      <td>62</td>\n",
       "      <td>94</td>\n",
       "      <td>37</td>\n",
       "      <td>88</td>\n",
       "      <td>30</td>\n",
       "      <td>8</td>\n",
       "      <td>48</td>\n",
       "      <td>75</td>\n",
       "      <td>9</td>\n",
       "      <td>405</td>\n",
       "    </tr>\n",
       "    <tr>\n",
       "      <th>B</th>\n",
       "      <td>93</td>\n",
       "      <td>64</td>\n",
       "      <td>9</td>\n",
       "      <td>54</td>\n",
       "      <td>15</td>\n",
       "      <td>38</td>\n",
       "      <td>69</td>\n",
       "      <td>56</td>\n",
       "      <td>87</td>\n",
       "      <td>63</td>\n",
       "      <td>629</td>\n",
       "    </tr>\n",
       "    <tr>\n",
       "      <th>C</th>\n",
       "      <td>30</td>\n",
       "      <td>41</td>\n",
       "      <td>93</td>\n",
       "      <td>2</td>\n",
       "      <td>25</td>\n",
       "      <td>28</td>\n",
       "      <td>31</td>\n",
       "      <td>56</td>\n",
       "      <td>97</td>\n",
       "      <td>97</td>\n",
       "      <td>151</td>\n",
       "    </tr>\n",
       "    <tr>\n",
       "      <th>D</th>\n",
       "      <td>36</td>\n",
       "      <td>42</td>\n",
       "      <td>74</td>\n",
       "      <td>6</td>\n",
       "      <td>38</td>\n",
       "      <td>79</td>\n",
       "      <td>4</td>\n",
       "      <td>89</td>\n",
       "      <td>74</td>\n",
       "      <td>11</td>\n",
       "      <td>387</td>\n",
       "    </tr>\n",
       "    <tr>\n",
       "      <th>E</th>\n",
       "      <td>49</td>\n",
       "      <td>78</td>\n",
       "      <td>62</td>\n",
       "      <td>39</td>\n",
       "      <td>7</td>\n",
       "      <td>51</td>\n",
       "      <td>72</td>\n",
       "      <td>7</td>\n",
       "      <td>36</td>\n",
       "      <td>22</td>\n",
       "      <td>256</td>\n",
       "    </tr>\n",
       "    <tr>\n",
       "      <th>F</th>\n",
       "      <td>24</td>\n",
       "      <td>93</td>\n",
       "      <td>31</td>\n",
       "      <td>27</td>\n",
       "      <td>29</td>\n",
       "      <td>39</td>\n",
       "      <td>71</td>\n",
       "      <td>75</td>\n",
       "      <td>44</td>\n",
       "      <td>4</td>\n",
       "      <td>789</td>\n",
       "    </tr>\n",
       "    <tr>\n",
       "      <th>G</th>\n",
       "      <td>66</td>\n",
       "      <td>62</td>\n",
       "      <td>31</td>\n",
       "      <td>75</td>\n",
       "      <td>82</td>\n",
       "      <td>76</td>\n",
       "      <td>65</td>\n",
       "      <td>81</td>\n",
       "      <td>26</td>\n",
       "      <td>5</td>\n",
       "      <td>954</td>\n",
       "    </tr>\n",
       "    <tr>\n",
       "      <th>H</th>\n",
       "      <td>49</td>\n",
       "      <td>52</td>\n",
       "      <td>4</td>\n",
       "      <td>21</td>\n",
       "      <td>15</td>\n",
       "      <td>33</td>\n",
       "      <td>16</td>\n",
       "      <td>44</td>\n",
       "      <td>64</td>\n",
       "      <td>28</td>\n",
       "      <td>534</td>\n",
       "    </tr>\n",
       "    <tr>\n",
       "      <th>I</th>\n",
       "      <td>35</td>\n",
       "      <td>69</td>\n",
       "      <td>64</td>\n",
       "      <td>45</td>\n",
       "      <td>67</td>\n",
       "      <td>56</td>\n",
       "      <td>20</td>\n",
       "      <td>31</td>\n",
       "      <td>62</td>\n",
       "      <td>77</td>\n",
       "      <td>768</td>\n",
       "    </tr>\n",
       "    <tr>\n",
       "      <th>J</th>\n",
       "      <td>21</td>\n",
       "      <td>62</td>\n",
       "      <td>6</td>\n",
       "      <td>27</td>\n",
       "      <td>56</td>\n",
       "      <td>91</td>\n",
       "      <td>9</td>\n",
       "      <td>87</td>\n",
       "      <td>75</td>\n",
       "      <td>88</td>\n",
       "      <td>993</td>\n",
       "    </tr>\n",
       "  </tbody>\n",
       "</table>\n",
       "</div>"
      ],
      "text/plain": [
       "     a   b   c   d   e   f   g   h   i   j    z\n",
       "A  100  62  94  37  88  30   8  48  75   9  405\n",
       "B   93  64   9  54  15  38  69  56  87  63  629\n",
       "C   30  41  93   2  25  28  31  56  97  97  151\n",
       "D   36  42  74   6  38  79   4  89  74  11  387\n",
       "E   49  78  62  39   7  51  72   7  36  22  256\n",
       "F   24  93  31  27  29  39  71  75  44   4  789\n",
       "G   66  62  31  75  82  76  65  81  26   5  954\n",
       "H   49  52   4  21  15  33  16  44  64  28  534\n",
       "I   35  69  64  45  67  56  20  31  62  77  768\n",
       "J   21  62   6  27  56  91   9  87  75  88  993"
      ]
     },
     "execution_count": 127,
     "metadata": {},
     "output_type": "execute_result"
    }
   ],
   "source": [
    "df['z'] = pd.Series(data=np.random.randint(100,999,10), index=['A', 'B', 'C', 'D', 'E', 'F', 'G', 'H', 'I', 'J'])\n",
    "df"
   ]
  },
  {
   "cell_type": "code",
   "execution_count": 136,
   "metadata": {},
   "outputs": [
    {
     "data": {
      "text/html": [
       "<div>\n",
       "<style scoped>\n",
       "    .dataframe tbody tr th:only-of-type {\n",
       "        vertical-align: middle;\n",
       "    }\n",
       "\n",
       "    .dataframe tbody tr th {\n",
       "        vertical-align: top;\n",
       "    }\n",
       "\n",
       "    .dataframe thead th {\n",
       "        text-align: right;\n",
       "    }\n",
       "</style>\n",
       "<table border=\"1\" class=\"dataframe\">\n",
       "  <thead>\n",
       "    <tr style=\"text-align: right;\">\n",
       "      <th></th>\n",
       "      <th>a</th>\n",
       "      <th>b</th>\n",
       "      <th>c</th>\n",
       "      <th>d</th>\n",
       "      <th>e</th>\n",
       "      <th>f</th>\n",
       "      <th>g</th>\n",
       "      <th>h</th>\n",
       "      <th>i</th>\n",
       "      <th>j</th>\n",
       "      <th>z</th>\n",
       "    </tr>\n",
       "  </thead>\n",
       "  <tbody>\n",
       "    <tr>\n",
       "      <th>A</th>\n",
       "      <td>100</td>\n",
       "      <td>62</td>\n",
       "      <td>94</td>\n",
       "      <td>37</td>\n",
       "      <td>88</td>\n",
       "      <td>30</td>\n",
       "      <td>8</td>\n",
       "      <td>48</td>\n",
       "      <td>75</td>\n",
       "      <td>9</td>\n",
       "      <td>405</td>\n",
       "    </tr>\n",
       "    <tr>\n",
       "      <th>B</th>\n",
       "      <td>93</td>\n",
       "      <td>64</td>\n",
       "      <td>9</td>\n",
       "      <td>54</td>\n",
       "      <td>15</td>\n",
       "      <td>38</td>\n",
       "      <td>69</td>\n",
       "      <td>56</td>\n",
       "      <td>87</td>\n",
       "      <td>63</td>\n",
       "      <td>629</td>\n",
       "    </tr>\n",
       "    <tr>\n",
       "      <th>C</th>\n",
       "      <td>30</td>\n",
       "      <td>41</td>\n",
       "      <td>93</td>\n",
       "      <td>2</td>\n",
       "      <td>25</td>\n",
       "      <td>28</td>\n",
       "      <td>31</td>\n",
       "      <td>56</td>\n",
       "      <td>97</td>\n",
       "      <td>97</td>\n",
       "      <td>151</td>\n",
       "    </tr>\n",
       "    <tr>\n",
       "      <th>D</th>\n",
       "      <td>36</td>\n",
       "      <td>42</td>\n",
       "      <td>74</td>\n",
       "      <td>6</td>\n",
       "      <td>38</td>\n",
       "      <td>79</td>\n",
       "      <td>4</td>\n",
       "      <td>89</td>\n",
       "      <td>74</td>\n",
       "      <td>11</td>\n",
       "      <td>387</td>\n",
       "    </tr>\n",
       "    <tr>\n",
       "      <th>E</th>\n",
       "      <td>49</td>\n",
       "      <td>78</td>\n",
       "      <td>62</td>\n",
       "      <td>39</td>\n",
       "      <td>7</td>\n",
       "      <td>51</td>\n",
       "      <td>72</td>\n",
       "      <td>7</td>\n",
       "      <td>36</td>\n",
       "      <td>22</td>\n",
       "      <td>256</td>\n",
       "    </tr>\n",
       "    <tr>\n",
       "      <th>F</th>\n",
       "      <td>24</td>\n",
       "      <td>93</td>\n",
       "      <td>31</td>\n",
       "      <td>27</td>\n",
       "      <td>29</td>\n",
       "      <td>39</td>\n",
       "      <td>71</td>\n",
       "      <td>75</td>\n",
       "      <td>44</td>\n",
       "      <td>4</td>\n",
       "      <td>789</td>\n",
       "    </tr>\n",
       "    <tr>\n",
       "      <th>G</th>\n",
       "      <td>66</td>\n",
       "      <td>62</td>\n",
       "      <td>31</td>\n",
       "      <td>75</td>\n",
       "      <td>82</td>\n",
       "      <td>76</td>\n",
       "      <td>65</td>\n",
       "      <td>81</td>\n",
       "      <td>26</td>\n",
       "      <td>5</td>\n",
       "      <td>954</td>\n",
       "    </tr>\n",
       "    <tr>\n",
       "      <th>H</th>\n",
       "      <td>49</td>\n",
       "      <td>52</td>\n",
       "      <td>4</td>\n",
       "      <td>21</td>\n",
       "      <td>15</td>\n",
       "      <td>33</td>\n",
       "      <td>16</td>\n",
       "      <td>44</td>\n",
       "      <td>64</td>\n",
       "      <td>28</td>\n",
       "      <td>534</td>\n",
       "    </tr>\n",
       "    <tr>\n",
       "      <th>I</th>\n",
       "      <td>35</td>\n",
       "      <td>69</td>\n",
       "      <td>64</td>\n",
       "      <td>45</td>\n",
       "      <td>67</td>\n",
       "      <td>56</td>\n",
       "      <td>20</td>\n",
       "      <td>31</td>\n",
       "      <td>62</td>\n",
       "      <td>77</td>\n",
       "      <td>768</td>\n",
       "    </tr>\n",
       "    <tr>\n",
       "      <th>J</th>\n",
       "      <td>21</td>\n",
       "      <td>62</td>\n",
       "      <td>6</td>\n",
       "      <td>27</td>\n",
       "      <td>56</td>\n",
       "      <td>91</td>\n",
       "      <td>9</td>\n",
       "      <td>87</td>\n",
       "      <td>75</td>\n",
       "      <td>88</td>\n",
       "      <td>993</td>\n",
       "    </tr>\n",
       "    <tr>\n",
       "      <th>Z</th>\n",
       "      <td>398</td>\n",
       "      <td>474</td>\n",
       "      <td>239</td>\n",
       "      <td>812</td>\n",
       "      <td>527</td>\n",
       "      <td>662</td>\n",
       "      <td>603</td>\n",
       "      <td>270</td>\n",
       "      <td>488</td>\n",
       "      <td>588</td>\n",
       "      <td>485</td>\n",
       "    </tr>\n",
       "  </tbody>\n",
       "</table>\n",
       "</div>"
      ],
      "text/plain": [
       "     a    b    c    d    e    f    g    h    i    j    z\n",
       "A  100   62   94   37   88   30    8   48   75    9  405\n",
       "B   93   64    9   54   15   38   69   56   87   63  629\n",
       "C   30   41   93    2   25   28   31   56   97   97  151\n",
       "D   36   42   74    6   38   79    4   89   74   11  387\n",
       "E   49   78   62   39    7   51   72    7   36   22  256\n",
       "F   24   93   31   27   29   39   71   75   44    4  789\n",
       "G   66   62   31   75   82   76   65   81   26    5  954\n",
       "H   49   52    4   21   15   33   16   44   64   28  534\n",
       "I   35   69   64   45   67   56   20   31   62   77  768\n",
       "J   21   62    6   27   56   91    9   87   75   88  993\n",
       "Z  398  474  239  812  527  662  603  270  488  588  485"
      ]
     },
     "execution_count": 136,
     "metadata": {},
     "output_type": "execute_result"
    }
   ],
   "source": [
    "new_row = pd.Series(data=np.random.randint(100,999,11), index=['a', 'b', 'c', 'd', 'e', 'f', 'g', 'h', 'i', 'j', 'z'], name='Z')\n",
    "df = df.append(new_row)\n",
    "df"
   ]
  },
  {
   "cell_type": "code",
   "execution_count": 137,
   "metadata": {},
   "outputs": [
    {
     "data": {
      "text/html": [
       "<div>\n",
       "<style scoped>\n",
       "    .dataframe tbody tr th:only-of-type {\n",
       "        vertical-align: middle;\n",
       "    }\n",
       "\n",
       "    .dataframe tbody tr th {\n",
       "        vertical-align: top;\n",
       "    }\n",
       "\n",
       "    .dataframe thead th {\n",
       "        text-align: right;\n",
       "    }\n",
       "</style>\n",
       "<table border=\"1\" class=\"dataframe\">\n",
       "  <thead>\n",
       "    <tr style=\"text-align: right;\">\n",
       "      <th></th>\n",
       "      <th>a</th>\n",
       "      <th>b</th>\n",
       "      <th>c</th>\n",
       "      <th>d</th>\n",
       "      <th>e</th>\n",
       "      <th>f</th>\n",
       "      <th>g</th>\n",
       "      <th>h</th>\n",
       "      <th>i</th>\n",
       "      <th>j</th>\n",
       "      <th>z</th>\n",
       "    </tr>\n",
       "  </thead>\n",
       "  <tbody>\n",
       "    <tr>\n",
       "      <th>A</th>\n",
       "      <td>100</td>\n",
       "      <td>62</td>\n",
       "      <td>94</td>\n",
       "      <td>37</td>\n",
       "      <td>88</td>\n",
       "      <td>30</td>\n",
       "      <td>8</td>\n",
       "      <td>48</td>\n",
       "      <td>75</td>\n",
       "      <td>9</td>\n",
       "      <td>405</td>\n",
       "    </tr>\n",
       "    <tr>\n",
       "      <th>B</th>\n",
       "      <td>93</td>\n",
       "      <td>64</td>\n",
       "      <td>9</td>\n",
       "      <td>54</td>\n",
       "      <td>15</td>\n",
       "      <td>38</td>\n",
       "      <td>69</td>\n",
       "      <td>56</td>\n",
       "      <td>87</td>\n",
       "      <td>63</td>\n",
       "      <td>629</td>\n",
       "    </tr>\n",
       "    <tr>\n",
       "      <th>C</th>\n",
       "      <td>30</td>\n",
       "      <td>41</td>\n",
       "      <td>93</td>\n",
       "      <td>2</td>\n",
       "      <td>25</td>\n",
       "      <td>28</td>\n",
       "      <td>31</td>\n",
       "      <td>56</td>\n",
       "      <td>97</td>\n",
       "      <td>97</td>\n",
       "      <td>151</td>\n",
       "    </tr>\n",
       "    <tr>\n",
       "      <th>D</th>\n",
       "      <td>36</td>\n",
       "      <td>42</td>\n",
       "      <td>74</td>\n",
       "      <td>6</td>\n",
       "      <td>38</td>\n",
       "      <td>79</td>\n",
       "      <td>4</td>\n",
       "      <td>89</td>\n",
       "      <td>74</td>\n",
       "      <td>11</td>\n",
       "      <td>387</td>\n",
       "    </tr>\n",
       "    <tr>\n",
       "      <th>E</th>\n",
       "      <td>49</td>\n",
       "      <td>78</td>\n",
       "      <td>62</td>\n",
       "      <td>39</td>\n",
       "      <td>7</td>\n",
       "      <td>51</td>\n",
       "      <td>72</td>\n",
       "      <td>7</td>\n",
       "      <td>36</td>\n",
       "      <td>22</td>\n",
       "      <td>256</td>\n",
       "    </tr>\n",
       "    <tr>\n",
       "      <th>F</th>\n",
       "      <td>24</td>\n",
       "      <td>93</td>\n",
       "      <td>31</td>\n",
       "      <td>27</td>\n",
       "      <td>29</td>\n",
       "      <td>39</td>\n",
       "      <td>71</td>\n",
       "      <td>75</td>\n",
       "      <td>44</td>\n",
       "      <td>4</td>\n",
       "      <td>789</td>\n",
       "    </tr>\n",
       "    <tr>\n",
       "      <th>G</th>\n",
       "      <td>66</td>\n",
       "      <td>62</td>\n",
       "      <td>31</td>\n",
       "      <td>75</td>\n",
       "      <td>82</td>\n",
       "      <td>76</td>\n",
       "      <td>65</td>\n",
       "      <td>81</td>\n",
       "      <td>26</td>\n",
       "      <td>5</td>\n",
       "      <td>954</td>\n",
       "    </tr>\n",
       "    <tr>\n",
       "      <th>H</th>\n",
       "      <td>49</td>\n",
       "      <td>52</td>\n",
       "      <td>4</td>\n",
       "      <td>21</td>\n",
       "      <td>15</td>\n",
       "      <td>33</td>\n",
       "      <td>16</td>\n",
       "      <td>44</td>\n",
       "      <td>64</td>\n",
       "      <td>28</td>\n",
       "      <td>534</td>\n",
       "    </tr>\n",
       "    <tr>\n",
       "      <th>I</th>\n",
       "      <td>35</td>\n",
       "      <td>69</td>\n",
       "      <td>64</td>\n",
       "      <td>45</td>\n",
       "      <td>67</td>\n",
       "      <td>56</td>\n",
       "      <td>20</td>\n",
       "      <td>31</td>\n",
       "      <td>62</td>\n",
       "      <td>77</td>\n",
       "      <td>768</td>\n",
       "    </tr>\n",
       "    <tr>\n",
       "      <th>J</th>\n",
       "      <td>21</td>\n",
       "      <td>62</td>\n",
       "      <td>6</td>\n",
       "      <td>27</td>\n",
       "      <td>56</td>\n",
       "      <td>91</td>\n",
       "      <td>9</td>\n",
       "      <td>87</td>\n",
       "      <td>75</td>\n",
       "      <td>88</td>\n",
       "      <td>993</td>\n",
       "    </tr>\n",
       "  </tbody>\n",
       "</table>\n",
       "</div>"
      ],
      "text/plain": [
       "     a   b   c   d   e   f   g   h   i   j    z\n",
       "A  100  62  94  37  88  30   8  48  75   9  405\n",
       "B   93  64   9  54  15  38  69  56  87  63  629\n",
       "C   30  41  93   2  25  28  31  56  97  97  151\n",
       "D   36  42  74   6  38  79   4  89  74  11  387\n",
       "E   49  78  62  39   7  51  72   7  36  22  256\n",
       "F   24  93  31  27  29  39  71  75  44   4  789\n",
       "G   66  62  31  75  82  76  65  81  26   5  954\n",
       "H   49  52   4  21  15  33  16  44  64  28  534\n",
       "I   35  69  64  45  67  56  20  31  62  77  768\n",
       "J   21  62   6  27  56  91   9  87  75  88  993"
      ]
     },
     "execution_count": 137,
     "metadata": {},
     "output_type": "execute_result"
    }
   ],
   "source": [
    "df.drop('Z', inplace=True)\n",
    "df"
   ]
  },
  {
   "cell_type": "code",
   "execution_count": 140,
   "metadata": {},
   "outputs": [
    {
     "data": {
      "text/html": [
       "<div>\n",
       "<style scoped>\n",
       "    .dataframe tbody tr th:only-of-type {\n",
       "        vertical-align: middle;\n",
       "    }\n",
       "\n",
       "    .dataframe tbody tr th {\n",
       "        vertical-align: top;\n",
       "    }\n",
       "\n",
       "    .dataframe thead th {\n",
       "        text-align: right;\n",
       "    }\n",
       "</style>\n",
       "<table border=\"1\" class=\"dataframe\">\n",
       "  <thead>\n",
       "    <tr style=\"text-align: right;\">\n",
       "      <th></th>\n",
       "      <th>a</th>\n",
       "      <th>b</th>\n",
       "      <th>c</th>\n",
       "      <th>d</th>\n",
       "      <th>e</th>\n",
       "      <th>f</th>\n",
       "      <th>g</th>\n",
       "      <th>h</th>\n",
       "      <th>i</th>\n",
       "      <th>j</th>\n",
       "    </tr>\n",
       "  </thead>\n",
       "  <tbody>\n",
       "    <tr>\n",
       "      <th>A</th>\n",
       "      <td>100</td>\n",
       "      <td>62</td>\n",
       "      <td>94</td>\n",
       "      <td>37</td>\n",
       "      <td>88</td>\n",
       "      <td>30</td>\n",
       "      <td>8</td>\n",
       "      <td>48</td>\n",
       "      <td>75</td>\n",
       "      <td>9</td>\n",
       "    </tr>\n",
       "    <tr>\n",
       "      <th>B</th>\n",
       "      <td>93</td>\n",
       "      <td>64</td>\n",
       "      <td>9</td>\n",
       "      <td>54</td>\n",
       "      <td>15</td>\n",
       "      <td>38</td>\n",
       "      <td>69</td>\n",
       "      <td>56</td>\n",
       "      <td>87</td>\n",
       "      <td>63</td>\n",
       "    </tr>\n",
       "    <tr>\n",
       "      <th>C</th>\n",
       "      <td>30</td>\n",
       "      <td>41</td>\n",
       "      <td>93</td>\n",
       "      <td>2</td>\n",
       "      <td>25</td>\n",
       "      <td>28</td>\n",
       "      <td>31</td>\n",
       "      <td>56</td>\n",
       "      <td>97</td>\n",
       "      <td>97</td>\n",
       "    </tr>\n",
       "    <tr>\n",
       "      <th>D</th>\n",
       "      <td>36</td>\n",
       "      <td>42</td>\n",
       "      <td>74</td>\n",
       "      <td>6</td>\n",
       "      <td>38</td>\n",
       "      <td>79</td>\n",
       "      <td>4</td>\n",
       "      <td>89</td>\n",
       "      <td>74</td>\n",
       "      <td>11</td>\n",
       "    </tr>\n",
       "    <tr>\n",
       "      <th>E</th>\n",
       "      <td>49</td>\n",
       "      <td>78</td>\n",
       "      <td>62</td>\n",
       "      <td>39</td>\n",
       "      <td>7</td>\n",
       "      <td>51</td>\n",
       "      <td>72</td>\n",
       "      <td>7</td>\n",
       "      <td>36</td>\n",
       "      <td>22</td>\n",
       "    </tr>\n",
       "    <tr>\n",
       "      <th>F</th>\n",
       "      <td>24</td>\n",
       "      <td>93</td>\n",
       "      <td>31</td>\n",
       "      <td>27</td>\n",
       "      <td>29</td>\n",
       "      <td>39</td>\n",
       "      <td>71</td>\n",
       "      <td>75</td>\n",
       "      <td>44</td>\n",
       "      <td>4</td>\n",
       "    </tr>\n",
       "    <tr>\n",
       "      <th>G</th>\n",
       "      <td>66</td>\n",
       "      <td>62</td>\n",
       "      <td>31</td>\n",
       "      <td>75</td>\n",
       "      <td>82</td>\n",
       "      <td>76</td>\n",
       "      <td>65</td>\n",
       "      <td>81</td>\n",
       "      <td>26</td>\n",
       "      <td>5</td>\n",
       "    </tr>\n",
       "    <tr>\n",
       "      <th>H</th>\n",
       "      <td>49</td>\n",
       "      <td>52</td>\n",
       "      <td>4</td>\n",
       "      <td>21</td>\n",
       "      <td>15</td>\n",
       "      <td>33</td>\n",
       "      <td>16</td>\n",
       "      <td>44</td>\n",
       "      <td>64</td>\n",
       "      <td>28</td>\n",
       "    </tr>\n",
       "    <tr>\n",
       "      <th>I</th>\n",
       "      <td>35</td>\n",
       "      <td>69</td>\n",
       "      <td>64</td>\n",
       "      <td>45</td>\n",
       "      <td>67</td>\n",
       "      <td>56</td>\n",
       "      <td>20</td>\n",
       "      <td>31</td>\n",
       "      <td>62</td>\n",
       "      <td>77</td>\n",
       "    </tr>\n",
       "    <tr>\n",
       "      <th>J</th>\n",
       "      <td>21</td>\n",
       "      <td>62</td>\n",
       "      <td>6</td>\n",
       "      <td>27</td>\n",
       "      <td>56</td>\n",
       "      <td>91</td>\n",
       "      <td>9</td>\n",
       "      <td>87</td>\n",
       "      <td>75</td>\n",
       "      <td>88</td>\n",
       "    </tr>\n",
       "  </tbody>\n",
       "</table>\n",
       "</div>"
      ],
      "text/plain": [
       "     a   b   c   d   e   f   g   h   i   j\n",
       "A  100  62  94  37  88  30   8  48  75   9\n",
       "B   93  64   9  54  15  38  69  56  87  63\n",
       "C   30  41  93   2  25  28  31  56  97  97\n",
       "D   36  42  74   6  38  79   4  89  74  11\n",
       "E   49  78  62  39   7  51  72   7  36  22\n",
       "F   24  93  31  27  29  39  71  75  44   4\n",
       "G   66  62  31  75  82  76  65  81  26   5\n",
       "H   49  52   4  21  15  33  16  44  64  28\n",
       "I   35  69  64  45  67  56  20  31  62  77\n",
       "J   21  62   6  27  56  91   9  87  75  88"
      ]
     },
     "execution_count": 140,
     "metadata": {},
     "output_type": "execute_result"
    }
   ],
   "source": [
    "df.drop('z', inplace=True, axis=1)\n",
    "df"
   ]
  },
  {
   "cell_type": "markdown",
   "metadata": {},
   "source": [
    "**Conditionally selecting rows and columns.**"
   ]
  },
  {
   "cell_type": "code",
   "execution_count": 142,
   "metadata": {},
   "outputs": [
    {
     "data": {
      "text/html": [
       "<div>\n",
       "<style scoped>\n",
       "    .dataframe tbody tr th:only-of-type {\n",
       "        vertical-align: middle;\n",
       "    }\n",
       "\n",
       "    .dataframe tbody tr th {\n",
       "        vertical-align: top;\n",
       "    }\n",
       "\n",
       "    .dataframe thead th {\n",
       "        text-align: right;\n",
       "    }\n",
       "</style>\n",
       "<table border=\"1\" class=\"dataframe\">\n",
       "  <thead>\n",
       "    <tr style=\"text-align: right;\">\n",
       "      <th></th>\n",
       "      <th>a</th>\n",
       "      <th>b</th>\n",
       "      <th>c</th>\n",
       "      <th>d</th>\n",
       "      <th>e</th>\n",
       "      <th>f</th>\n",
       "      <th>g</th>\n",
       "      <th>h</th>\n",
       "      <th>i</th>\n",
       "      <th>j</th>\n",
       "    </tr>\n",
       "  </thead>\n",
       "  <tbody>\n",
       "    <tr>\n",
       "      <th>A</th>\n",
       "      <td>True</td>\n",
       "      <td>True</td>\n",
       "      <td>True</td>\n",
       "      <td>False</td>\n",
       "      <td>True</td>\n",
       "      <td>False</td>\n",
       "      <td>False</td>\n",
       "      <td>False</td>\n",
       "      <td>True</td>\n",
       "      <td>False</td>\n",
       "    </tr>\n",
       "    <tr>\n",
       "      <th>B</th>\n",
       "      <td>True</td>\n",
       "      <td>True</td>\n",
       "      <td>False</td>\n",
       "      <td>True</td>\n",
       "      <td>False</td>\n",
       "      <td>False</td>\n",
       "      <td>True</td>\n",
       "      <td>True</td>\n",
       "      <td>True</td>\n",
       "      <td>True</td>\n",
       "    </tr>\n",
       "    <tr>\n",
       "      <th>C</th>\n",
       "      <td>False</td>\n",
       "      <td>False</td>\n",
       "      <td>True</td>\n",
       "      <td>False</td>\n",
       "      <td>False</td>\n",
       "      <td>False</td>\n",
       "      <td>False</td>\n",
       "      <td>True</td>\n",
       "      <td>True</td>\n",
       "      <td>True</td>\n",
       "    </tr>\n",
       "    <tr>\n",
       "      <th>D</th>\n",
       "      <td>False</td>\n",
       "      <td>False</td>\n",
       "      <td>True</td>\n",
       "      <td>False</td>\n",
       "      <td>False</td>\n",
       "      <td>True</td>\n",
       "      <td>False</td>\n",
       "      <td>True</td>\n",
       "      <td>True</td>\n",
       "      <td>False</td>\n",
       "    </tr>\n",
       "    <tr>\n",
       "      <th>E</th>\n",
       "      <td>False</td>\n",
       "      <td>True</td>\n",
       "      <td>True</td>\n",
       "      <td>False</td>\n",
       "      <td>False</td>\n",
       "      <td>True</td>\n",
       "      <td>True</td>\n",
       "      <td>False</td>\n",
       "      <td>False</td>\n",
       "      <td>False</td>\n",
       "    </tr>\n",
       "    <tr>\n",
       "      <th>F</th>\n",
       "      <td>False</td>\n",
       "      <td>True</td>\n",
       "      <td>False</td>\n",
       "      <td>False</td>\n",
       "      <td>False</td>\n",
       "      <td>False</td>\n",
       "      <td>True</td>\n",
       "      <td>True</td>\n",
       "      <td>False</td>\n",
       "      <td>False</td>\n",
       "    </tr>\n",
       "    <tr>\n",
       "      <th>G</th>\n",
       "      <td>True</td>\n",
       "      <td>True</td>\n",
       "      <td>False</td>\n",
       "      <td>True</td>\n",
       "      <td>True</td>\n",
       "      <td>True</td>\n",
       "      <td>True</td>\n",
       "      <td>True</td>\n",
       "      <td>False</td>\n",
       "      <td>False</td>\n",
       "    </tr>\n",
       "    <tr>\n",
       "      <th>H</th>\n",
       "      <td>False</td>\n",
       "      <td>True</td>\n",
       "      <td>False</td>\n",
       "      <td>False</td>\n",
       "      <td>False</td>\n",
       "      <td>False</td>\n",
       "      <td>False</td>\n",
       "      <td>False</td>\n",
       "      <td>True</td>\n",
       "      <td>False</td>\n",
       "    </tr>\n",
       "    <tr>\n",
       "      <th>I</th>\n",
       "      <td>False</td>\n",
       "      <td>True</td>\n",
       "      <td>True</td>\n",
       "      <td>False</td>\n",
       "      <td>True</td>\n",
       "      <td>True</td>\n",
       "      <td>False</td>\n",
       "      <td>False</td>\n",
       "      <td>True</td>\n",
       "      <td>True</td>\n",
       "    </tr>\n",
       "    <tr>\n",
       "      <th>J</th>\n",
       "      <td>False</td>\n",
       "      <td>True</td>\n",
       "      <td>False</td>\n",
       "      <td>False</td>\n",
       "      <td>True</td>\n",
       "      <td>True</td>\n",
       "      <td>False</td>\n",
       "      <td>True</td>\n",
       "      <td>True</td>\n",
       "      <td>True</td>\n",
       "    </tr>\n",
       "  </tbody>\n",
       "</table>\n",
       "</div>"
      ],
      "text/plain": [
       "       a      b      c      d      e      f      g      h      i      j\n",
       "A   True   True   True  False   True  False  False  False   True  False\n",
       "B   True   True  False   True  False  False   True   True   True   True\n",
       "C  False  False   True  False  False  False  False   True   True   True\n",
       "D  False  False   True  False  False   True  False   True   True  False\n",
       "E  False   True   True  False  False   True   True  False  False  False\n",
       "F  False   True  False  False  False  False   True   True  False  False\n",
       "G   True   True  False   True   True   True   True   True  False  False\n",
       "H  False   True  False  False  False  False  False  False   True  False\n",
       "I  False   True   True  False   True   True  False  False   True   True\n",
       "J  False   True  False  False   True   True  False   True   True   True"
      ]
     },
     "execution_count": 142,
     "metadata": {},
     "output_type": "execute_result"
    }
   ],
   "source": [
    "df > 50"
   ]
  },
  {
   "cell_type": "code",
   "execution_count": 143,
   "metadata": {},
   "outputs": [
    {
     "data": {
      "text/html": [
       "<div>\n",
       "<style scoped>\n",
       "    .dataframe tbody tr th:only-of-type {\n",
       "        vertical-align: middle;\n",
       "    }\n",
       "\n",
       "    .dataframe tbody tr th {\n",
       "        vertical-align: top;\n",
       "    }\n",
       "\n",
       "    .dataframe thead th {\n",
       "        text-align: right;\n",
       "    }\n",
       "</style>\n",
       "<table border=\"1\" class=\"dataframe\">\n",
       "  <thead>\n",
       "    <tr style=\"text-align: right;\">\n",
       "      <th></th>\n",
       "      <th>a</th>\n",
       "      <th>b</th>\n",
       "      <th>c</th>\n",
       "      <th>d</th>\n",
       "      <th>e</th>\n",
       "      <th>f</th>\n",
       "      <th>g</th>\n",
       "      <th>h</th>\n",
       "      <th>i</th>\n",
       "      <th>j</th>\n",
       "    </tr>\n",
       "  </thead>\n",
       "  <tbody>\n",
       "    <tr>\n",
       "      <th>A</th>\n",
       "      <td>100.0</td>\n",
       "      <td>62.0</td>\n",
       "      <td>94.0</td>\n",
       "      <td>NaN</td>\n",
       "      <td>88.0</td>\n",
       "      <td>NaN</td>\n",
       "      <td>NaN</td>\n",
       "      <td>NaN</td>\n",
       "      <td>75.0</td>\n",
       "      <td>NaN</td>\n",
       "    </tr>\n",
       "    <tr>\n",
       "      <th>B</th>\n",
       "      <td>93.0</td>\n",
       "      <td>64.0</td>\n",
       "      <td>NaN</td>\n",
       "      <td>54.0</td>\n",
       "      <td>NaN</td>\n",
       "      <td>NaN</td>\n",
       "      <td>69.0</td>\n",
       "      <td>56.0</td>\n",
       "      <td>87.0</td>\n",
       "      <td>63.0</td>\n",
       "    </tr>\n",
       "    <tr>\n",
       "      <th>C</th>\n",
       "      <td>NaN</td>\n",
       "      <td>NaN</td>\n",
       "      <td>93.0</td>\n",
       "      <td>NaN</td>\n",
       "      <td>NaN</td>\n",
       "      <td>NaN</td>\n",
       "      <td>NaN</td>\n",
       "      <td>56.0</td>\n",
       "      <td>97.0</td>\n",
       "      <td>97.0</td>\n",
       "    </tr>\n",
       "    <tr>\n",
       "      <th>D</th>\n",
       "      <td>NaN</td>\n",
       "      <td>NaN</td>\n",
       "      <td>74.0</td>\n",
       "      <td>NaN</td>\n",
       "      <td>NaN</td>\n",
       "      <td>79.0</td>\n",
       "      <td>NaN</td>\n",
       "      <td>89.0</td>\n",
       "      <td>74.0</td>\n",
       "      <td>NaN</td>\n",
       "    </tr>\n",
       "    <tr>\n",
       "      <th>E</th>\n",
       "      <td>NaN</td>\n",
       "      <td>78.0</td>\n",
       "      <td>62.0</td>\n",
       "      <td>NaN</td>\n",
       "      <td>NaN</td>\n",
       "      <td>51.0</td>\n",
       "      <td>72.0</td>\n",
       "      <td>NaN</td>\n",
       "      <td>NaN</td>\n",
       "      <td>NaN</td>\n",
       "    </tr>\n",
       "    <tr>\n",
       "      <th>F</th>\n",
       "      <td>NaN</td>\n",
       "      <td>93.0</td>\n",
       "      <td>NaN</td>\n",
       "      <td>NaN</td>\n",
       "      <td>NaN</td>\n",
       "      <td>NaN</td>\n",
       "      <td>71.0</td>\n",
       "      <td>75.0</td>\n",
       "      <td>NaN</td>\n",
       "      <td>NaN</td>\n",
       "    </tr>\n",
       "    <tr>\n",
       "      <th>G</th>\n",
       "      <td>66.0</td>\n",
       "      <td>62.0</td>\n",
       "      <td>NaN</td>\n",
       "      <td>75.0</td>\n",
       "      <td>82.0</td>\n",
       "      <td>76.0</td>\n",
       "      <td>65.0</td>\n",
       "      <td>81.0</td>\n",
       "      <td>NaN</td>\n",
       "      <td>NaN</td>\n",
       "    </tr>\n",
       "    <tr>\n",
       "      <th>H</th>\n",
       "      <td>NaN</td>\n",
       "      <td>52.0</td>\n",
       "      <td>NaN</td>\n",
       "      <td>NaN</td>\n",
       "      <td>NaN</td>\n",
       "      <td>NaN</td>\n",
       "      <td>NaN</td>\n",
       "      <td>NaN</td>\n",
       "      <td>64.0</td>\n",
       "      <td>NaN</td>\n",
       "    </tr>\n",
       "    <tr>\n",
       "      <th>I</th>\n",
       "      <td>NaN</td>\n",
       "      <td>69.0</td>\n",
       "      <td>64.0</td>\n",
       "      <td>NaN</td>\n",
       "      <td>67.0</td>\n",
       "      <td>56.0</td>\n",
       "      <td>NaN</td>\n",
       "      <td>NaN</td>\n",
       "      <td>62.0</td>\n",
       "      <td>77.0</td>\n",
       "    </tr>\n",
       "    <tr>\n",
       "      <th>J</th>\n",
       "      <td>NaN</td>\n",
       "      <td>62.0</td>\n",
       "      <td>NaN</td>\n",
       "      <td>NaN</td>\n",
       "      <td>56.0</td>\n",
       "      <td>91.0</td>\n",
       "      <td>NaN</td>\n",
       "      <td>87.0</td>\n",
       "      <td>75.0</td>\n",
       "      <td>88.0</td>\n",
       "    </tr>\n",
       "  </tbody>\n",
       "</table>\n",
       "</div>"
      ],
      "text/plain": [
       "       a     b     c     d     e     f     g     h     i     j\n",
       "A  100.0  62.0  94.0   NaN  88.0   NaN   NaN   NaN  75.0   NaN\n",
       "B   93.0  64.0   NaN  54.0   NaN   NaN  69.0  56.0  87.0  63.0\n",
       "C    NaN   NaN  93.0   NaN   NaN   NaN   NaN  56.0  97.0  97.0\n",
       "D    NaN   NaN  74.0   NaN   NaN  79.0   NaN  89.0  74.0   NaN\n",
       "E    NaN  78.0  62.0   NaN   NaN  51.0  72.0   NaN   NaN   NaN\n",
       "F    NaN  93.0   NaN   NaN   NaN   NaN  71.0  75.0   NaN   NaN\n",
       "G   66.0  62.0   NaN  75.0  82.0  76.0  65.0  81.0   NaN   NaN\n",
       "H    NaN  52.0   NaN   NaN   NaN   NaN   NaN   NaN  64.0   NaN\n",
       "I    NaN  69.0  64.0   NaN  67.0  56.0   NaN   NaN  62.0  77.0\n",
       "J    NaN  62.0   NaN   NaN  56.0  91.0   NaN  87.0  75.0  88.0"
      ]
     },
     "execution_count": 143,
     "metadata": {},
     "output_type": "execute_result"
    }
   ],
   "source": [
    "df[df > 50]"
   ]
  },
  {
   "cell_type": "code",
   "execution_count": 148,
   "metadata": {},
   "outputs": [
    {
     "data": {
      "text/html": [
       "<div>\n",
       "<style scoped>\n",
       "    .dataframe tbody tr th:only-of-type {\n",
       "        vertical-align: middle;\n",
       "    }\n",
       "\n",
       "    .dataframe tbody tr th {\n",
       "        vertical-align: top;\n",
       "    }\n",
       "\n",
       "    .dataframe thead th {\n",
       "        text-align: right;\n",
       "    }\n",
       "</style>\n",
       "<table border=\"1\" class=\"dataframe\">\n",
       "  <thead>\n",
       "    <tr style=\"text-align: right;\">\n",
       "      <th></th>\n",
       "      <th>a</th>\n",
       "      <th>b</th>\n",
       "      <th>c</th>\n",
       "      <th>d</th>\n",
       "      <th>e</th>\n",
       "      <th>f</th>\n",
       "      <th>g</th>\n",
       "      <th>h</th>\n",
       "      <th>i</th>\n",
       "      <th>j</th>\n",
       "    </tr>\n",
       "  </thead>\n",
       "  <tbody>\n",
       "    <tr>\n",
       "      <th>A</th>\n",
       "      <td>100</td>\n",
       "      <td>62</td>\n",
       "      <td>94</td>\n",
       "      <td>:(</td>\n",
       "      <td>88</td>\n",
       "      <td>:(</td>\n",
       "      <td>:(</td>\n",
       "      <td>:(</td>\n",
       "      <td>75</td>\n",
       "      <td>:(</td>\n",
       "    </tr>\n",
       "    <tr>\n",
       "      <th>B</th>\n",
       "      <td>93</td>\n",
       "      <td>64</td>\n",
       "      <td>:(</td>\n",
       "      <td>54</td>\n",
       "      <td>:(</td>\n",
       "      <td>:(</td>\n",
       "      <td>69</td>\n",
       "      <td>56</td>\n",
       "      <td>87</td>\n",
       "      <td>63</td>\n",
       "    </tr>\n",
       "    <tr>\n",
       "      <th>C</th>\n",
       "      <td>:(</td>\n",
       "      <td>:(</td>\n",
       "      <td>93</td>\n",
       "      <td>:(</td>\n",
       "      <td>:(</td>\n",
       "      <td>:(</td>\n",
       "      <td>:(</td>\n",
       "      <td>56</td>\n",
       "      <td>97</td>\n",
       "      <td>97</td>\n",
       "    </tr>\n",
       "    <tr>\n",
       "      <th>D</th>\n",
       "      <td>:(</td>\n",
       "      <td>:(</td>\n",
       "      <td>74</td>\n",
       "      <td>:(</td>\n",
       "      <td>:(</td>\n",
       "      <td>79</td>\n",
       "      <td>:(</td>\n",
       "      <td>89</td>\n",
       "      <td>74</td>\n",
       "      <td>:(</td>\n",
       "    </tr>\n",
       "    <tr>\n",
       "      <th>E</th>\n",
       "      <td>:(</td>\n",
       "      <td>78</td>\n",
       "      <td>62</td>\n",
       "      <td>:(</td>\n",
       "      <td>:(</td>\n",
       "      <td>51</td>\n",
       "      <td>72</td>\n",
       "      <td>:(</td>\n",
       "      <td>:(</td>\n",
       "      <td>:(</td>\n",
       "    </tr>\n",
       "    <tr>\n",
       "      <th>F</th>\n",
       "      <td>:(</td>\n",
       "      <td>93</td>\n",
       "      <td>:(</td>\n",
       "      <td>:(</td>\n",
       "      <td>:(</td>\n",
       "      <td>:(</td>\n",
       "      <td>71</td>\n",
       "      <td>75</td>\n",
       "      <td>:(</td>\n",
       "      <td>:(</td>\n",
       "    </tr>\n",
       "    <tr>\n",
       "      <th>G</th>\n",
       "      <td>66</td>\n",
       "      <td>62</td>\n",
       "      <td>:(</td>\n",
       "      <td>75</td>\n",
       "      <td>82</td>\n",
       "      <td>76</td>\n",
       "      <td>65</td>\n",
       "      <td>81</td>\n",
       "      <td>:(</td>\n",
       "      <td>:(</td>\n",
       "    </tr>\n",
       "    <tr>\n",
       "      <th>H</th>\n",
       "      <td>:(</td>\n",
       "      <td>52</td>\n",
       "      <td>:(</td>\n",
       "      <td>:(</td>\n",
       "      <td>:(</td>\n",
       "      <td>:(</td>\n",
       "      <td>:(</td>\n",
       "      <td>:(</td>\n",
       "      <td>64</td>\n",
       "      <td>:(</td>\n",
       "    </tr>\n",
       "    <tr>\n",
       "      <th>I</th>\n",
       "      <td>:(</td>\n",
       "      <td>69</td>\n",
       "      <td>64</td>\n",
       "      <td>:(</td>\n",
       "      <td>67</td>\n",
       "      <td>56</td>\n",
       "      <td>:(</td>\n",
       "      <td>:(</td>\n",
       "      <td>62</td>\n",
       "      <td>77</td>\n",
       "    </tr>\n",
       "    <tr>\n",
       "      <th>J</th>\n",
       "      <td>:(</td>\n",
       "      <td>62</td>\n",
       "      <td>:(</td>\n",
       "      <td>:(</td>\n",
       "      <td>56</td>\n",
       "      <td>91</td>\n",
       "      <td>:(</td>\n",
       "      <td>87</td>\n",
       "      <td>75</td>\n",
       "      <td>88</td>\n",
       "    </tr>\n",
       "  </tbody>\n",
       "</table>\n",
       "</div>"
      ],
      "text/plain": [
       "     a   b   c   d   e   f   g   h   i   j\n",
       "A  100  62  94  :(  88  :(  :(  :(  75  :(\n",
       "B   93  64  :(  54  :(  :(  69  56  87  63\n",
       "C   :(  :(  93  :(  :(  :(  :(  56  97  97\n",
       "D   :(  :(  74  :(  :(  79  :(  89  74  :(\n",
       "E   :(  78  62  :(  :(  51  72  :(  :(  :(\n",
       "F   :(  93  :(  :(  :(  :(  71  75  :(  :(\n",
       "G   66  62  :(  75  82  76  65  81  :(  :(\n",
       "H   :(  52  :(  :(  :(  :(  :(  :(  64  :(\n",
       "I   :(  69  64  :(  67  56  :(  :(  62  77\n",
       "J   :(  62  :(  :(  56  91  :(  87  75  88"
      ]
     },
     "execution_count": 148,
     "metadata": {},
     "output_type": "execute_result"
    }
   ],
   "source": [
    "df[df > 50].fillna(':(')"
   ]
  },
  {
   "cell_type": "markdown",
   "metadata": {},
   "source": [
    "**Demonstrate how Pandas can be used for exploratory data analysis.**"
   ]
  },
  {
   "cell_type": "markdown",
   "metadata": {},
   "source": [
    "**Dataset 1**"
   ]
  },
  {
   "cell_type": "code",
   "execution_count": 149,
   "metadata": {},
   "outputs": [
    {
     "data": {
      "text/html": [
       "<div>\n",
       "<style scoped>\n",
       "    .dataframe tbody tr th:only-of-type {\n",
       "        vertical-align: middle;\n",
       "    }\n",
       "\n",
       "    .dataframe tbody tr th {\n",
       "        vertical-align: top;\n",
       "    }\n",
       "\n",
       "    .dataframe thead th {\n",
       "        text-align: right;\n",
       "    }\n",
       "</style>\n",
       "<table border=\"1\" class=\"dataframe\">\n",
       "  <thead>\n",
       "    <tr style=\"text-align: right;\">\n",
       "      <th></th>\n",
       "      <th>gender</th>\n",
       "      <th>race/ethnicity</th>\n",
       "      <th>parental level of education</th>\n",
       "      <th>lunch</th>\n",
       "      <th>test preparation course</th>\n",
       "      <th>math score</th>\n",
       "      <th>reading score</th>\n",
       "      <th>writing score</th>\n",
       "    </tr>\n",
       "  </thead>\n",
       "  <tbody>\n",
       "    <tr>\n",
       "      <th>0</th>\n",
       "      <td>female</td>\n",
       "      <td>group B</td>\n",
       "      <td>bachelor's degree</td>\n",
       "      <td>standard</td>\n",
       "      <td>none</td>\n",
       "      <td>72</td>\n",
       "      <td>72</td>\n",
       "      <td>74</td>\n",
       "    </tr>\n",
       "    <tr>\n",
       "      <th>1</th>\n",
       "      <td>female</td>\n",
       "      <td>group C</td>\n",
       "      <td>some college</td>\n",
       "      <td>standard</td>\n",
       "      <td>completed</td>\n",
       "      <td>69</td>\n",
       "      <td>90</td>\n",
       "      <td>88</td>\n",
       "    </tr>\n",
       "    <tr>\n",
       "      <th>2</th>\n",
       "      <td>female</td>\n",
       "      <td>group B</td>\n",
       "      <td>master's degree</td>\n",
       "      <td>standard</td>\n",
       "      <td>none</td>\n",
       "      <td>90</td>\n",
       "      <td>95</td>\n",
       "      <td>93</td>\n",
       "    </tr>\n",
       "    <tr>\n",
       "      <th>3</th>\n",
       "      <td>male</td>\n",
       "      <td>group A</td>\n",
       "      <td>associate's degree</td>\n",
       "      <td>free/reduced</td>\n",
       "      <td>none</td>\n",
       "      <td>47</td>\n",
       "      <td>57</td>\n",
       "      <td>44</td>\n",
       "    </tr>\n",
       "    <tr>\n",
       "      <th>4</th>\n",
       "      <td>male</td>\n",
       "      <td>group C</td>\n",
       "      <td>some college</td>\n",
       "      <td>standard</td>\n",
       "      <td>none</td>\n",
       "      <td>76</td>\n",
       "      <td>78</td>\n",
       "      <td>75</td>\n",
       "    </tr>\n",
       "  </tbody>\n",
       "</table>\n",
       "</div>"
      ],
      "text/plain": [
       "   gender race/ethnicity parental level of education         lunch  \\\n",
       "0  female        group B           bachelor's degree      standard   \n",
       "1  female        group C                some college      standard   \n",
       "2  female        group B             master's degree      standard   \n",
       "3    male        group A          associate's degree  free/reduced   \n",
       "4    male        group C                some college      standard   \n",
       "\n",
       "  test preparation course  math score  reading score  writing score  \n",
       "0                    none          72             72             74  \n",
       "1               completed          69             90             88  \n",
       "2                    none          90             95             93  \n",
       "3                    none          47             57             44  \n",
       "4                    none          76             78             75  "
      ]
     },
     "execution_count": 149,
     "metadata": {},
     "output_type": "execute_result"
    }
   ],
   "source": [
    "students = pd.read_csv(\"Beginner Track - Student Performance Dataset.csv\")\n",
    "students.head()"
   ]
  },
  {
   "cell_type": "code",
   "execution_count": 150,
   "metadata": {},
   "outputs": [
    {
     "name": "stdout",
     "output_type": "stream",
     "text": [
      "<class 'pandas.core.frame.DataFrame'>\n",
      "RangeIndex: 1000 entries, 0 to 999\n",
      "Data columns (total 8 columns):\n",
      " #   Column                       Non-Null Count  Dtype \n",
      "---  ------                       --------------  ----- \n",
      " 0   gender                       1000 non-null   object\n",
      " 1   race/ethnicity               1000 non-null   object\n",
      " 2   parental level of education  1000 non-null   object\n",
      " 3   lunch                        1000 non-null   object\n",
      " 4   test preparation course      1000 non-null   object\n",
      " 5   math score                   1000 non-null   int64 \n",
      " 6   reading score                1000 non-null   int64 \n",
      " 7   writing score                1000 non-null   int64 \n",
      "dtypes: int64(3), object(5)\n",
      "memory usage: 62.6+ KB\n"
     ]
    }
   ],
   "source": [
    "students.info()"
   ]
  },
  {
   "cell_type": "code",
   "execution_count": 170,
   "metadata": {},
   "outputs": [
    {
     "data": {
      "text/plain": [
       "482"
      ]
     },
     "execution_count": 170,
     "metadata": {},
     "output_type": "execute_result"
    }
   ],
   "source": [
    "# How many male students?\n",
    "students[students['gender'] == \"male\"]['gender'].count()"
   ]
  },
  {
   "cell_type": "code",
   "execution_count": 157,
   "metadata": {},
   "outputs": [
    {
     "data": {
      "text/plain": [
       "66.089"
      ]
     },
     "execution_count": 157,
     "metadata": {},
     "output_type": "execute_result"
    }
   ],
   "source": [
    "# Average math score?\n",
    "students['math score'].sum()/students['math score'].count()"
   ]
  },
  {
   "cell_type": "code",
   "execution_count": 159,
   "metadata": {},
   "outputs": [
    {
     "data": {
      "text/plain": [
       "array(['group B', 'group C', 'group A', 'group D', 'group E'],\n",
       "      dtype=object)"
      ]
     },
     "execution_count": 159,
     "metadata": {},
     "output_type": "execute_result"
    }
   ],
   "source": [
    "# Number of ethnicities.\n",
    "students['race/ethnicity'].unique()"
   ]
  },
  {
   "cell_type": "code",
   "execution_count": 161,
   "metadata": {},
   "outputs": [
    {
     "data": {
      "text/plain": [
       "<pandas.core.groupby.generic.DataFrameGroupBy object at 0x7fa0514adb50>"
      ]
     },
     "execution_count": 161,
     "metadata": {},
     "output_type": "execute_result"
    }
   ],
   "source": [
    "students_by_ethnicity = students.groupby('race/ethnicity')\n",
    "students_by_ethnicity"
   ]
  },
  {
   "cell_type": "code",
   "execution_count": 162,
   "metadata": {},
   "outputs": [
    {
     "data": {
      "text/html": [
       "<div>\n",
       "<style scoped>\n",
       "    .dataframe tbody tr th:only-of-type {\n",
       "        vertical-align: middle;\n",
       "    }\n",
       "\n",
       "    .dataframe tbody tr th {\n",
       "        vertical-align: top;\n",
       "    }\n",
       "\n",
       "    .dataframe thead th {\n",
       "        text-align: right;\n",
       "    }\n",
       "</style>\n",
       "<table border=\"1\" class=\"dataframe\">\n",
       "  <thead>\n",
       "    <tr style=\"text-align: right;\">\n",
       "      <th></th>\n",
       "      <th>math score</th>\n",
       "      <th>reading score</th>\n",
       "      <th>writing score</th>\n",
       "    </tr>\n",
       "    <tr>\n",
       "      <th>race/ethnicity</th>\n",
       "      <th></th>\n",
       "      <th></th>\n",
       "      <th></th>\n",
       "    </tr>\n",
       "  </thead>\n",
       "  <tbody>\n",
       "    <tr>\n",
       "      <th>group A</th>\n",
       "      <td>61.629213</td>\n",
       "      <td>64.674157</td>\n",
       "      <td>62.674157</td>\n",
       "    </tr>\n",
       "    <tr>\n",
       "      <th>group B</th>\n",
       "      <td>63.452632</td>\n",
       "      <td>67.352632</td>\n",
       "      <td>65.600000</td>\n",
       "    </tr>\n",
       "    <tr>\n",
       "      <th>group C</th>\n",
       "      <td>64.463950</td>\n",
       "      <td>69.103448</td>\n",
       "      <td>67.827586</td>\n",
       "    </tr>\n",
       "    <tr>\n",
       "      <th>group D</th>\n",
       "      <td>67.362595</td>\n",
       "      <td>70.030534</td>\n",
       "      <td>70.145038</td>\n",
       "    </tr>\n",
       "    <tr>\n",
       "      <th>group E</th>\n",
       "      <td>73.821429</td>\n",
       "      <td>73.028571</td>\n",
       "      <td>71.407143</td>\n",
       "    </tr>\n",
       "  </tbody>\n",
       "</table>\n",
       "</div>"
      ],
      "text/plain": [
       "                math score  reading score  writing score\n",
       "race/ethnicity                                          \n",
       "group A          61.629213      64.674157      62.674157\n",
       "group B          63.452632      67.352632      65.600000\n",
       "group C          64.463950      69.103448      67.827586\n",
       "group D          67.362595      70.030534      70.145038\n",
       "group E          73.821429      73.028571      71.407143"
      ]
     },
     "execution_count": 162,
     "metadata": {},
     "output_type": "execute_result"
    }
   ],
   "source": [
    "# Mean scores by ethnicity.\n",
    "students_by_ethnicity.mean()"
   ]
  },
  {
   "cell_type": "code",
   "execution_count": 191,
   "metadata": {},
   "outputs": [
    {
     "data": {
      "text/plain": [
       "race/ethnicity  lunch       \n",
       "group A         standard         53\n",
       "                free/reduced     36\n",
       "group B         standard        121\n",
       "                free/reduced     69\n",
       "group C         standard        205\n",
       "                free/reduced    114\n",
       "group D         standard        167\n",
       "                free/reduced     95\n",
       "group E         standard         99\n",
       "                free/reduced     41\n",
       "Name: lunch, dtype: int64"
      ]
     },
     "execution_count": 191,
     "metadata": {},
     "output_type": "execute_result"
    }
   ],
   "source": [
    "# How many in each ethnicity group had standard lunches?\n",
    "students_by_ethnicity['lunch'].value_counts()"
   ]
  },
  {
   "cell_type": "code",
   "execution_count": 192,
   "metadata": {},
   "outputs": [
    {
     "data": {
      "text/plain": [
       "17"
      ]
     },
     "execution_count": 192,
     "metadata": {},
     "output_type": "execute_result"
    }
   ],
   "source": [
    "# What was the minimum reading score?\n",
    "students['reading score'].min()"
   ]
  },
  {
   "cell_type": "code",
   "execution_count": 194,
   "metadata": {},
   "outputs": [
    {
     "data": {
      "text/plain": [
       "100"
      ]
     },
     "execution_count": 194,
     "metadata": {},
     "output_type": "execute_result"
    }
   ],
   "source": [
    "# What was the maximum reading score?\n",
    "students['reading score'].max()"
   ]
  },
  {
   "cell_type": "code",
   "execution_count": 212,
   "metadata": {},
   "outputs": [
    {
     "data": {
      "text/plain": [
       "292"
      ]
     },
     "execution_count": 212,
     "metadata": {},
     "output_type": "execute_result"
    }
   ],
   "source": [
    "# How many students who had standard lunches and were female and got more than a 60 in their reading scores?\n",
    "students[(students['gender'] == 'female') & (students['lunch'] == 'standard') & (students['reading score'] > 60)]['reading score'].count()"
   ]
  },
  {
   "cell_type": "markdown",
   "metadata": {},
   "source": [
    "**Dataset 2**"
   ]
  },
  {
   "cell_type": "code",
   "execution_count": 215,
   "metadata": {},
   "outputs": [
    {
     "name": "stderr",
     "output_type": "stream",
     "text": [
      "/Users/adithyanair/opt/anaconda3/lib/python3.7/site-packages/IPython/core/interactiveshell.py:2728: DtypeWarning: Columns (3,4,5,6,12) have mixed types.Specify dtype option on import or set low_memory=False.\n",
      "  interactivity=interactivity, compiler=compiler, result=result)\n"
     ]
    },
    {
     "data": {
      "text/html": [
       "<div>\n",
       "<style scoped>\n",
       "    .dataframe tbody tr th:only-of-type {\n",
       "        vertical-align: middle;\n",
       "    }\n",
       "\n",
       "    .dataframe tbody tr th {\n",
       "        vertical-align: top;\n",
       "    }\n",
       "\n",
       "    .dataframe thead th {\n",
       "        text-align: right;\n",
       "    }\n",
       "</style>\n",
       "<table border=\"1\" class=\"dataframe\">\n",
       "  <thead>\n",
       "    <tr style=\"text-align: right;\">\n",
       "      <th></th>\n",
       "      <th>EmployeeName</th>\n",
       "      <th>JobTitle</th>\n",
       "      <th>BasePay</th>\n",
       "      <th>OvertimePay</th>\n",
       "      <th>OtherPay</th>\n",
       "      <th>Benefits</th>\n",
       "      <th>TotalPay</th>\n",
       "      <th>TotalPayBenefits</th>\n",
       "      <th>Year</th>\n",
       "      <th>Notes</th>\n",
       "      <th>Agency</th>\n",
       "      <th>Status</th>\n",
       "    </tr>\n",
       "    <tr>\n",
       "      <th>Id</th>\n",
       "      <th></th>\n",
       "      <th></th>\n",
       "      <th></th>\n",
       "      <th></th>\n",
       "      <th></th>\n",
       "      <th></th>\n",
       "      <th></th>\n",
       "      <th></th>\n",
       "      <th></th>\n",
       "      <th></th>\n",
       "      <th></th>\n",
       "      <th></th>\n",
       "    </tr>\n",
       "  </thead>\n",
       "  <tbody>\n",
       "    <tr>\n",
       "      <th>1</th>\n",
       "      <td>NATHANIEL FORD</td>\n",
       "      <td>GENERAL MANAGER-METROPOLITAN TRANSIT AUTHORITY</td>\n",
       "      <td>167411</td>\n",
       "      <td>0</td>\n",
       "      <td>400184</td>\n",
       "      <td>NaN</td>\n",
       "      <td>567595.43</td>\n",
       "      <td>567595.43</td>\n",
       "      <td>2011</td>\n",
       "      <td>NaN</td>\n",
       "      <td>San Francisco</td>\n",
       "      <td>NaN</td>\n",
       "    </tr>\n",
       "    <tr>\n",
       "      <th>2</th>\n",
       "      <td>GARY JIMENEZ</td>\n",
       "      <td>CAPTAIN III (POLICE DEPARTMENT)</td>\n",
       "      <td>155966</td>\n",
       "      <td>245132</td>\n",
       "      <td>137811</td>\n",
       "      <td>NaN</td>\n",
       "      <td>538909.28</td>\n",
       "      <td>538909.28</td>\n",
       "      <td>2011</td>\n",
       "      <td>NaN</td>\n",
       "      <td>San Francisco</td>\n",
       "      <td>NaN</td>\n",
       "    </tr>\n",
       "    <tr>\n",
       "      <th>3</th>\n",
       "      <td>ALBERT PARDINI</td>\n",
       "      <td>CAPTAIN III (POLICE DEPARTMENT)</td>\n",
       "      <td>212739</td>\n",
       "      <td>106088</td>\n",
       "      <td>16452.6</td>\n",
       "      <td>NaN</td>\n",
       "      <td>335279.91</td>\n",
       "      <td>335279.91</td>\n",
       "      <td>2011</td>\n",
       "      <td>NaN</td>\n",
       "      <td>San Francisco</td>\n",
       "      <td>NaN</td>\n",
       "    </tr>\n",
       "    <tr>\n",
       "      <th>4</th>\n",
       "      <td>CHRISTOPHER CHONG</td>\n",
       "      <td>WIRE ROPE CABLE MAINTENANCE MECHANIC</td>\n",
       "      <td>77916</td>\n",
       "      <td>56120.7</td>\n",
       "      <td>198307</td>\n",
       "      <td>NaN</td>\n",
       "      <td>332343.61</td>\n",
       "      <td>332343.61</td>\n",
       "      <td>2011</td>\n",
       "      <td>NaN</td>\n",
       "      <td>San Francisco</td>\n",
       "      <td>NaN</td>\n",
       "    </tr>\n",
       "    <tr>\n",
       "      <th>5</th>\n",
       "      <td>PATRICK GARDNER</td>\n",
       "      <td>DEPUTY CHIEF OF DEPARTMENT,(FIRE DEPARTMENT)</td>\n",
       "      <td>134402</td>\n",
       "      <td>9737</td>\n",
       "      <td>182235</td>\n",
       "      <td>NaN</td>\n",
       "      <td>326373.19</td>\n",
       "      <td>326373.19</td>\n",
       "      <td>2011</td>\n",
       "      <td>NaN</td>\n",
       "      <td>San Francisco</td>\n",
       "      <td>NaN</td>\n",
       "    </tr>\n",
       "  </tbody>\n",
       "</table>\n",
       "</div>"
      ],
      "text/plain": [
       "         EmployeeName                                        JobTitle BasePay  \\\n",
       "Id                                                                              \n",
       "1      NATHANIEL FORD  GENERAL MANAGER-METROPOLITAN TRANSIT AUTHORITY  167411   \n",
       "2        GARY JIMENEZ                 CAPTAIN III (POLICE DEPARTMENT)  155966   \n",
       "3      ALBERT PARDINI                 CAPTAIN III (POLICE DEPARTMENT)  212739   \n",
       "4   CHRISTOPHER CHONG            WIRE ROPE CABLE MAINTENANCE MECHANIC   77916   \n",
       "5     PATRICK GARDNER    DEPUTY CHIEF OF DEPARTMENT,(FIRE DEPARTMENT)  134402   \n",
       "\n",
       "   OvertimePay OtherPay Benefits   TotalPay  TotalPayBenefits  Year  Notes  \\\n",
       "Id                                                                           \n",
       "1            0   400184      NaN  567595.43         567595.43  2011    NaN   \n",
       "2       245132   137811      NaN  538909.28         538909.28  2011    NaN   \n",
       "3       106088  16452.6      NaN  335279.91         335279.91  2011    NaN   \n",
       "4      56120.7   198307      NaN  332343.61         332343.61  2011    NaN   \n",
       "5         9737   182235      NaN  326373.19         326373.19  2011    NaN   \n",
       "\n",
       "           Agency Status  \n",
       "Id                        \n",
       "1   San Francisco    NaN  \n",
       "2   San Francisco    NaN  \n",
       "3   San Francisco    NaN  \n",
       "4   San Francisco    NaN  \n",
       "5   San Francisco    NaN  "
      ]
     },
     "execution_count": 215,
     "metadata": {},
     "output_type": "execute_result"
    }
   ],
   "source": [
    "salaries = pd.read_csv('Beginner Track - Salaries.csv', index_col = 'Id')\n",
    "salaries.head()"
   ]
  },
  {
   "cell_type": "code",
   "execution_count": 214,
   "metadata": {},
   "outputs": [
    {
     "name": "stdout",
     "output_type": "stream",
     "text": [
      "<class 'pandas.core.frame.DataFrame'>\n",
      "RangeIndex: 148654 entries, 0 to 148653\n",
      "Data columns (total 13 columns):\n",
      " #   Column            Non-Null Count   Dtype  \n",
      "---  ------            --------------   -----  \n",
      " 0   Id                148654 non-null  int64  \n",
      " 1   EmployeeName      148654 non-null  object \n",
      " 2   JobTitle          148654 non-null  object \n",
      " 3   BasePay           148049 non-null  object \n",
      " 4   OvertimePay       148654 non-null  object \n",
      " 5   OtherPay          148654 non-null  object \n",
      " 6   Benefits          112495 non-null  object \n",
      " 7   TotalPay          148654 non-null  float64\n",
      " 8   TotalPayBenefits  148654 non-null  float64\n",
      " 9   Year              148654 non-null  int64  \n",
      " 10  Notes             0 non-null       float64\n",
      " 11  Agency            148654 non-null  object \n",
      " 12  Status            38119 non-null   object \n",
      "dtypes: float64(3), int64(2), object(8)\n",
      "memory usage: 14.7+ MB\n"
     ]
    }
   ],
   "source": [
    "salaries.info()"
   ]
  },
  {
   "cell_type": "code",
   "execution_count": 226,
   "metadata": {},
   "outputs": [
    {
     "data": {
      "text/plain": [
       "array([nan, 44430.12, 69810.19, ..., '0.13', '1.24', 'Not Provided'],\n",
       "      dtype=object)"
      ]
     },
     "execution_count": 226,
     "metadata": {},
     "output_type": "execute_result"
    }
   ],
   "source": [
    "# Checking for removal.\n",
    "salaries['Benefits'].unique()"
   ]
  },
  {
   "cell_type": "code",
   "execution_count": 227,
   "metadata": {},
   "outputs": [
    {
     "data": {
      "text/plain": [
       "array([nan])"
      ]
     },
     "execution_count": 227,
     "metadata": {},
     "output_type": "execute_result"
    }
   ],
   "source": [
    "# Checking for removal.\n",
    "salaries['Notes'].unique()"
   ]
  },
  {
   "cell_type": "code",
   "execution_count": 228,
   "metadata": {},
   "outputs": [
    {
     "data": {
      "text/plain": [
       "array([nan, 'PT', 'FT'], dtype=object)"
      ]
     },
     "execution_count": 228,
     "metadata": {},
     "output_type": "execute_result"
    }
   ],
   "source": [
    "# Checking for removal.\n",
    "salaries['Status'].unique()"
   ]
  },
  {
   "cell_type": "code",
   "execution_count": 230,
   "metadata": {},
   "outputs": [],
   "source": [
    "salaries.drop('Notes', axis = 1, inplace=True)"
   ]
  },
  {
   "cell_type": "code",
   "execution_count": 231,
   "metadata": {},
   "outputs": [
    {
     "data": {
      "text/html": [
       "<div>\n",
       "<style scoped>\n",
       "    .dataframe tbody tr th:only-of-type {\n",
       "        vertical-align: middle;\n",
       "    }\n",
       "\n",
       "    .dataframe tbody tr th {\n",
       "        vertical-align: top;\n",
       "    }\n",
       "\n",
       "    .dataframe thead th {\n",
       "        text-align: right;\n",
       "    }\n",
       "</style>\n",
       "<table border=\"1\" class=\"dataframe\">\n",
       "  <thead>\n",
       "    <tr style=\"text-align: right;\">\n",
       "      <th></th>\n",
       "      <th>EmployeeName</th>\n",
       "      <th>JobTitle</th>\n",
       "      <th>BasePay</th>\n",
       "      <th>OvertimePay</th>\n",
       "      <th>OtherPay</th>\n",
       "      <th>Benefits</th>\n",
       "      <th>TotalPay</th>\n",
       "      <th>TotalPayBenefits</th>\n",
       "      <th>Year</th>\n",
       "      <th>Agency</th>\n",
       "      <th>Status</th>\n",
       "    </tr>\n",
       "    <tr>\n",
       "      <th>Id</th>\n",
       "      <th></th>\n",
       "      <th></th>\n",
       "      <th></th>\n",
       "      <th></th>\n",
       "      <th></th>\n",
       "      <th></th>\n",
       "      <th></th>\n",
       "      <th></th>\n",
       "      <th></th>\n",
       "      <th></th>\n",
       "      <th></th>\n",
       "    </tr>\n",
       "  </thead>\n",
       "  <tbody>\n",
       "    <tr>\n",
       "      <th>1</th>\n",
       "      <td>NATHANIEL FORD</td>\n",
       "      <td>GENERAL MANAGER-METROPOLITAN TRANSIT AUTHORITY</td>\n",
       "      <td>167411</td>\n",
       "      <td>0</td>\n",
       "      <td>400184</td>\n",
       "      <td>NaN</td>\n",
       "      <td>567595.43</td>\n",
       "      <td>567595.43</td>\n",
       "      <td>2011</td>\n",
       "      <td>San Francisco</td>\n",
       "      <td>NaN</td>\n",
       "    </tr>\n",
       "    <tr>\n",
       "      <th>2</th>\n",
       "      <td>GARY JIMENEZ</td>\n",
       "      <td>CAPTAIN III (POLICE DEPARTMENT)</td>\n",
       "      <td>155966</td>\n",
       "      <td>245132</td>\n",
       "      <td>137811</td>\n",
       "      <td>NaN</td>\n",
       "      <td>538909.28</td>\n",
       "      <td>538909.28</td>\n",
       "      <td>2011</td>\n",
       "      <td>San Francisco</td>\n",
       "      <td>NaN</td>\n",
       "    </tr>\n",
       "    <tr>\n",
       "      <th>3</th>\n",
       "      <td>ALBERT PARDINI</td>\n",
       "      <td>CAPTAIN III (POLICE DEPARTMENT)</td>\n",
       "      <td>212739</td>\n",
       "      <td>106088</td>\n",
       "      <td>16452.6</td>\n",
       "      <td>NaN</td>\n",
       "      <td>335279.91</td>\n",
       "      <td>335279.91</td>\n",
       "      <td>2011</td>\n",
       "      <td>San Francisco</td>\n",
       "      <td>NaN</td>\n",
       "    </tr>\n",
       "    <tr>\n",
       "      <th>4</th>\n",
       "      <td>CHRISTOPHER CHONG</td>\n",
       "      <td>WIRE ROPE CABLE MAINTENANCE MECHANIC</td>\n",
       "      <td>77916</td>\n",
       "      <td>56120.7</td>\n",
       "      <td>198307</td>\n",
       "      <td>NaN</td>\n",
       "      <td>332343.61</td>\n",
       "      <td>332343.61</td>\n",
       "      <td>2011</td>\n",
       "      <td>San Francisco</td>\n",
       "      <td>NaN</td>\n",
       "    </tr>\n",
       "    <tr>\n",
       "      <th>5</th>\n",
       "      <td>PATRICK GARDNER</td>\n",
       "      <td>DEPUTY CHIEF OF DEPARTMENT,(FIRE DEPARTMENT)</td>\n",
       "      <td>134402</td>\n",
       "      <td>9737</td>\n",
       "      <td>182235</td>\n",
       "      <td>NaN</td>\n",
       "      <td>326373.19</td>\n",
       "      <td>326373.19</td>\n",
       "      <td>2011</td>\n",
       "      <td>San Francisco</td>\n",
       "      <td>NaN</td>\n",
       "    </tr>\n",
       "    <tr>\n",
       "      <th>...</th>\n",
       "      <td>...</td>\n",
       "      <td>...</td>\n",
       "      <td>...</td>\n",
       "      <td>...</td>\n",
       "      <td>...</td>\n",
       "      <td>...</td>\n",
       "      <td>...</td>\n",
       "      <td>...</td>\n",
       "      <td>...</td>\n",
       "      <td>...</td>\n",
       "      <td>...</td>\n",
       "    </tr>\n",
       "    <tr>\n",
       "      <th>148650</th>\n",
       "      <td>Roy I Tillery</td>\n",
       "      <td>Custodian</td>\n",
       "      <td>0.00</td>\n",
       "      <td>0.00</td>\n",
       "      <td>0.00</td>\n",
       "      <td>0.00</td>\n",
       "      <td>0.00</td>\n",
       "      <td>0.00</td>\n",
       "      <td>2014</td>\n",
       "      <td>San Francisco</td>\n",
       "      <td>PT</td>\n",
       "    </tr>\n",
       "    <tr>\n",
       "      <th>148651</th>\n",
       "      <td>Not provided</td>\n",
       "      <td>Not provided</td>\n",
       "      <td>Not Provided</td>\n",
       "      <td>Not Provided</td>\n",
       "      <td>Not Provided</td>\n",
       "      <td>Not Provided</td>\n",
       "      <td>0.00</td>\n",
       "      <td>0.00</td>\n",
       "      <td>2014</td>\n",
       "      <td>San Francisco</td>\n",
       "      <td>NaN</td>\n",
       "    </tr>\n",
       "    <tr>\n",
       "      <th>148652</th>\n",
       "      <td>Not provided</td>\n",
       "      <td>Not provided</td>\n",
       "      <td>Not Provided</td>\n",
       "      <td>Not Provided</td>\n",
       "      <td>Not Provided</td>\n",
       "      <td>Not Provided</td>\n",
       "      <td>0.00</td>\n",
       "      <td>0.00</td>\n",
       "      <td>2014</td>\n",
       "      <td>San Francisco</td>\n",
       "      <td>NaN</td>\n",
       "    </tr>\n",
       "    <tr>\n",
       "      <th>148653</th>\n",
       "      <td>Not provided</td>\n",
       "      <td>Not provided</td>\n",
       "      <td>Not Provided</td>\n",
       "      <td>Not Provided</td>\n",
       "      <td>Not Provided</td>\n",
       "      <td>Not Provided</td>\n",
       "      <td>0.00</td>\n",
       "      <td>0.00</td>\n",
       "      <td>2014</td>\n",
       "      <td>San Francisco</td>\n",
       "      <td>NaN</td>\n",
       "    </tr>\n",
       "    <tr>\n",
       "      <th>148654</th>\n",
       "      <td>Joe Lopez</td>\n",
       "      <td>Counselor, Log Cabin Ranch</td>\n",
       "      <td>0.00</td>\n",
       "      <td>0.00</td>\n",
       "      <td>-618.13</td>\n",
       "      <td>0.00</td>\n",
       "      <td>-618.13</td>\n",
       "      <td>-618.13</td>\n",
       "      <td>2014</td>\n",
       "      <td>San Francisco</td>\n",
       "      <td>PT</td>\n",
       "    </tr>\n",
       "  </tbody>\n",
       "</table>\n",
       "<p>148654 rows × 11 columns</p>\n",
       "</div>"
      ],
      "text/plain": [
       "             EmployeeName                                        JobTitle  \\\n",
       "Id                                                                          \n",
       "1          NATHANIEL FORD  GENERAL MANAGER-METROPOLITAN TRANSIT AUTHORITY   \n",
       "2            GARY JIMENEZ                 CAPTAIN III (POLICE DEPARTMENT)   \n",
       "3          ALBERT PARDINI                 CAPTAIN III (POLICE DEPARTMENT)   \n",
       "4       CHRISTOPHER CHONG            WIRE ROPE CABLE MAINTENANCE MECHANIC   \n",
       "5         PATRICK GARDNER    DEPUTY CHIEF OF DEPARTMENT,(FIRE DEPARTMENT)   \n",
       "...                   ...                                             ...   \n",
       "148650      Roy I Tillery                                       Custodian   \n",
       "148651       Not provided                                    Not provided   \n",
       "148652       Not provided                                    Not provided   \n",
       "148653       Not provided                                    Not provided   \n",
       "148654          Joe Lopez                      Counselor, Log Cabin Ranch   \n",
       "\n",
       "             BasePay   OvertimePay      OtherPay      Benefits   TotalPay  \\\n",
       "Id                                                                          \n",
       "1             167411             0        400184           NaN  567595.43   \n",
       "2             155966        245132        137811           NaN  538909.28   \n",
       "3             212739        106088       16452.6           NaN  335279.91   \n",
       "4              77916       56120.7        198307           NaN  332343.61   \n",
       "5             134402          9737        182235           NaN  326373.19   \n",
       "...              ...           ...           ...           ...        ...   \n",
       "148650          0.00          0.00          0.00          0.00       0.00   \n",
       "148651  Not Provided  Not Provided  Not Provided  Not Provided       0.00   \n",
       "148652  Not Provided  Not Provided  Not Provided  Not Provided       0.00   \n",
       "148653  Not Provided  Not Provided  Not Provided  Not Provided       0.00   \n",
       "148654          0.00          0.00       -618.13          0.00    -618.13   \n",
       "\n",
       "        TotalPayBenefits  Year         Agency Status  \n",
       "Id                                                    \n",
       "1              567595.43  2011  San Francisco    NaN  \n",
       "2              538909.28  2011  San Francisco    NaN  \n",
       "3              335279.91  2011  San Francisco    NaN  \n",
       "4              332343.61  2011  San Francisco    NaN  \n",
       "5              326373.19  2011  San Francisco    NaN  \n",
       "...                  ...   ...            ...    ...  \n",
       "148650              0.00  2014  San Francisco     PT  \n",
       "148651              0.00  2014  San Francisco    NaN  \n",
       "148652              0.00  2014  San Francisco    NaN  \n",
       "148653              0.00  2014  San Francisco    NaN  \n",
       "148654           -618.13  2014  San Francisco     PT  \n",
       "\n",
       "[148654 rows x 11 columns]"
      ]
     },
     "execution_count": 231,
     "metadata": {},
     "output_type": "execute_result"
    }
   ],
   "source": [
    "salaries"
   ]
  },
  {
   "cell_type": "code",
   "execution_count": 237,
   "metadata": {},
   "outputs": [
    {
     "data": {
      "text/plain": [
       "Id\n",
       "1    NATHANIEL FORD\n",
       "Name: EmployeeName, dtype: object"
      ]
     },
     "execution_count": 237,
     "metadata": {},
     "output_type": "execute_result"
    }
   ],
   "source": [
    "# Who is the highest paid?\n",
    "salaries[salaries['TotalPayBenefits'] == salaries['TotalPayBenefits'].max()]['EmployeeName']"
   ]
  },
  {
   "cell_type": "code",
   "execution_count": 240,
   "metadata": {},
   "outputs": [
    {
     "data": {
      "text/plain": [
       "Transit Operator                7036\n",
       "Special Nurse                   4389\n",
       "Registered Nurse                3736\n",
       "Public Svc Aide-Public Works    2518\n",
       "Police Officer 3                2421\n",
       "Name: JobTitle, dtype: int64"
      ]
     },
     "execution_count": 240,
     "metadata": {},
     "output_type": "execute_result"
    }
   ],
   "source": [
    "# What are the five most common job titles?\n",
    "salaries['JobTitle'].value_counts()[0:5]"
   ]
  },
  {
   "cell_type": "code",
   "execution_count": 241,
   "metadata": {},
   "outputs": [
    {
     "data": {
      "text/plain": [
       "411"
      ]
     },
     "execution_count": 241,
     "metadata": {},
     "output_type": "execute_result"
    }
   ],
   "source": [
    "# How many people have the word 'Captain' in their job titles?\n",
    "salaries['JobTitle'].apply(lambda title: 'Captain' in title).sum()"
   ]
  }
 ],
 "metadata": {
  "kernelspec": {
   "display_name": "Python 3",
   "language": "python",
   "name": "python3"
  },
  "language_info": {
   "codemirror_mode": {
    "name": "ipython",
    "version": 3
   },
   "file_extension": ".py",
   "mimetype": "text/x-python",
   "name": "python",
   "nbconvert_exporter": "python",
   "pygments_lexer": "ipython3",
   "version": "3.7.6"
  }
 },
 "nbformat": 4,
 "nbformat_minor": 4
}

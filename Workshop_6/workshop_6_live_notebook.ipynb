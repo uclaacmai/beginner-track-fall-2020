{
  "nbformat": 4,
  "nbformat_minor": 0,
  "metadata": {
    "colab": {
      "name": "workshop_6_live_notebook.ipynb",
      "provenance": [],
      "collapsed_sections": []
    },
    "kernelspec": {
      "name": "python3",
      "display_name": "Python 3"
    }
  },
  "cells": [
    {
      "cell_type": "code",
      "metadata": {
        "id": "ETPcRaPzUrnF"
      },
      "source": [
        "# numpy = numerical python"
      ],
      "execution_count": 2,
      "outputs": []
    },
    {
      "cell_type": "code",
      "metadata": {
        "id": "YN2Z6fx2VK_E"
      },
      "source": [
        "import numpy as np "
      ],
      "execution_count": 3,
      "outputs": []
    },
    {
      "cell_type": "code",
      "metadata": {
        "id": "9Rd95kEmU0v7"
      },
      "source": [
        "my_list = [1, 2, 3]"
      ],
      "execution_count": 4,
      "outputs": []
    },
    {
      "cell_type": "code",
      "metadata": {
        "colab": {
          "base_uri": "https://localhost:8080/"
        },
        "id": "L8QLZVMfU2_H",
        "outputId": "e4174b26-52d2-4da5-ef7e-7c795946cc5d"
      },
      "source": [
        "new_list = [i**2 for i in my_list]\n",
        "new_list"
      ],
      "execution_count": 5,
      "outputs": [
        {
          "output_type": "execute_result",
          "data": {
            "text/plain": [
              "[1, 4, 9]"
            ]
          },
          "metadata": {
            "tags": []
          },
          "execution_count": 5
        }
      ]
    },
    {
      "cell_type": "code",
      "metadata": {
        "colab": {
          "base_uri": "https://localhost:8080/"
        },
        "id": "5EgoV-reU9IU",
        "outputId": "75570b64-edf2-4d67-af15-46ae7e393a27"
      },
      "source": [
        "# array \n",
        "np.array([1, 2, 3])"
      ],
      "execution_count": 6,
      "outputs": [
        {
          "output_type": "execute_result",
          "data": {
            "text/plain": [
              "array([1, 2, 3])"
            ]
          },
          "metadata": {
            "tags": []
          },
          "execution_count": 6
        }
      ]
    },
    {
      "cell_type": "code",
      "metadata": {
        "colab": {
          "base_uri": "https://localhost:8080/"
        },
        "id": "Shd1VisVVSqC",
        "outputId": "3325fa56-89ee-4e58-c34d-cb21580823bc"
      },
      "source": [
        "np.arange(1, 10)"
      ],
      "execution_count": 7,
      "outputs": [
        {
          "output_type": "execute_result",
          "data": {
            "text/plain": [
              "array([1, 2, 3, 4, 5, 6, 7, 8, 9])"
            ]
          },
          "metadata": {
            "tags": []
          },
          "execution_count": 7
        }
      ]
    },
    {
      "cell_type": "code",
      "metadata": {
        "colab": {
          "base_uri": "https://localhost:8080/"
        },
        "id": "_7u8B0o9VXSt",
        "outputId": "a3e93ba0-838f-43c0-d63e-9f841dcd7f5a"
      },
      "source": [
        "np.arange(1, 6, 2)"
      ],
      "execution_count": 8,
      "outputs": [
        {
          "output_type": "execute_result",
          "data": {
            "text/plain": [
              "array([1, 3, 5])"
            ]
          },
          "metadata": {
            "tags": []
          },
          "execution_count": 8
        }
      ]
    },
    {
      "cell_type": "code",
      "metadata": {
        "colab": {
          "base_uri": "https://localhost:8080/"
        },
        "id": "5SsxxDZxVcQF",
        "outputId": "00e78f92-3464-4066-f573-5f9e3064b0d1"
      },
      "source": [
        "# linspace = linearly spaced values \n",
        "# linspace(start, stop, num_of_values)\n",
        "np.linspace(1, 10, num = 15)"
      ],
      "execution_count": 9,
      "outputs": [
        {
          "output_type": "execute_result",
          "data": {
            "text/plain": [
              "array([ 1.        ,  1.64285714,  2.28571429,  2.92857143,  3.57142857,\n",
              "        4.21428571,  4.85714286,  5.5       ,  6.14285714,  6.78571429,\n",
              "        7.42857143,  8.07142857,  8.71428571,  9.35714286, 10.        ])"
            ]
          },
          "metadata": {
            "tags": []
          },
          "execution_count": 9
        }
      ]
    },
    {
      "cell_type": "code",
      "metadata": {
        "id": "jkqHfoVWWcY4"
      },
      "source": [
        "# random arrays "
      ],
      "execution_count": 10,
      "outputs": []
    },
    {
      "cell_type": "code",
      "metadata": {
        "colab": {
          "base_uri": "https://localhost:8080/"
        },
        "id": "rbU2udPXWlVm",
        "outputId": "7ebf56a4-1da5-4dea-ccee-6e9f88f73f04"
      },
      "source": [
        "np.random.randint(1, 10)"
      ],
      "execution_count": 11,
      "outputs": [
        {
          "output_type": "execute_result",
          "data": {
            "text/plain": [
              "1"
            ]
          },
          "metadata": {
            "tags": []
          },
          "execution_count": 11
        }
      ]
    },
    {
      "cell_type": "code",
      "metadata": {
        "colab": {
          "base_uri": "https://localhost:8080/"
        },
        "id": "u4xcgadpWpAk",
        "outputId": "b89fdc51-69f9-4f77-9267-f36a46c80f4b"
      },
      "source": [
        "np.random.randint(1, 10, (5, 5))"
      ],
      "execution_count": 12,
      "outputs": [
        {
          "output_type": "execute_result",
          "data": {
            "text/plain": [
              "array([[4, 5, 8, 9, 7],\n",
              "       [6, 3, 4, 8, 3],\n",
              "       [4, 3, 9, 5, 9],\n",
              "       [9, 3, 6, 8, 2],\n",
              "       [2, 1, 4, 1, 2]])"
            ]
          },
          "metadata": {
            "tags": []
          },
          "execution_count": 12
        }
      ]
    },
    {
      "cell_type": "code",
      "metadata": {
        "colab": {
          "base_uri": "https://localhost:8080/"
        },
        "id": "IKw0n5aXWtou",
        "outputId": "5af8311f-0bbd-4373-9f31-70601c8515c7"
      },
      "source": [
        "np.random.rand(10)"
      ],
      "execution_count": 13,
      "outputs": [
        {
          "output_type": "execute_result",
          "data": {
            "text/plain": [
              "array([0.43953816, 0.58174125, 0.17954617, 0.90566337, 0.7838265 ,\n",
              "       0.96328075, 0.38954497, 0.20100816, 0.96138039, 0.73663145])"
            ]
          },
          "metadata": {
            "tags": []
          },
          "execution_count": 13
        }
      ]
    },
    {
      "cell_type": "code",
      "metadata": {
        "colab": {
          "base_uri": "https://localhost:8080/"
        },
        "id": "mxI9ZCG4WyfI",
        "outputId": "c8be9efd-8622-4f71-993e-84130cbd3920"
      },
      "source": [
        "# returns something between 0 and 1 \n",
        "np.random.rand(5, 5)"
      ],
      "execution_count": 14,
      "outputs": [
        {
          "output_type": "execute_result",
          "data": {
            "text/plain": [
              "array([[0.33554716, 0.06336336, 0.67687891, 0.56534047, 0.87550437],\n",
              "       [0.28218897, 0.12198558, 0.01626912, 0.91727576, 0.26493567],\n",
              "       [0.35822872, 0.60167119, 0.55507172, 0.00505948, 0.04143298],\n",
              "       [0.33082325, 0.64327508, 0.81648282, 0.28476431, 0.85303895],\n",
              "       [0.56496139, 0.7196335 , 0.2458344 , 0.40518238, 0.71949137]])"
            ]
          },
          "metadata": {
            "tags": []
          },
          "execution_count": 14
        }
      ]
    },
    {
      "cell_type": "code",
      "metadata": {
        "colab": {
          "base_uri": "https://localhost:8080/"
        },
        "id": "P1g03A_SXzJ6",
        "outputId": "e2205f29-59f3-4990-895d-3a7b7c945471"
      },
      "source": [
        "# random value between 2 and 4 \n",
        "2 + 2*np.random.rand(1)"
      ],
      "execution_count": 15,
      "outputs": [
        {
          "output_type": "execute_result",
          "data": {
            "text/plain": [
              "array([2.23852017])"
            ]
          },
          "metadata": {
            "tags": []
          },
          "execution_count": 15
        }
      ]
    },
    {
      "cell_type": "code",
      "metadata": {
        "id": "DTs1elTSW4HS"
      },
      "source": [
        "# attributes "
      ],
      "execution_count": 16,
      "outputs": []
    },
    {
      "cell_type": "code",
      "metadata": {
        "colab": {
          "base_uri": "https://localhost:8080/"
        },
        "id": "fNkHZbBAW8hF",
        "outputId": "1ba7ab93-76f0-49f3-bc75-17a2217eed95"
      },
      "source": [
        "arr = np.random.randint(1, 10, (4, 5))\n",
        "arr"
      ],
      "execution_count": 17,
      "outputs": [
        {
          "output_type": "execute_result",
          "data": {
            "text/plain": [
              "array([[9, 3, 2, 9, 9],\n",
              "       [2, 1, 9, 9, 4],\n",
              "       [2, 6, 5, 8, 5],\n",
              "       [6, 3, 3, 8, 8]])"
            ]
          },
          "metadata": {
            "tags": []
          },
          "execution_count": 17
        }
      ]
    },
    {
      "cell_type": "code",
      "metadata": {
        "colab": {
          "base_uri": "https://localhost:8080/"
        },
        "id": "bvpoz1BRW_3p",
        "outputId": "07eba692-7696-4383-cad5-5ed5285f7f08"
      },
      "source": [
        "arr.shape"
      ],
      "execution_count": 18,
      "outputs": [
        {
          "output_type": "execute_result",
          "data": {
            "text/plain": [
              "(4, 5)"
            ]
          },
          "metadata": {
            "tags": []
          },
          "execution_count": 18
        }
      ]
    },
    {
      "cell_type": "code",
      "metadata": {
        "colab": {
          "base_uri": "https://localhost:8080/"
        },
        "id": "Evn8S6vMXG_M",
        "outputId": "57075ba2-cf5a-436b-81e0-bfb46b3cb7e3"
      },
      "source": [
        "arr.T "
      ],
      "execution_count": 19,
      "outputs": [
        {
          "output_type": "execute_result",
          "data": {
            "text/plain": [
              "array([[9, 2, 2, 6],\n",
              "       [3, 1, 6, 3],\n",
              "       [2, 9, 5, 3],\n",
              "       [9, 9, 8, 8],\n",
              "       [9, 4, 5, 8]])"
            ]
          },
          "metadata": {
            "tags": []
          },
          "execution_count": 19
        }
      ]
    },
    {
      "cell_type": "code",
      "metadata": {
        "colab": {
          "base_uri": "https://localhost:8080/"
        },
        "id": "MlgtCJS6XR6Z",
        "outputId": "c0061f95-ce36-4ea6-ef7b-97963c7e2a0b"
      },
      "source": [
        "arr.reshape(2, 10)"
      ],
      "execution_count": 20,
      "outputs": [
        {
          "output_type": "execute_result",
          "data": {
            "text/plain": [
              "array([[9, 3, 2, 9, 9, 2, 1, 9, 9, 4],\n",
              "       [2, 6, 5, 8, 5, 6, 3, 3, 8, 8]])"
            ]
          },
          "metadata": {
            "tags": []
          },
          "execution_count": 20
        }
      ]
    },
    {
      "cell_type": "code",
      "metadata": {
        "id": "Wu_uaXRdXXhN"
      },
      "source": [
        "# access values in an array"
      ],
      "execution_count": 21,
      "outputs": []
    },
    {
      "cell_type": "code",
      "metadata": {
        "colab": {
          "base_uri": "https://localhost:8080/"
        },
        "id": "YH6ytO89YMiA",
        "outputId": "213e1dc1-1fd4-4aad-82f6-4a874ad268f4"
      },
      "source": [
        "arr"
      ],
      "execution_count": 22,
      "outputs": [
        {
          "output_type": "execute_result",
          "data": {
            "text/plain": [
              "array([[9, 3, 2, 9, 9],\n",
              "       [2, 1, 9, 9, 4],\n",
              "       [2, 6, 5, 8, 5],\n",
              "       [6, 3, 3, 8, 8]])"
            ]
          },
          "metadata": {
            "tags": []
          },
          "execution_count": 22
        }
      ]
    },
    {
      "cell_type": "code",
      "metadata": {
        "colab": {
          "base_uri": "https://localhost:8080/"
        },
        "id": "PBCYthwdYNLs",
        "outputId": "04f09ad0-e367-4d37-c12a-676cb81e2c70"
      },
      "source": [
        "arr[0, 0]"
      ],
      "execution_count": 23,
      "outputs": [
        {
          "output_type": "execute_result",
          "data": {
            "text/plain": [
              "9"
            ]
          },
          "metadata": {
            "tags": []
          },
          "execution_count": 23
        }
      ]
    },
    {
      "cell_type": "code",
      "metadata": {
        "colab": {
          "base_uri": "https://localhost:8080/"
        },
        "id": "r61iGPGtYPsZ",
        "outputId": "14c6bd10-5ca7-4605-e3a4-083e717ccc19"
      },
      "source": [
        "arr[0, :]"
      ],
      "execution_count": 24,
      "outputs": [
        {
          "output_type": "execute_result",
          "data": {
            "text/plain": [
              "array([9, 3, 2, 9, 9])"
            ]
          },
          "metadata": {
            "tags": []
          },
          "execution_count": 24
        }
      ]
    },
    {
      "cell_type": "code",
      "metadata": {
        "colab": {
          "base_uri": "https://localhost:8080/"
        },
        "id": "AvTMgFrWYVXE",
        "outputId": "7d58d60b-d22b-40d7-e67c-2ab601501b41"
      },
      "source": [
        "new_arr = arr.copy()\n",
        "new_arr"
      ],
      "execution_count": 25,
      "outputs": [
        {
          "output_type": "execute_result",
          "data": {
            "text/plain": [
              "array([[9, 3, 2, 9, 9],\n",
              "       [2, 1, 9, 9, 4],\n",
              "       [2, 6, 5, 8, 5],\n",
              "       [6, 3, 3, 8, 8]])"
            ]
          },
          "metadata": {
            "tags": []
          },
          "execution_count": 25
        }
      ]
    },
    {
      "cell_type": "code",
      "metadata": {
        "id": "qPBxQ9eKYfFr"
      },
      "source": [
        "# broadcasting "
      ],
      "execution_count": 26,
      "outputs": []
    },
    {
      "cell_type": "code",
      "metadata": {
        "colab": {
          "base_uri": "https://localhost:8080/"
        },
        "id": "M7YpmfAmYmJR",
        "outputId": "cfed7d29-9c11-43c8-f38e-c472cf8bb73d"
      },
      "source": [
        "# double each of the elements of the array\n",
        "new_arr = 2*arr\n",
        "new_arr"
      ],
      "execution_count": 27,
      "outputs": [
        {
          "output_type": "execute_result",
          "data": {
            "text/plain": [
              "array([[18,  6,  4, 18, 18],\n",
              "       [ 4,  2, 18, 18,  8],\n",
              "       [ 4, 12, 10, 16, 10],\n",
              "       [12,  6,  6, 16, 16]])"
            ]
          },
          "metadata": {
            "tags": []
          },
          "execution_count": 27
        }
      ]
    },
    {
      "cell_type": "code",
      "metadata": {
        "colab": {
          "base_uri": "https://localhost:8080/"
        },
        "id": "zVAj5yhAZJrK",
        "outputId": "623ffe42-81d7-4221-dfa8-e8ce49529724"
      },
      "source": [
        "arr"
      ],
      "execution_count": 28,
      "outputs": [
        {
          "output_type": "execute_result",
          "data": {
            "text/plain": [
              "array([[9, 3, 2, 9, 9],\n",
              "       [2, 1, 9, 9, 4],\n",
              "       [2, 6, 5, 8, 5],\n",
              "       [6, 3, 3, 8, 8]])"
            ]
          },
          "metadata": {
            "tags": []
          },
          "execution_count": 28
        }
      ]
    },
    {
      "cell_type": "code",
      "metadata": {
        "colab": {
          "base_uri": "https://localhost:8080/"
        },
        "id": "6RHdDJrAYrRE",
        "outputId": "c2dfbcd6-9f0c-4870-dee4-79a0899500ea"
      },
      "source": [
        "arr > 5"
      ],
      "execution_count": 29,
      "outputs": [
        {
          "output_type": "execute_result",
          "data": {
            "text/plain": [
              "array([[ True, False, False,  True,  True],\n",
              "       [False, False,  True,  True, False],\n",
              "       [False,  True, False,  True, False],\n",
              "       [ True, False, False,  True,  True]])"
            ]
          },
          "metadata": {
            "tags": []
          },
          "execution_count": 29
        }
      ]
    },
    {
      "cell_type": "code",
      "metadata": {
        "colab": {
          "base_uri": "https://localhost:8080/"
        },
        "id": "zMTiFseaZDKc",
        "outputId": "bb83514e-59d1-493b-b7d6-ed6a586421d7"
      },
      "source": [
        "arr[arr > 5]"
      ],
      "execution_count": 30,
      "outputs": [
        {
          "output_type": "execute_result",
          "data": {
            "text/plain": [
              "array([9, 9, 9, 9, 9, 6, 8, 6, 8, 8])"
            ]
          },
          "metadata": {
            "tags": []
          },
          "execution_count": 30
        }
      ]
    },
    {
      "cell_type": "code",
      "metadata": {
        "id": "SyxqLd0cZfja"
      },
      "source": [
        "# math functions"
      ],
      "execution_count": 31,
      "outputs": []
    },
    {
      "cell_type": "code",
      "metadata": {
        "colab": {
          "base_uri": "https://localhost:8080/"
        },
        "id": "_-zLtb3ZZ7WT",
        "outputId": "99e9427b-2af9-474d-c91e-eae569e899d2"
      },
      "source": [
        "arr"
      ],
      "execution_count": 32,
      "outputs": [
        {
          "output_type": "execute_result",
          "data": {
            "text/plain": [
              "array([[9, 3, 2, 9, 9],\n",
              "       [2, 1, 9, 9, 4],\n",
              "       [2, 6, 5, 8, 5],\n",
              "       [6, 3, 3, 8, 8]])"
            ]
          },
          "metadata": {
            "tags": []
          },
          "execution_count": 32
        }
      ]
    },
    {
      "cell_type": "code",
      "metadata": {
        "colab": {
          "base_uri": "https://localhost:8080/"
        },
        "id": "uBjnkN0bZ8Jb",
        "outputId": "5b7258a7-e79c-47ed-e26e-5adfb04ed547"
      },
      "source": [
        "new_arr = np.exp(arr)\n",
        "new_arr"
      ],
      "execution_count": 33,
      "outputs": [
        {
          "output_type": "execute_result",
          "data": {
            "text/plain": [
              "array([[8.10308393e+03, 2.00855369e+01, 7.38905610e+00, 8.10308393e+03,\n",
              "        8.10308393e+03],\n",
              "       [7.38905610e+00, 2.71828183e+00, 8.10308393e+03, 8.10308393e+03,\n",
              "        5.45981500e+01],\n",
              "       [7.38905610e+00, 4.03428793e+02, 1.48413159e+02, 2.98095799e+03,\n",
              "        1.48413159e+02],\n",
              "       [4.03428793e+02, 2.00855369e+01, 2.00855369e+01, 2.98095799e+03,\n",
              "        2.98095799e+03]])"
            ]
          },
          "metadata": {
            "tags": []
          },
          "execution_count": 33
        }
      ]
    },
    {
      "cell_type": "code",
      "metadata": {
        "colab": {
          "base_uri": "https://localhost:8080/"
        },
        "id": "RJXOsBmWaAF2",
        "outputId": "376edb80-75c1-4351-cb02-1d504b910892"
      },
      "source": [
        "new_arr = np.sin(arr) \n",
        "new_arr"
      ],
      "execution_count": 34,
      "outputs": [
        {
          "output_type": "execute_result",
          "data": {
            "text/plain": [
              "array([[ 0.41211849,  0.14112001,  0.90929743,  0.41211849,  0.41211849],\n",
              "       [ 0.90929743,  0.84147098,  0.41211849,  0.41211849, -0.7568025 ],\n",
              "       [ 0.90929743, -0.2794155 , -0.95892427,  0.98935825, -0.95892427],\n",
              "       [-0.2794155 ,  0.14112001,  0.14112001,  0.98935825,  0.98935825]])"
            ]
          },
          "metadata": {
            "tags": []
          },
          "execution_count": 34
        }
      ]
    },
    {
      "cell_type": "code",
      "metadata": {
        "colab": {
          "base_uri": "https://localhost:8080/"
        },
        "id": "GOi7adX7acAL",
        "outputId": "b8bc9ea8-1473-447c-c51e-163d20442c3b"
      },
      "source": [
        "arr"
      ],
      "execution_count": 35,
      "outputs": [
        {
          "output_type": "execute_result",
          "data": {
            "text/plain": [
              "array([[9, 3, 2, 9, 9],\n",
              "       [2, 1, 9, 9, 4],\n",
              "       [2, 6, 5, 8, 5],\n",
              "       [6, 3, 3, 8, 8]])"
            ]
          },
          "metadata": {
            "tags": []
          },
          "execution_count": 35
        }
      ]
    },
    {
      "cell_type": "code",
      "metadata": {
        "colab": {
          "base_uri": "https://localhost:8080/"
        },
        "id": "sytnvaeIaNBi",
        "outputId": "90c49674-7ad0-4c73-976d-009a9fa3c180"
      },
      "source": [
        "np.mean(arr)"
      ],
      "execution_count": 36,
      "outputs": [
        {
          "output_type": "execute_result",
          "data": {
            "text/plain": [
              "5.55"
            ]
          },
          "metadata": {
            "tags": []
          },
          "execution_count": 36
        }
      ]
    },
    {
      "cell_type": "code",
      "metadata": {
        "colab": {
          "base_uri": "https://localhost:8080/"
        },
        "id": "RIXs7afja9on",
        "outputId": "4eacc71b-43a1-4c1e-889e-64051842b9ab"
      },
      "source": [
        "tensor = np.random.rand(2, 3, 4)\n",
        "tensor"
      ],
      "execution_count": 37,
      "outputs": [
        {
          "output_type": "execute_result",
          "data": {
            "text/plain": [
              "array([[[9.07709421e-01, 8.62813648e-01, 2.94543507e-01, 4.40360551e-02],\n",
              "        [6.75895703e-01, 3.39369895e-01, 4.91024126e-01, 8.83613965e-03],\n",
              "        [4.05832490e-01, 5.38282979e-01, 6.26429588e-01, 3.76903921e-01]],\n",
              "\n",
              "       [[8.59580633e-01, 4.49906246e-01, 8.22747590e-01, 8.03961598e-01],\n",
              "        [2.09201006e-01, 3.98141907e-02, 2.37227744e-01, 6.12747479e-01],\n",
              "        [8.65933805e-01, 6.88060733e-01, 1.36404308e-01, 6.82277849e-04]]])"
            ]
          },
          "metadata": {
            "tags": []
          },
          "execution_count": 37
        }
      ]
    },
    {
      "cell_type": "code",
      "metadata": {
        "id": "vjS39y7obKQX"
      },
      "source": [
        "# axis = 0, 1 , 2"
      ],
      "execution_count": 38,
      "outputs": []
    },
    {
      "cell_type": "code",
      "metadata": {
        "colab": {
          "base_uri": "https://localhost:8080/"
        },
        "id": "TA_sK1Awaays",
        "outputId": "e3ae85b9-75f9-4e64-ac62-c61543e67488"
      },
      "source": [
        "np.mean(arr, axis = 1)   # std, max, min, "
      ],
      "execution_count": 39,
      "outputs": [
        {
          "output_type": "execute_result",
          "data": {
            "text/plain": [
              "array([6.4, 5. , 5.2, 5.6])"
            ]
          },
          "metadata": {
            "tags": []
          },
          "execution_count": 39
        }
      ]
    },
    {
      "cell_type": "markdown",
      "metadata": {
        "id": "WXyL17ZSMk1y"
      },
      "source": [
        "![image.png](data:image/png;base64,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)"
      ]
    },
    {
      "cell_type": "code",
      "metadata": {
        "id": "OCq975n6bYdG"
      },
      "source": [
        "# softmax using only python\n",
        "\n",
        "def softmax(z):\n",
        "\n",
        "  expz  = [2.718**i for i in z]\n",
        "\n",
        "  s = sum(expz) \n",
        "\n",
        "  output = []\n",
        "  for i in expz: \n",
        "    output.append(i/s) \n",
        "  \n",
        "  return output\n"
      ],
      "execution_count": 40,
      "outputs": []
    },
    {
      "cell_type": "code",
      "metadata": {
        "colab": {
          "base_uri": "https://localhost:8080/"
        },
        "id": "T8s65QaXb7Gx",
        "outputId": "6b9b5a8e-7282-4a58-a092-7a653f20f018"
      },
      "source": [
        "softmax([3, 4, 1, 2])"
      ],
      "execution_count": 41,
      "outputs": [
        {
          "output_type": "execute_result",
          "data": {
            "text/plain": [
              "[0.23689491766859275,\n",
              " 0.6438803862232351,\n",
              " 0.032066889754753115,\n",
              " 0.08715780635341897]"
            ]
          },
          "metadata": {
            "tags": []
          },
          "execution_count": 41
        }
      ]
    },
    {
      "cell_type": "code",
      "metadata": {
        "id": "5zkcA0eNb9V6"
      },
      "source": [
        "# softmax using np\n",
        "\n",
        "def softmax(z): \n",
        "\n",
        "  expz = np.exp(z) \n",
        "\n",
        "  s = np.sum(expz) \n",
        "\n",
        "  output = expz/s   # use broadcasting \n",
        "\n",
        "  return output\n"
      ],
      "execution_count": 42,
      "outputs": []
    },
    {
      "cell_type": "code",
      "metadata": {
        "id": "ZQdOI536cgb6"
      },
      "source": [
        "def softmax(z): \n",
        "  return np.exp(z)/np.sum(np.exp(z))"
      ],
      "execution_count": 43,
      "outputs": []
    },
    {
      "cell_type": "code",
      "metadata": {
        "colab": {
          "base_uri": "https://localhost:8080/"
        },
        "id": "9Feq6UcUcE_V",
        "outputId": "bac5939c-d8fe-4d41-82db-2dfce2620983"
      },
      "source": [
        "z = [3, 4, 1, 2]\n",
        "\n",
        "softmax(np.array(z)) "
      ],
      "execution_count": 44,
      "outputs": [
        {
          "output_type": "execute_result",
          "data": {
            "text/plain": [
              "array([0.23688282, 0.64391426, 0.0320586 , 0.08714432])"
            ]
          },
          "metadata": {
            "tags": []
          },
          "execution_count": 44
        }
      ]
    },
    {
      "cell_type": "code",
      "metadata": {
        "id": "SNeiM5dNcWoi"
      },
      "source": [
        "import pandas as pd "
      ],
      "execution_count": 45,
      "outputs": []
    },
    {
      "cell_type": "code",
      "metadata": {
        "colab": {
          "base_uri": "https://localhost:8080/"
        },
        "id": "DvYAdRk_X311",
        "outputId": "69f7677c-b9f8-447f-c442-597beafb35e8"
      },
      "source": [
        "some_series = pd.Series(data=[1,2,3,4, 5], index=['A', 'B', 'C', 'D', 'E'])\n",
        "some_series"
      ],
      "execution_count": 46,
      "outputs": [
        {
          "output_type": "execute_result",
          "data": {
            "text/plain": [
              "A    1\n",
              "B    2\n",
              "C    3\n",
              "D    4\n",
              "E    5\n",
              "dtype: int64"
            ]
          },
          "metadata": {
            "tags": []
          },
          "execution_count": 46
        }
      ]
    },
    {
      "cell_type": "code",
      "metadata": {
        "colab": {
          "base_uri": "https://localhost:8080/"
        },
        "id": "-7-KDcrUX-ZV",
        "outputId": "6545726a-4747-47a7-d8c2-51dc7c311529"
      },
      "source": [
        "some_series['A']"
      ],
      "execution_count": 47,
      "outputs": [
        {
          "output_type": "execute_result",
          "data": {
            "text/plain": [
              "1"
            ]
          },
          "metadata": {
            "tags": []
          },
          "execution_count": 47
        }
      ]
    },
    {
      "cell_type": "code",
      "metadata": {
        "colab": {
          "base_uri": "https://localhost:8080/"
        },
        "id": "peyEAOQceYi8",
        "outputId": "ae4e1ec5-1ba1-484f-96e1-2feae084bdce"
      },
      "source": [
        "another_series = pd.Series(data=[10, 20, 30, 40, 50], index=['A', 'B', 'C', 'D', 'E'])\n",
        "another_series"
      ],
      "execution_count": 48,
      "outputs": [
        {
          "output_type": "execute_result",
          "data": {
            "text/plain": [
              "A    10\n",
              "B    20\n",
              "C    30\n",
              "D    40\n",
              "E    50\n",
              "dtype: int64"
            ]
          },
          "metadata": {
            "tags": []
          },
          "execution_count": 48
        }
      ]
    },
    {
      "cell_type": "code",
      "metadata": {
        "colab": {
          "base_uri": "https://localhost:8080/"
        },
        "id": "BaqyQF22eULd",
        "outputId": "ddff7643-61a1-48d5-8dcb-be5326c5739b"
      },
      "source": [
        "another_series + some_series"
      ],
      "execution_count": 49,
      "outputs": [
        {
          "output_type": "execute_result",
          "data": {
            "text/plain": [
              "A    11\n",
              "B    22\n",
              "C    33\n",
              "D    44\n",
              "E    55\n",
              "dtype: int64"
            ]
          },
          "metadata": {
            "tags": []
          },
          "execution_count": 49
        }
      ]
    },
    {
      "cell_type": "code",
      "metadata": {
        "colab": {
          "base_uri": "https://localhost:8080/",
          "height": 359
        },
        "id": "NDy392v4ewjO",
        "outputId": "441bffc6-f98b-41f5-a06c-241387b02cbd"
      },
      "source": [
        "np_array = np.random.randint(0,99, 100).reshape(10,10)\n",
        "df = pd.DataFrame(data=np_array, \n",
        "                  index=['A', 'B', 'C', 'D', 'E', 'F', 'G', 'H', 'I', 'J'], \n",
        "                  columns=['a', 'b', 'c', 'd', 'e', 'f', 'g', 'h', 'i', 'j'])\n",
        "df"
      ],
      "execution_count": 50,
      "outputs": [
        {
          "output_type": "execute_result",
          "data": {
            "text/html": [
              "<div>\n",
              "<style scoped>\n",
              "    .dataframe tbody tr th:only-of-type {\n",
              "        vertical-align: middle;\n",
              "    }\n",
              "\n",
              "    .dataframe tbody tr th {\n",
              "        vertical-align: top;\n",
              "    }\n",
              "\n",
              "    .dataframe thead th {\n",
              "        text-align: right;\n",
              "    }\n",
              "</style>\n",
              "<table border=\"1\" class=\"dataframe\">\n",
              "  <thead>\n",
              "    <tr style=\"text-align: right;\">\n",
              "      <th></th>\n",
              "      <th>a</th>\n",
              "      <th>b</th>\n",
              "      <th>c</th>\n",
              "      <th>d</th>\n",
              "      <th>e</th>\n",
              "      <th>f</th>\n",
              "      <th>g</th>\n",
              "      <th>h</th>\n",
              "      <th>i</th>\n",
              "      <th>j</th>\n",
              "    </tr>\n",
              "  </thead>\n",
              "  <tbody>\n",
              "    <tr>\n",
              "      <th>A</th>\n",
              "      <td>65</td>\n",
              "      <td>3</td>\n",
              "      <td>51</td>\n",
              "      <td>54</td>\n",
              "      <td>65</td>\n",
              "      <td>43</td>\n",
              "      <td>93</td>\n",
              "      <td>18</td>\n",
              "      <td>94</td>\n",
              "      <td>51</td>\n",
              "    </tr>\n",
              "    <tr>\n",
              "      <th>B</th>\n",
              "      <td>13</td>\n",
              "      <td>55</td>\n",
              "      <td>18</td>\n",
              "      <td>19</td>\n",
              "      <td>9</td>\n",
              "      <td>46</td>\n",
              "      <td>14</td>\n",
              "      <td>81</td>\n",
              "      <td>42</td>\n",
              "      <td>95</td>\n",
              "    </tr>\n",
              "    <tr>\n",
              "      <th>C</th>\n",
              "      <td>8</td>\n",
              "      <td>55</td>\n",
              "      <td>20</td>\n",
              "      <td>9</td>\n",
              "      <td>1</td>\n",
              "      <td>88</td>\n",
              "      <td>38</td>\n",
              "      <td>93</td>\n",
              "      <td>14</td>\n",
              "      <td>3</td>\n",
              "    </tr>\n",
              "    <tr>\n",
              "      <th>D</th>\n",
              "      <td>48</td>\n",
              "      <td>35</td>\n",
              "      <td>21</td>\n",
              "      <td>12</td>\n",
              "      <td>22</td>\n",
              "      <td>92</td>\n",
              "      <td>22</td>\n",
              "      <td>63</td>\n",
              "      <td>49</td>\n",
              "      <td>19</td>\n",
              "    </tr>\n",
              "    <tr>\n",
              "      <th>E</th>\n",
              "      <td>67</td>\n",
              "      <td>48</td>\n",
              "      <td>48</td>\n",
              "      <td>47</td>\n",
              "      <td>65</td>\n",
              "      <td>22</td>\n",
              "      <td>48</td>\n",
              "      <td>93</td>\n",
              "      <td>24</td>\n",
              "      <td>85</td>\n",
              "    </tr>\n",
              "    <tr>\n",
              "      <th>F</th>\n",
              "      <td>81</td>\n",
              "      <td>6</td>\n",
              "      <td>89</td>\n",
              "      <td>78</td>\n",
              "      <td>88</td>\n",
              "      <td>10</td>\n",
              "      <td>20</td>\n",
              "      <td>7</td>\n",
              "      <td>47</td>\n",
              "      <td>39</td>\n",
              "    </tr>\n",
              "    <tr>\n",
              "      <th>G</th>\n",
              "      <td>49</td>\n",
              "      <td>74</td>\n",
              "      <td>8</td>\n",
              "      <td>40</td>\n",
              "      <td>59</td>\n",
              "      <td>69</td>\n",
              "      <td>7</td>\n",
              "      <td>89</td>\n",
              "      <td>78</td>\n",
              "      <td>6</td>\n",
              "    </tr>\n",
              "    <tr>\n",
              "      <th>H</th>\n",
              "      <td>83</td>\n",
              "      <td>56</td>\n",
              "      <td>47</td>\n",
              "      <td>83</td>\n",
              "      <td>8</td>\n",
              "      <td>43</td>\n",
              "      <td>72</td>\n",
              "      <td>9</td>\n",
              "      <td>38</td>\n",
              "      <td>90</td>\n",
              "    </tr>\n",
              "    <tr>\n",
              "      <th>I</th>\n",
              "      <td>23</td>\n",
              "      <td>96</td>\n",
              "      <td>91</td>\n",
              "      <td>89</td>\n",
              "      <td>88</td>\n",
              "      <td>16</td>\n",
              "      <td>4</td>\n",
              "      <td>55</td>\n",
              "      <td>63</td>\n",
              "      <td>49</td>\n",
              "    </tr>\n",
              "    <tr>\n",
              "      <th>J</th>\n",
              "      <td>66</td>\n",
              "      <td>1</td>\n",
              "      <td>98</td>\n",
              "      <td>33</td>\n",
              "      <td>11</td>\n",
              "      <td>4</td>\n",
              "      <td>15</td>\n",
              "      <td>89</td>\n",
              "      <td>83</td>\n",
              "      <td>75</td>\n",
              "    </tr>\n",
              "  </tbody>\n",
              "</table>\n",
              "</div>"
            ],
            "text/plain": [
              "    a   b   c   d   e   f   g   h   i   j\n",
              "A  65   3  51  54  65  43  93  18  94  51\n",
              "B  13  55  18  19   9  46  14  81  42  95\n",
              "C   8  55  20   9   1  88  38  93  14   3\n",
              "D  48  35  21  12  22  92  22  63  49  19\n",
              "E  67  48  48  47  65  22  48  93  24  85\n",
              "F  81   6  89  78  88  10  20   7  47  39\n",
              "G  49  74   8  40  59  69   7  89  78   6\n",
              "H  83  56  47  83   8  43  72   9  38  90\n",
              "I  23  96  91  89  88  16   4  55  63  49\n",
              "J  66   1  98  33  11   4  15  89  83  75"
            ]
          },
          "metadata": {
            "tags": []
          },
          "execution_count": 50
        }
      ]
    },
    {
      "cell_type": "code",
      "metadata": {
        "colab": {
          "base_uri": "https://localhost:8080/"
        },
        "id": "SobLvLlEfNVD",
        "outputId": "c8859bdd-1c9e-4b46-f068-9fcc50beb656"
      },
      "source": [
        "df['a']"
      ],
      "execution_count": 51,
      "outputs": [
        {
          "output_type": "execute_result",
          "data": {
            "text/plain": [
              "A    65\n",
              "B    13\n",
              "C     8\n",
              "D    48\n",
              "E    67\n",
              "F    81\n",
              "G    49\n",
              "H    83\n",
              "I    23\n",
              "J    66\n",
              "Name: a, dtype: int64"
            ]
          },
          "metadata": {
            "tags": []
          },
          "execution_count": 51
        }
      ]
    },
    {
      "cell_type": "code",
      "metadata": {
        "colab": {
          "base_uri": "https://localhost:8080/"
        },
        "id": "DPdsAVGTf7L5",
        "outputId": "ecdbef85-a97d-420b-de03-2eea2628162e"
      },
      "source": [
        "type(df['a'])"
      ],
      "execution_count": 52,
      "outputs": [
        {
          "output_type": "execute_result",
          "data": {
            "text/plain": [
              "pandas.core.series.Series"
            ]
          },
          "metadata": {
            "tags": []
          },
          "execution_count": 52
        }
      ]
    },
    {
      "cell_type": "code",
      "metadata": {
        "colab": {
          "base_uri": "https://localhost:8080/"
        },
        "id": "NeRzJPwCgEr7",
        "outputId": "f61eec79-7e45-4bac-86a4-7f4a1a434f41"
      },
      "source": [
        "df.loc['A']"
      ],
      "execution_count": 53,
      "outputs": [
        {
          "output_type": "execute_result",
          "data": {
            "text/plain": [
              "a    65\n",
              "b     3\n",
              "c    51\n",
              "d    54\n",
              "e    65\n",
              "f    43\n",
              "g    93\n",
              "h    18\n",
              "i    94\n",
              "j    51\n",
              "Name: A, dtype: int64"
            ]
          },
          "metadata": {
            "tags": []
          },
          "execution_count": 53
        }
      ]
    },
    {
      "cell_type": "code",
      "metadata": {
        "colab": {
          "base_uri": "https://localhost:8080/"
        },
        "id": "KNT_Tgg8gKIf",
        "outputId": "50071ff7-c82a-47ae-a8ea-8fe83caf1d2f"
      },
      "source": [
        "df.iloc[0]"
      ],
      "execution_count": 54,
      "outputs": [
        {
          "output_type": "execute_result",
          "data": {
            "text/plain": [
              "a    65\n",
              "b     3\n",
              "c    51\n",
              "d    54\n",
              "e    65\n",
              "f    43\n",
              "g    93\n",
              "h    18\n",
              "i    94\n",
              "j    51\n",
              "Name: A, dtype: int64"
            ]
          },
          "metadata": {
            "tags": []
          },
          "execution_count": 54
        }
      ]
    },
    {
      "cell_type": "code",
      "metadata": {
        "colab": {
          "base_uri": "https://localhost:8080/",
          "height": 359
        },
        "id": "R5GKjYc2gUYf",
        "outputId": "7c5f6dbd-36b9-4a0d-f11b-feb5f441eb30"
      },
      "source": [
        "df['z'] = pd.Series(data=np.random.randint(100,999,10), index=['A', 'B', 'C', 'D', 'E', 'F', 'G', 'H', 'I', 'J'])\n",
        "df"
      ],
      "execution_count": 55,
      "outputs": [
        {
          "output_type": "execute_result",
          "data": {
            "text/html": [
              "<div>\n",
              "<style scoped>\n",
              "    .dataframe tbody tr th:only-of-type {\n",
              "        vertical-align: middle;\n",
              "    }\n",
              "\n",
              "    .dataframe tbody tr th {\n",
              "        vertical-align: top;\n",
              "    }\n",
              "\n",
              "    .dataframe thead th {\n",
              "        text-align: right;\n",
              "    }\n",
              "</style>\n",
              "<table border=\"1\" class=\"dataframe\">\n",
              "  <thead>\n",
              "    <tr style=\"text-align: right;\">\n",
              "      <th></th>\n",
              "      <th>a</th>\n",
              "      <th>b</th>\n",
              "      <th>c</th>\n",
              "      <th>d</th>\n",
              "      <th>e</th>\n",
              "      <th>f</th>\n",
              "      <th>g</th>\n",
              "      <th>h</th>\n",
              "      <th>i</th>\n",
              "      <th>j</th>\n",
              "      <th>z</th>\n",
              "    </tr>\n",
              "  </thead>\n",
              "  <tbody>\n",
              "    <tr>\n",
              "      <th>A</th>\n",
              "      <td>65</td>\n",
              "      <td>3</td>\n",
              "      <td>51</td>\n",
              "      <td>54</td>\n",
              "      <td>65</td>\n",
              "      <td>43</td>\n",
              "      <td>93</td>\n",
              "      <td>18</td>\n",
              "      <td>94</td>\n",
              "      <td>51</td>\n",
              "      <td>728</td>\n",
              "    </tr>\n",
              "    <tr>\n",
              "      <th>B</th>\n",
              "      <td>13</td>\n",
              "      <td>55</td>\n",
              "      <td>18</td>\n",
              "      <td>19</td>\n",
              "      <td>9</td>\n",
              "      <td>46</td>\n",
              "      <td>14</td>\n",
              "      <td>81</td>\n",
              "      <td>42</td>\n",
              "      <td>95</td>\n",
              "      <td>553</td>\n",
              "    </tr>\n",
              "    <tr>\n",
              "      <th>C</th>\n",
              "      <td>8</td>\n",
              "      <td>55</td>\n",
              "      <td>20</td>\n",
              "      <td>9</td>\n",
              "      <td>1</td>\n",
              "      <td>88</td>\n",
              "      <td>38</td>\n",
              "      <td>93</td>\n",
              "      <td>14</td>\n",
              "      <td>3</td>\n",
              "      <td>480</td>\n",
              "    </tr>\n",
              "    <tr>\n",
              "      <th>D</th>\n",
              "      <td>48</td>\n",
              "      <td>35</td>\n",
              "      <td>21</td>\n",
              "      <td>12</td>\n",
              "      <td>22</td>\n",
              "      <td>92</td>\n",
              "      <td>22</td>\n",
              "      <td>63</td>\n",
              "      <td>49</td>\n",
              "      <td>19</td>\n",
              "      <td>854</td>\n",
              "    </tr>\n",
              "    <tr>\n",
              "      <th>E</th>\n",
              "      <td>67</td>\n",
              "      <td>48</td>\n",
              "      <td>48</td>\n",
              "      <td>47</td>\n",
              "      <td>65</td>\n",
              "      <td>22</td>\n",
              "      <td>48</td>\n",
              "      <td>93</td>\n",
              "      <td>24</td>\n",
              "      <td>85</td>\n",
              "      <td>330</td>\n",
              "    </tr>\n",
              "    <tr>\n",
              "      <th>F</th>\n",
              "      <td>81</td>\n",
              "      <td>6</td>\n",
              "      <td>89</td>\n",
              "      <td>78</td>\n",
              "      <td>88</td>\n",
              "      <td>10</td>\n",
              "      <td>20</td>\n",
              "      <td>7</td>\n",
              "      <td>47</td>\n",
              "      <td>39</td>\n",
              "      <td>907</td>\n",
              "    </tr>\n",
              "    <tr>\n",
              "      <th>G</th>\n",
              "      <td>49</td>\n",
              "      <td>74</td>\n",
              "      <td>8</td>\n",
              "      <td>40</td>\n",
              "      <td>59</td>\n",
              "      <td>69</td>\n",
              "      <td>7</td>\n",
              "      <td>89</td>\n",
              "      <td>78</td>\n",
              "      <td>6</td>\n",
              "      <td>107</td>\n",
              "    </tr>\n",
              "    <tr>\n",
              "      <th>H</th>\n",
              "      <td>83</td>\n",
              "      <td>56</td>\n",
              "      <td>47</td>\n",
              "      <td>83</td>\n",
              "      <td>8</td>\n",
              "      <td>43</td>\n",
              "      <td>72</td>\n",
              "      <td>9</td>\n",
              "      <td>38</td>\n",
              "      <td>90</td>\n",
              "      <td>611</td>\n",
              "    </tr>\n",
              "    <tr>\n",
              "      <th>I</th>\n",
              "      <td>23</td>\n",
              "      <td>96</td>\n",
              "      <td>91</td>\n",
              "      <td>89</td>\n",
              "      <td>88</td>\n",
              "      <td>16</td>\n",
              "      <td>4</td>\n",
              "      <td>55</td>\n",
              "      <td>63</td>\n",
              "      <td>49</td>\n",
              "      <td>189</td>\n",
              "    </tr>\n",
              "    <tr>\n",
              "      <th>J</th>\n",
              "      <td>66</td>\n",
              "      <td>1</td>\n",
              "      <td>98</td>\n",
              "      <td>33</td>\n",
              "      <td>11</td>\n",
              "      <td>4</td>\n",
              "      <td>15</td>\n",
              "      <td>89</td>\n",
              "      <td>83</td>\n",
              "      <td>75</td>\n",
              "      <td>542</td>\n",
              "    </tr>\n",
              "  </tbody>\n",
              "</table>\n",
              "</div>"
            ],
            "text/plain": [
              "    a   b   c   d   e   f   g   h   i   j    z\n",
              "A  65   3  51  54  65  43  93  18  94  51  728\n",
              "B  13  55  18  19   9  46  14  81  42  95  553\n",
              "C   8  55  20   9   1  88  38  93  14   3  480\n",
              "D  48  35  21  12  22  92  22  63  49  19  854\n",
              "E  67  48  48  47  65  22  48  93  24  85  330\n",
              "F  81   6  89  78  88  10  20   7  47  39  907\n",
              "G  49  74   8  40  59  69   7  89  78   6  107\n",
              "H  83  56  47  83   8  43  72   9  38  90  611\n",
              "I  23  96  91  89  88  16   4  55  63  49  189\n",
              "J  66   1  98  33  11   4  15  89  83  75  542"
            ]
          },
          "metadata": {
            "tags": []
          },
          "execution_count": 55
        }
      ]
    },
    {
      "cell_type": "code",
      "metadata": {
        "colab": {
          "base_uri": "https://localhost:8080/",
          "height": 390
        },
        "id": "xem_lJQtgscZ",
        "outputId": "b43807ee-c7e3-49ec-ebcd-6903a8f598ad"
      },
      "source": [
        "new_row = pd.Series(data=np.random.randint(100,999,11), index=['a', 'b', 'c', 'd', 'e', 'f', 'g', 'h', 'i', 'j', 'z'], name='Z')\n",
        "df.append(new_row)"
      ],
      "execution_count": 56,
      "outputs": [
        {
          "output_type": "execute_result",
          "data": {
            "text/html": [
              "<div>\n",
              "<style scoped>\n",
              "    .dataframe tbody tr th:only-of-type {\n",
              "        vertical-align: middle;\n",
              "    }\n",
              "\n",
              "    .dataframe tbody tr th {\n",
              "        vertical-align: top;\n",
              "    }\n",
              "\n",
              "    .dataframe thead th {\n",
              "        text-align: right;\n",
              "    }\n",
              "</style>\n",
              "<table border=\"1\" class=\"dataframe\">\n",
              "  <thead>\n",
              "    <tr style=\"text-align: right;\">\n",
              "      <th></th>\n",
              "      <th>a</th>\n",
              "      <th>b</th>\n",
              "      <th>c</th>\n",
              "      <th>d</th>\n",
              "      <th>e</th>\n",
              "      <th>f</th>\n",
              "      <th>g</th>\n",
              "      <th>h</th>\n",
              "      <th>i</th>\n",
              "      <th>j</th>\n",
              "      <th>z</th>\n",
              "    </tr>\n",
              "  </thead>\n",
              "  <tbody>\n",
              "    <tr>\n",
              "      <th>A</th>\n",
              "      <td>65</td>\n",
              "      <td>3</td>\n",
              "      <td>51</td>\n",
              "      <td>54</td>\n",
              "      <td>65</td>\n",
              "      <td>43</td>\n",
              "      <td>93</td>\n",
              "      <td>18</td>\n",
              "      <td>94</td>\n",
              "      <td>51</td>\n",
              "      <td>728</td>\n",
              "    </tr>\n",
              "    <tr>\n",
              "      <th>B</th>\n",
              "      <td>13</td>\n",
              "      <td>55</td>\n",
              "      <td>18</td>\n",
              "      <td>19</td>\n",
              "      <td>9</td>\n",
              "      <td>46</td>\n",
              "      <td>14</td>\n",
              "      <td>81</td>\n",
              "      <td>42</td>\n",
              "      <td>95</td>\n",
              "      <td>553</td>\n",
              "    </tr>\n",
              "    <tr>\n",
              "      <th>C</th>\n",
              "      <td>8</td>\n",
              "      <td>55</td>\n",
              "      <td>20</td>\n",
              "      <td>9</td>\n",
              "      <td>1</td>\n",
              "      <td>88</td>\n",
              "      <td>38</td>\n",
              "      <td>93</td>\n",
              "      <td>14</td>\n",
              "      <td>3</td>\n",
              "      <td>480</td>\n",
              "    </tr>\n",
              "    <tr>\n",
              "      <th>D</th>\n",
              "      <td>48</td>\n",
              "      <td>35</td>\n",
              "      <td>21</td>\n",
              "      <td>12</td>\n",
              "      <td>22</td>\n",
              "      <td>92</td>\n",
              "      <td>22</td>\n",
              "      <td>63</td>\n",
              "      <td>49</td>\n",
              "      <td>19</td>\n",
              "      <td>854</td>\n",
              "    </tr>\n",
              "    <tr>\n",
              "      <th>E</th>\n",
              "      <td>67</td>\n",
              "      <td>48</td>\n",
              "      <td>48</td>\n",
              "      <td>47</td>\n",
              "      <td>65</td>\n",
              "      <td>22</td>\n",
              "      <td>48</td>\n",
              "      <td>93</td>\n",
              "      <td>24</td>\n",
              "      <td>85</td>\n",
              "      <td>330</td>\n",
              "    </tr>\n",
              "    <tr>\n",
              "      <th>F</th>\n",
              "      <td>81</td>\n",
              "      <td>6</td>\n",
              "      <td>89</td>\n",
              "      <td>78</td>\n",
              "      <td>88</td>\n",
              "      <td>10</td>\n",
              "      <td>20</td>\n",
              "      <td>7</td>\n",
              "      <td>47</td>\n",
              "      <td>39</td>\n",
              "      <td>907</td>\n",
              "    </tr>\n",
              "    <tr>\n",
              "      <th>G</th>\n",
              "      <td>49</td>\n",
              "      <td>74</td>\n",
              "      <td>8</td>\n",
              "      <td>40</td>\n",
              "      <td>59</td>\n",
              "      <td>69</td>\n",
              "      <td>7</td>\n",
              "      <td>89</td>\n",
              "      <td>78</td>\n",
              "      <td>6</td>\n",
              "      <td>107</td>\n",
              "    </tr>\n",
              "    <tr>\n",
              "      <th>H</th>\n",
              "      <td>83</td>\n",
              "      <td>56</td>\n",
              "      <td>47</td>\n",
              "      <td>83</td>\n",
              "      <td>8</td>\n",
              "      <td>43</td>\n",
              "      <td>72</td>\n",
              "      <td>9</td>\n",
              "      <td>38</td>\n",
              "      <td>90</td>\n",
              "      <td>611</td>\n",
              "    </tr>\n",
              "    <tr>\n",
              "      <th>I</th>\n",
              "      <td>23</td>\n",
              "      <td>96</td>\n",
              "      <td>91</td>\n",
              "      <td>89</td>\n",
              "      <td>88</td>\n",
              "      <td>16</td>\n",
              "      <td>4</td>\n",
              "      <td>55</td>\n",
              "      <td>63</td>\n",
              "      <td>49</td>\n",
              "      <td>189</td>\n",
              "    </tr>\n",
              "    <tr>\n",
              "      <th>J</th>\n",
              "      <td>66</td>\n",
              "      <td>1</td>\n",
              "      <td>98</td>\n",
              "      <td>33</td>\n",
              "      <td>11</td>\n",
              "      <td>4</td>\n",
              "      <td>15</td>\n",
              "      <td>89</td>\n",
              "      <td>83</td>\n",
              "      <td>75</td>\n",
              "      <td>542</td>\n",
              "    </tr>\n",
              "    <tr>\n",
              "      <th>Z</th>\n",
              "      <td>391</td>\n",
              "      <td>889</td>\n",
              "      <td>983</td>\n",
              "      <td>244</td>\n",
              "      <td>264</td>\n",
              "      <td>228</td>\n",
              "      <td>718</td>\n",
              "      <td>567</td>\n",
              "      <td>603</td>\n",
              "      <td>328</td>\n",
              "      <td>533</td>\n",
              "    </tr>\n",
              "  </tbody>\n",
              "</table>\n",
              "</div>"
            ],
            "text/plain": [
              "     a    b    c    d    e    f    g    h    i    j    z\n",
              "A   65    3   51   54   65   43   93   18   94   51  728\n",
              "B   13   55   18   19    9   46   14   81   42   95  553\n",
              "C    8   55   20    9    1   88   38   93   14    3  480\n",
              "D   48   35   21   12   22   92   22   63   49   19  854\n",
              "E   67   48   48   47   65   22   48   93   24   85  330\n",
              "F   81    6   89   78   88   10   20    7   47   39  907\n",
              "G   49   74    8   40   59   69    7   89   78    6  107\n",
              "H   83   56   47   83    8   43   72    9   38   90  611\n",
              "I   23   96   91   89   88   16    4   55   63   49  189\n",
              "J   66    1   98   33   11    4   15   89   83   75  542\n",
              "Z  391  889  983  244  264  228  718  567  603  328  533"
            ]
          },
          "metadata": {
            "tags": []
          },
          "execution_count": 56
        }
      ]
    },
    {
      "cell_type": "code",
      "metadata": {
        "id": "5GtSTJjgg79z"
      },
      "source": [
        "df.drop('A', inplace=True)"
      ],
      "execution_count": 57,
      "outputs": []
    },
    {
      "cell_type": "code",
      "metadata": {
        "colab": {
          "base_uri": "https://localhost:8080/",
          "height": 328
        },
        "id": "C1cgjPUviLVz",
        "outputId": "3e8b215c-484d-4603-af1e-7b443198f958"
      },
      "source": [
        "df"
      ],
      "execution_count": 58,
      "outputs": [
        {
          "output_type": "execute_result",
          "data": {
            "text/html": [
              "<div>\n",
              "<style scoped>\n",
              "    .dataframe tbody tr th:only-of-type {\n",
              "        vertical-align: middle;\n",
              "    }\n",
              "\n",
              "    .dataframe tbody tr th {\n",
              "        vertical-align: top;\n",
              "    }\n",
              "\n",
              "    .dataframe thead th {\n",
              "        text-align: right;\n",
              "    }\n",
              "</style>\n",
              "<table border=\"1\" class=\"dataframe\">\n",
              "  <thead>\n",
              "    <tr style=\"text-align: right;\">\n",
              "      <th></th>\n",
              "      <th>a</th>\n",
              "      <th>b</th>\n",
              "      <th>c</th>\n",
              "      <th>d</th>\n",
              "      <th>e</th>\n",
              "      <th>f</th>\n",
              "      <th>g</th>\n",
              "      <th>h</th>\n",
              "      <th>i</th>\n",
              "      <th>j</th>\n",
              "      <th>z</th>\n",
              "    </tr>\n",
              "  </thead>\n",
              "  <tbody>\n",
              "    <tr>\n",
              "      <th>B</th>\n",
              "      <td>13</td>\n",
              "      <td>55</td>\n",
              "      <td>18</td>\n",
              "      <td>19</td>\n",
              "      <td>9</td>\n",
              "      <td>46</td>\n",
              "      <td>14</td>\n",
              "      <td>81</td>\n",
              "      <td>42</td>\n",
              "      <td>95</td>\n",
              "      <td>553</td>\n",
              "    </tr>\n",
              "    <tr>\n",
              "      <th>C</th>\n",
              "      <td>8</td>\n",
              "      <td>55</td>\n",
              "      <td>20</td>\n",
              "      <td>9</td>\n",
              "      <td>1</td>\n",
              "      <td>88</td>\n",
              "      <td>38</td>\n",
              "      <td>93</td>\n",
              "      <td>14</td>\n",
              "      <td>3</td>\n",
              "      <td>480</td>\n",
              "    </tr>\n",
              "    <tr>\n",
              "      <th>D</th>\n",
              "      <td>48</td>\n",
              "      <td>35</td>\n",
              "      <td>21</td>\n",
              "      <td>12</td>\n",
              "      <td>22</td>\n",
              "      <td>92</td>\n",
              "      <td>22</td>\n",
              "      <td>63</td>\n",
              "      <td>49</td>\n",
              "      <td>19</td>\n",
              "      <td>854</td>\n",
              "    </tr>\n",
              "    <tr>\n",
              "      <th>E</th>\n",
              "      <td>67</td>\n",
              "      <td>48</td>\n",
              "      <td>48</td>\n",
              "      <td>47</td>\n",
              "      <td>65</td>\n",
              "      <td>22</td>\n",
              "      <td>48</td>\n",
              "      <td>93</td>\n",
              "      <td>24</td>\n",
              "      <td>85</td>\n",
              "      <td>330</td>\n",
              "    </tr>\n",
              "    <tr>\n",
              "      <th>F</th>\n",
              "      <td>81</td>\n",
              "      <td>6</td>\n",
              "      <td>89</td>\n",
              "      <td>78</td>\n",
              "      <td>88</td>\n",
              "      <td>10</td>\n",
              "      <td>20</td>\n",
              "      <td>7</td>\n",
              "      <td>47</td>\n",
              "      <td>39</td>\n",
              "      <td>907</td>\n",
              "    </tr>\n",
              "    <tr>\n",
              "      <th>G</th>\n",
              "      <td>49</td>\n",
              "      <td>74</td>\n",
              "      <td>8</td>\n",
              "      <td>40</td>\n",
              "      <td>59</td>\n",
              "      <td>69</td>\n",
              "      <td>7</td>\n",
              "      <td>89</td>\n",
              "      <td>78</td>\n",
              "      <td>6</td>\n",
              "      <td>107</td>\n",
              "    </tr>\n",
              "    <tr>\n",
              "      <th>H</th>\n",
              "      <td>83</td>\n",
              "      <td>56</td>\n",
              "      <td>47</td>\n",
              "      <td>83</td>\n",
              "      <td>8</td>\n",
              "      <td>43</td>\n",
              "      <td>72</td>\n",
              "      <td>9</td>\n",
              "      <td>38</td>\n",
              "      <td>90</td>\n",
              "      <td>611</td>\n",
              "    </tr>\n",
              "    <tr>\n",
              "      <th>I</th>\n",
              "      <td>23</td>\n",
              "      <td>96</td>\n",
              "      <td>91</td>\n",
              "      <td>89</td>\n",
              "      <td>88</td>\n",
              "      <td>16</td>\n",
              "      <td>4</td>\n",
              "      <td>55</td>\n",
              "      <td>63</td>\n",
              "      <td>49</td>\n",
              "      <td>189</td>\n",
              "    </tr>\n",
              "    <tr>\n",
              "      <th>J</th>\n",
              "      <td>66</td>\n",
              "      <td>1</td>\n",
              "      <td>98</td>\n",
              "      <td>33</td>\n",
              "      <td>11</td>\n",
              "      <td>4</td>\n",
              "      <td>15</td>\n",
              "      <td>89</td>\n",
              "      <td>83</td>\n",
              "      <td>75</td>\n",
              "      <td>542</td>\n",
              "    </tr>\n",
              "  </tbody>\n",
              "</table>\n",
              "</div>"
            ],
            "text/plain": [
              "    a   b   c   d   e   f   g   h   i   j    z\n",
              "B  13  55  18  19   9  46  14  81  42  95  553\n",
              "C   8  55  20   9   1  88  38  93  14   3  480\n",
              "D  48  35  21  12  22  92  22  63  49  19  854\n",
              "E  67  48  48  47  65  22  48  93  24  85  330\n",
              "F  81   6  89  78  88  10  20   7  47  39  907\n",
              "G  49  74   8  40  59  69   7  89  78   6  107\n",
              "H  83  56  47  83   8  43  72   9  38  90  611\n",
              "I  23  96  91  89  88  16   4  55  63  49  189\n",
              "J  66   1  98  33  11   4  15  89  83  75  542"
            ]
          },
          "metadata": {
            "tags": []
          },
          "execution_count": 58
        }
      ]
    },
    {
      "cell_type": "code",
      "metadata": {
        "id": "ZK8x2ffqjDYy"
      },
      "source": [
        "df.drop('b', axis=1, inplace=True)"
      ],
      "execution_count": 59,
      "outputs": []
    },
    {
      "cell_type": "code",
      "metadata": {
        "colab": {
          "base_uri": "https://localhost:8080/",
          "height": 328
        },
        "id": "6ZzajccnjZ57",
        "outputId": "afbce8f4-d093-4f3f-fbc6-3a06e17e48f1"
      },
      "source": [
        "df"
      ],
      "execution_count": 60,
      "outputs": [
        {
          "output_type": "execute_result",
          "data": {
            "text/html": [
              "<div>\n",
              "<style scoped>\n",
              "    .dataframe tbody tr th:only-of-type {\n",
              "        vertical-align: middle;\n",
              "    }\n",
              "\n",
              "    .dataframe tbody tr th {\n",
              "        vertical-align: top;\n",
              "    }\n",
              "\n",
              "    .dataframe thead th {\n",
              "        text-align: right;\n",
              "    }\n",
              "</style>\n",
              "<table border=\"1\" class=\"dataframe\">\n",
              "  <thead>\n",
              "    <tr style=\"text-align: right;\">\n",
              "      <th></th>\n",
              "      <th>a</th>\n",
              "      <th>c</th>\n",
              "      <th>d</th>\n",
              "      <th>e</th>\n",
              "      <th>f</th>\n",
              "      <th>g</th>\n",
              "      <th>h</th>\n",
              "      <th>i</th>\n",
              "      <th>j</th>\n",
              "      <th>z</th>\n",
              "    </tr>\n",
              "  </thead>\n",
              "  <tbody>\n",
              "    <tr>\n",
              "      <th>B</th>\n",
              "      <td>13</td>\n",
              "      <td>18</td>\n",
              "      <td>19</td>\n",
              "      <td>9</td>\n",
              "      <td>46</td>\n",
              "      <td>14</td>\n",
              "      <td>81</td>\n",
              "      <td>42</td>\n",
              "      <td>95</td>\n",
              "      <td>553</td>\n",
              "    </tr>\n",
              "    <tr>\n",
              "      <th>C</th>\n",
              "      <td>8</td>\n",
              "      <td>20</td>\n",
              "      <td>9</td>\n",
              "      <td>1</td>\n",
              "      <td>88</td>\n",
              "      <td>38</td>\n",
              "      <td>93</td>\n",
              "      <td>14</td>\n",
              "      <td>3</td>\n",
              "      <td>480</td>\n",
              "    </tr>\n",
              "    <tr>\n",
              "      <th>D</th>\n",
              "      <td>48</td>\n",
              "      <td>21</td>\n",
              "      <td>12</td>\n",
              "      <td>22</td>\n",
              "      <td>92</td>\n",
              "      <td>22</td>\n",
              "      <td>63</td>\n",
              "      <td>49</td>\n",
              "      <td>19</td>\n",
              "      <td>854</td>\n",
              "    </tr>\n",
              "    <tr>\n",
              "      <th>E</th>\n",
              "      <td>67</td>\n",
              "      <td>48</td>\n",
              "      <td>47</td>\n",
              "      <td>65</td>\n",
              "      <td>22</td>\n",
              "      <td>48</td>\n",
              "      <td>93</td>\n",
              "      <td>24</td>\n",
              "      <td>85</td>\n",
              "      <td>330</td>\n",
              "    </tr>\n",
              "    <tr>\n",
              "      <th>F</th>\n",
              "      <td>81</td>\n",
              "      <td>89</td>\n",
              "      <td>78</td>\n",
              "      <td>88</td>\n",
              "      <td>10</td>\n",
              "      <td>20</td>\n",
              "      <td>7</td>\n",
              "      <td>47</td>\n",
              "      <td>39</td>\n",
              "      <td>907</td>\n",
              "    </tr>\n",
              "    <tr>\n",
              "      <th>G</th>\n",
              "      <td>49</td>\n",
              "      <td>8</td>\n",
              "      <td>40</td>\n",
              "      <td>59</td>\n",
              "      <td>69</td>\n",
              "      <td>7</td>\n",
              "      <td>89</td>\n",
              "      <td>78</td>\n",
              "      <td>6</td>\n",
              "      <td>107</td>\n",
              "    </tr>\n",
              "    <tr>\n",
              "      <th>H</th>\n",
              "      <td>83</td>\n",
              "      <td>47</td>\n",
              "      <td>83</td>\n",
              "      <td>8</td>\n",
              "      <td>43</td>\n",
              "      <td>72</td>\n",
              "      <td>9</td>\n",
              "      <td>38</td>\n",
              "      <td>90</td>\n",
              "      <td>611</td>\n",
              "    </tr>\n",
              "    <tr>\n",
              "      <th>I</th>\n",
              "      <td>23</td>\n",
              "      <td>91</td>\n",
              "      <td>89</td>\n",
              "      <td>88</td>\n",
              "      <td>16</td>\n",
              "      <td>4</td>\n",
              "      <td>55</td>\n",
              "      <td>63</td>\n",
              "      <td>49</td>\n",
              "      <td>189</td>\n",
              "    </tr>\n",
              "    <tr>\n",
              "      <th>J</th>\n",
              "      <td>66</td>\n",
              "      <td>98</td>\n",
              "      <td>33</td>\n",
              "      <td>11</td>\n",
              "      <td>4</td>\n",
              "      <td>15</td>\n",
              "      <td>89</td>\n",
              "      <td>83</td>\n",
              "      <td>75</td>\n",
              "      <td>542</td>\n",
              "    </tr>\n",
              "  </tbody>\n",
              "</table>\n",
              "</div>"
            ],
            "text/plain": [
              "    a   c   d   e   f   g   h   i   j    z\n",
              "B  13  18  19   9  46  14  81  42  95  553\n",
              "C   8  20   9   1  88  38  93  14   3  480\n",
              "D  48  21  12  22  92  22  63  49  19  854\n",
              "E  67  48  47  65  22  48  93  24  85  330\n",
              "F  81  89  78  88  10  20   7  47  39  907\n",
              "G  49   8  40  59  69   7  89  78   6  107\n",
              "H  83  47  83   8  43  72   9  38  90  611\n",
              "I  23  91  89  88  16   4  55  63  49  189\n",
              "J  66  98  33  11   4  15  89  83  75  542"
            ]
          },
          "metadata": {
            "tags": []
          },
          "execution_count": 60
        }
      ]
    },
    {
      "cell_type": "code",
      "metadata": {
        "colab": {
          "base_uri": "https://localhost:8080/",
          "height": 328
        },
        "id": "7E5fO8hHjcth",
        "outputId": "dc17f88b-4aad-475d-c384-9d72abd6cd0b"
      },
      "source": [
        "df > 50"
      ],
      "execution_count": 61,
      "outputs": [
        {
          "output_type": "execute_result",
          "data": {
            "text/html": [
              "<div>\n",
              "<style scoped>\n",
              "    .dataframe tbody tr th:only-of-type {\n",
              "        vertical-align: middle;\n",
              "    }\n",
              "\n",
              "    .dataframe tbody tr th {\n",
              "        vertical-align: top;\n",
              "    }\n",
              "\n",
              "    .dataframe thead th {\n",
              "        text-align: right;\n",
              "    }\n",
              "</style>\n",
              "<table border=\"1\" class=\"dataframe\">\n",
              "  <thead>\n",
              "    <tr style=\"text-align: right;\">\n",
              "      <th></th>\n",
              "      <th>a</th>\n",
              "      <th>c</th>\n",
              "      <th>d</th>\n",
              "      <th>e</th>\n",
              "      <th>f</th>\n",
              "      <th>g</th>\n",
              "      <th>h</th>\n",
              "      <th>i</th>\n",
              "      <th>j</th>\n",
              "      <th>z</th>\n",
              "    </tr>\n",
              "  </thead>\n",
              "  <tbody>\n",
              "    <tr>\n",
              "      <th>B</th>\n",
              "      <td>False</td>\n",
              "      <td>False</td>\n",
              "      <td>False</td>\n",
              "      <td>False</td>\n",
              "      <td>False</td>\n",
              "      <td>False</td>\n",
              "      <td>True</td>\n",
              "      <td>False</td>\n",
              "      <td>True</td>\n",
              "      <td>True</td>\n",
              "    </tr>\n",
              "    <tr>\n",
              "      <th>C</th>\n",
              "      <td>False</td>\n",
              "      <td>False</td>\n",
              "      <td>False</td>\n",
              "      <td>False</td>\n",
              "      <td>True</td>\n",
              "      <td>False</td>\n",
              "      <td>True</td>\n",
              "      <td>False</td>\n",
              "      <td>False</td>\n",
              "      <td>True</td>\n",
              "    </tr>\n",
              "    <tr>\n",
              "      <th>D</th>\n",
              "      <td>False</td>\n",
              "      <td>False</td>\n",
              "      <td>False</td>\n",
              "      <td>False</td>\n",
              "      <td>True</td>\n",
              "      <td>False</td>\n",
              "      <td>True</td>\n",
              "      <td>False</td>\n",
              "      <td>False</td>\n",
              "      <td>True</td>\n",
              "    </tr>\n",
              "    <tr>\n",
              "      <th>E</th>\n",
              "      <td>True</td>\n",
              "      <td>False</td>\n",
              "      <td>False</td>\n",
              "      <td>True</td>\n",
              "      <td>False</td>\n",
              "      <td>False</td>\n",
              "      <td>True</td>\n",
              "      <td>False</td>\n",
              "      <td>True</td>\n",
              "      <td>True</td>\n",
              "    </tr>\n",
              "    <tr>\n",
              "      <th>F</th>\n",
              "      <td>True</td>\n",
              "      <td>True</td>\n",
              "      <td>True</td>\n",
              "      <td>True</td>\n",
              "      <td>False</td>\n",
              "      <td>False</td>\n",
              "      <td>False</td>\n",
              "      <td>False</td>\n",
              "      <td>False</td>\n",
              "      <td>True</td>\n",
              "    </tr>\n",
              "    <tr>\n",
              "      <th>G</th>\n",
              "      <td>False</td>\n",
              "      <td>False</td>\n",
              "      <td>False</td>\n",
              "      <td>True</td>\n",
              "      <td>True</td>\n",
              "      <td>False</td>\n",
              "      <td>True</td>\n",
              "      <td>True</td>\n",
              "      <td>False</td>\n",
              "      <td>True</td>\n",
              "    </tr>\n",
              "    <tr>\n",
              "      <th>H</th>\n",
              "      <td>True</td>\n",
              "      <td>False</td>\n",
              "      <td>True</td>\n",
              "      <td>False</td>\n",
              "      <td>False</td>\n",
              "      <td>True</td>\n",
              "      <td>False</td>\n",
              "      <td>False</td>\n",
              "      <td>True</td>\n",
              "      <td>True</td>\n",
              "    </tr>\n",
              "    <tr>\n",
              "      <th>I</th>\n",
              "      <td>False</td>\n",
              "      <td>True</td>\n",
              "      <td>True</td>\n",
              "      <td>True</td>\n",
              "      <td>False</td>\n",
              "      <td>False</td>\n",
              "      <td>True</td>\n",
              "      <td>True</td>\n",
              "      <td>False</td>\n",
              "      <td>True</td>\n",
              "    </tr>\n",
              "    <tr>\n",
              "      <th>J</th>\n",
              "      <td>True</td>\n",
              "      <td>True</td>\n",
              "      <td>False</td>\n",
              "      <td>False</td>\n",
              "      <td>False</td>\n",
              "      <td>False</td>\n",
              "      <td>True</td>\n",
              "      <td>True</td>\n",
              "      <td>True</td>\n",
              "      <td>True</td>\n",
              "    </tr>\n",
              "  </tbody>\n",
              "</table>\n",
              "</div>"
            ],
            "text/plain": [
              "       a      c      d      e      f      g      h      i      j     z\n",
              "B  False  False  False  False  False  False   True  False   True  True\n",
              "C  False  False  False  False   True  False   True  False  False  True\n",
              "D  False  False  False  False   True  False   True  False  False  True\n",
              "E   True  False  False   True  False  False   True  False   True  True\n",
              "F   True   True   True   True  False  False  False  False  False  True\n",
              "G  False  False  False   True   True  False   True   True  False  True\n",
              "H   True  False   True  False  False   True  False  False   True  True\n",
              "I  False   True   True   True  False  False   True   True  False  True\n",
              "J   True   True  False  False  False  False   True   True   True  True"
            ]
          },
          "metadata": {
            "tags": []
          },
          "execution_count": 61
        }
      ]
    },
    {
      "cell_type": "code",
      "metadata": {
        "colab": {
          "base_uri": "https://localhost:8080/",
          "height": 328
        },
        "id": "aLKwLtfCjgqt",
        "outputId": "40471799-7d6e-4744-dcfb-4cc196de4f51"
      },
      "source": [
        "df[df>50]"
      ],
      "execution_count": 62,
      "outputs": [
        {
          "output_type": "execute_result",
          "data": {
            "text/html": [
              "<div>\n",
              "<style scoped>\n",
              "    .dataframe tbody tr th:only-of-type {\n",
              "        vertical-align: middle;\n",
              "    }\n",
              "\n",
              "    .dataframe tbody tr th {\n",
              "        vertical-align: top;\n",
              "    }\n",
              "\n",
              "    .dataframe thead th {\n",
              "        text-align: right;\n",
              "    }\n",
              "</style>\n",
              "<table border=\"1\" class=\"dataframe\">\n",
              "  <thead>\n",
              "    <tr style=\"text-align: right;\">\n",
              "      <th></th>\n",
              "      <th>a</th>\n",
              "      <th>c</th>\n",
              "      <th>d</th>\n",
              "      <th>e</th>\n",
              "      <th>f</th>\n",
              "      <th>g</th>\n",
              "      <th>h</th>\n",
              "      <th>i</th>\n",
              "      <th>j</th>\n",
              "      <th>z</th>\n",
              "    </tr>\n",
              "  </thead>\n",
              "  <tbody>\n",
              "    <tr>\n",
              "      <th>B</th>\n",
              "      <td>NaN</td>\n",
              "      <td>NaN</td>\n",
              "      <td>NaN</td>\n",
              "      <td>NaN</td>\n",
              "      <td>NaN</td>\n",
              "      <td>NaN</td>\n",
              "      <td>81.0</td>\n",
              "      <td>NaN</td>\n",
              "      <td>95.0</td>\n",
              "      <td>553</td>\n",
              "    </tr>\n",
              "    <tr>\n",
              "      <th>C</th>\n",
              "      <td>NaN</td>\n",
              "      <td>NaN</td>\n",
              "      <td>NaN</td>\n",
              "      <td>NaN</td>\n",
              "      <td>88.0</td>\n",
              "      <td>NaN</td>\n",
              "      <td>93.0</td>\n",
              "      <td>NaN</td>\n",
              "      <td>NaN</td>\n",
              "      <td>480</td>\n",
              "    </tr>\n",
              "    <tr>\n",
              "      <th>D</th>\n",
              "      <td>NaN</td>\n",
              "      <td>NaN</td>\n",
              "      <td>NaN</td>\n",
              "      <td>NaN</td>\n",
              "      <td>92.0</td>\n",
              "      <td>NaN</td>\n",
              "      <td>63.0</td>\n",
              "      <td>NaN</td>\n",
              "      <td>NaN</td>\n",
              "      <td>854</td>\n",
              "    </tr>\n",
              "    <tr>\n",
              "      <th>E</th>\n",
              "      <td>67.0</td>\n",
              "      <td>NaN</td>\n",
              "      <td>NaN</td>\n",
              "      <td>65.0</td>\n",
              "      <td>NaN</td>\n",
              "      <td>NaN</td>\n",
              "      <td>93.0</td>\n",
              "      <td>NaN</td>\n",
              "      <td>85.0</td>\n",
              "      <td>330</td>\n",
              "    </tr>\n",
              "    <tr>\n",
              "      <th>F</th>\n",
              "      <td>81.0</td>\n",
              "      <td>89.0</td>\n",
              "      <td>78.0</td>\n",
              "      <td>88.0</td>\n",
              "      <td>NaN</td>\n",
              "      <td>NaN</td>\n",
              "      <td>NaN</td>\n",
              "      <td>NaN</td>\n",
              "      <td>NaN</td>\n",
              "      <td>907</td>\n",
              "    </tr>\n",
              "    <tr>\n",
              "      <th>G</th>\n",
              "      <td>NaN</td>\n",
              "      <td>NaN</td>\n",
              "      <td>NaN</td>\n",
              "      <td>59.0</td>\n",
              "      <td>69.0</td>\n",
              "      <td>NaN</td>\n",
              "      <td>89.0</td>\n",
              "      <td>78.0</td>\n",
              "      <td>NaN</td>\n",
              "      <td>107</td>\n",
              "    </tr>\n",
              "    <tr>\n",
              "      <th>H</th>\n",
              "      <td>83.0</td>\n",
              "      <td>NaN</td>\n",
              "      <td>83.0</td>\n",
              "      <td>NaN</td>\n",
              "      <td>NaN</td>\n",
              "      <td>72.0</td>\n",
              "      <td>NaN</td>\n",
              "      <td>NaN</td>\n",
              "      <td>90.0</td>\n",
              "      <td>611</td>\n",
              "    </tr>\n",
              "    <tr>\n",
              "      <th>I</th>\n",
              "      <td>NaN</td>\n",
              "      <td>91.0</td>\n",
              "      <td>89.0</td>\n",
              "      <td>88.0</td>\n",
              "      <td>NaN</td>\n",
              "      <td>NaN</td>\n",
              "      <td>55.0</td>\n",
              "      <td>63.0</td>\n",
              "      <td>NaN</td>\n",
              "      <td>189</td>\n",
              "    </tr>\n",
              "    <tr>\n",
              "      <th>J</th>\n",
              "      <td>66.0</td>\n",
              "      <td>98.0</td>\n",
              "      <td>NaN</td>\n",
              "      <td>NaN</td>\n",
              "      <td>NaN</td>\n",
              "      <td>NaN</td>\n",
              "      <td>89.0</td>\n",
              "      <td>83.0</td>\n",
              "      <td>75.0</td>\n",
              "      <td>542</td>\n",
              "    </tr>\n",
              "  </tbody>\n",
              "</table>\n",
              "</div>"
            ],
            "text/plain": [
              "      a     c     d     e     f     g     h     i     j    z\n",
              "B   NaN   NaN   NaN   NaN   NaN   NaN  81.0   NaN  95.0  553\n",
              "C   NaN   NaN   NaN   NaN  88.0   NaN  93.0   NaN   NaN  480\n",
              "D   NaN   NaN   NaN   NaN  92.0   NaN  63.0   NaN   NaN  854\n",
              "E  67.0   NaN   NaN  65.0   NaN   NaN  93.0   NaN  85.0  330\n",
              "F  81.0  89.0  78.0  88.0   NaN   NaN   NaN   NaN   NaN  907\n",
              "G   NaN   NaN   NaN  59.0  69.0   NaN  89.0  78.0   NaN  107\n",
              "H  83.0   NaN  83.0   NaN   NaN  72.0   NaN   NaN  90.0  611\n",
              "I   NaN  91.0  89.0  88.0   NaN   NaN  55.0  63.0   NaN  189\n",
              "J  66.0  98.0   NaN   NaN   NaN   NaN  89.0  83.0  75.0  542"
            ]
          },
          "metadata": {
            "tags": []
          },
          "execution_count": 62
        }
      ]
    },
    {
      "cell_type": "code",
      "metadata": {
        "colab": {
          "base_uri": "https://localhost:8080/",
          "height": 328
        },
        "id": "LFMo2rR5jmvp",
        "outputId": "288ed3b4-59a4-48fe-e386-27d869349644"
      },
      "source": [
        "df[df > 50].fillna('hello')"
      ],
      "execution_count": 63,
      "outputs": [
        {
          "output_type": "execute_result",
          "data": {
            "text/html": [
              "<div>\n",
              "<style scoped>\n",
              "    .dataframe tbody tr th:only-of-type {\n",
              "        vertical-align: middle;\n",
              "    }\n",
              "\n",
              "    .dataframe tbody tr th {\n",
              "        vertical-align: top;\n",
              "    }\n",
              "\n",
              "    .dataframe thead th {\n",
              "        text-align: right;\n",
              "    }\n",
              "</style>\n",
              "<table border=\"1\" class=\"dataframe\">\n",
              "  <thead>\n",
              "    <tr style=\"text-align: right;\">\n",
              "      <th></th>\n",
              "      <th>a</th>\n",
              "      <th>c</th>\n",
              "      <th>d</th>\n",
              "      <th>e</th>\n",
              "      <th>f</th>\n",
              "      <th>g</th>\n",
              "      <th>h</th>\n",
              "      <th>i</th>\n",
              "      <th>j</th>\n",
              "      <th>z</th>\n",
              "    </tr>\n",
              "  </thead>\n",
              "  <tbody>\n",
              "    <tr>\n",
              "      <th>B</th>\n",
              "      <td>hello</td>\n",
              "      <td>hello</td>\n",
              "      <td>hello</td>\n",
              "      <td>hello</td>\n",
              "      <td>hello</td>\n",
              "      <td>hello</td>\n",
              "      <td>81</td>\n",
              "      <td>hello</td>\n",
              "      <td>95</td>\n",
              "      <td>553</td>\n",
              "    </tr>\n",
              "    <tr>\n",
              "      <th>C</th>\n",
              "      <td>hello</td>\n",
              "      <td>hello</td>\n",
              "      <td>hello</td>\n",
              "      <td>hello</td>\n",
              "      <td>88</td>\n",
              "      <td>hello</td>\n",
              "      <td>93</td>\n",
              "      <td>hello</td>\n",
              "      <td>hello</td>\n",
              "      <td>480</td>\n",
              "    </tr>\n",
              "    <tr>\n",
              "      <th>D</th>\n",
              "      <td>hello</td>\n",
              "      <td>hello</td>\n",
              "      <td>hello</td>\n",
              "      <td>hello</td>\n",
              "      <td>92</td>\n",
              "      <td>hello</td>\n",
              "      <td>63</td>\n",
              "      <td>hello</td>\n",
              "      <td>hello</td>\n",
              "      <td>854</td>\n",
              "    </tr>\n",
              "    <tr>\n",
              "      <th>E</th>\n",
              "      <td>67</td>\n",
              "      <td>hello</td>\n",
              "      <td>hello</td>\n",
              "      <td>65</td>\n",
              "      <td>hello</td>\n",
              "      <td>hello</td>\n",
              "      <td>93</td>\n",
              "      <td>hello</td>\n",
              "      <td>85</td>\n",
              "      <td>330</td>\n",
              "    </tr>\n",
              "    <tr>\n",
              "      <th>F</th>\n",
              "      <td>81</td>\n",
              "      <td>89</td>\n",
              "      <td>78</td>\n",
              "      <td>88</td>\n",
              "      <td>hello</td>\n",
              "      <td>hello</td>\n",
              "      <td>hello</td>\n",
              "      <td>hello</td>\n",
              "      <td>hello</td>\n",
              "      <td>907</td>\n",
              "    </tr>\n",
              "    <tr>\n",
              "      <th>G</th>\n",
              "      <td>hello</td>\n",
              "      <td>hello</td>\n",
              "      <td>hello</td>\n",
              "      <td>59</td>\n",
              "      <td>69</td>\n",
              "      <td>hello</td>\n",
              "      <td>89</td>\n",
              "      <td>78</td>\n",
              "      <td>hello</td>\n",
              "      <td>107</td>\n",
              "    </tr>\n",
              "    <tr>\n",
              "      <th>H</th>\n",
              "      <td>83</td>\n",
              "      <td>hello</td>\n",
              "      <td>83</td>\n",
              "      <td>hello</td>\n",
              "      <td>hello</td>\n",
              "      <td>72</td>\n",
              "      <td>hello</td>\n",
              "      <td>hello</td>\n",
              "      <td>90</td>\n",
              "      <td>611</td>\n",
              "    </tr>\n",
              "    <tr>\n",
              "      <th>I</th>\n",
              "      <td>hello</td>\n",
              "      <td>91</td>\n",
              "      <td>89</td>\n",
              "      <td>88</td>\n",
              "      <td>hello</td>\n",
              "      <td>hello</td>\n",
              "      <td>55</td>\n",
              "      <td>63</td>\n",
              "      <td>hello</td>\n",
              "      <td>189</td>\n",
              "    </tr>\n",
              "    <tr>\n",
              "      <th>J</th>\n",
              "      <td>66</td>\n",
              "      <td>98</td>\n",
              "      <td>hello</td>\n",
              "      <td>hello</td>\n",
              "      <td>hello</td>\n",
              "      <td>hello</td>\n",
              "      <td>89</td>\n",
              "      <td>83</td>\n",
              "      <td>75</td>\n",
              "      <td>542</td>\n",
              "    </tr>\n",
              "  </tbody>\n",
              "</table>\n",
              "</div>"
            ],
            "text/plain": [
              "       a      c      d      e      f      g      h      i      j    z\n",
              "B  hello  hello  hello  hello  hello  hello     81  hello     95  553\n",
              "C  hello  hello  hello  hello     88  hello     93  hello  hello  480\n",
              "D  hello  hello  hello  hello     92  hello     63  hello  hello  854\n",
              "E     67  hello  hello     65  hello  hello     93  hello     85  330\n",
              "F     81     89     78     88  hello  hello  hello  hello  hello  907\n",
              "G  hello  hello  hello     59     69  hello     89     78  hello  107\n",
              "H     83  hello     83  hello  hello     72  hello  hello     90  611\n",
              "I  hello     91     89     88  hello  hello     55     63  hello  189\n",
              "J     66     98  hello  hello  hello  hello     89     83     75  542"
            ]
          },
          "metadata": {
            "tags": []
          },
          "execution_count": 63
        }
      ]
    },
    {
      "cell_type": "code",
      "metadata": {
        "id": "V8IK78RHj0LN"
      },
      "source": [
        "students = pd.read_csv(\"https://raw.githubusercontent.com/uclaacmai/beginner-track-fall-2020/main/Workshop_6/Beginner%20Track%20-%20Student%20Performance%20Dataset.csv\")"
      ],
      "execution_count": 64,
      "outputs": []
    },
    {
      "cell_type": "code",
      "metadata": {
        "colab": {
          "base_uri": "https://localhost:8080/",
          "height": 204
        },
        "id": "QE0k2HAWkDQN",
        "outputId": "c400cc28-72c0-4bca-cb1a-a7ff900aa138"
      },
      "source": [
        "students.head()"
      ],
      "execution_count": 65,
      "outputs": [
        {
          "output_type": "execute_result",
          "data": {
            "text/html": [
              "<div>\n",
              "<style scoped>\n",
              "    .dataframe tbody tr th:only-of-type {\n",
              "        vertical-align: middle;\n",
              "    }\n",
              "\n",
              "    .dataframe tbody tr th {\n",
              "        vertical-align: top;\n",
              "    }\n",
              "\n",
              "    .dataframe thead th {\n",
              "        text-align: right;\n",
              "    }\n",
              "</style>\n",
              "<table border=\"1\" class=\"dataframe\">\n",
              "  <thead>\n",
              "    <tr style=\"text-align: right;\">\n",
              "      <th></th>\n",
              "      <th>gender</th>\n",
              "      <th>race/ethnicity</th>\n",
              "      <th>parental level of education</th>\n",
              "      <th>lunch</th>\n",
              "      <th>test preparation course</th>\n",
              "      <th>math score</th>\n",
              "      <th>reading score</th>\n",
              "      <th>writing score</th>\n",
              "    </tr>\n",
              "  </thead>\n",
              "  <tbody>\n",
              "    <tr>\n",
              "      <th>0</th>\n",
              "      <td>female</td>\n",
              "      <td>group B</td>\n",
              "      <td>bachelor's degree</td>\n",
              "      <td>standard</td>\n",
              "      <td>none</td>\n",
              "      <td>72</td>\n",
              "      <td>72</td>\n",
              "      <td>74</td>\n",
              "    </tr>\n",
              "    <tr>\n",
              "      <th>1</th>\n",
              "      <td>female</td>\n",
              "      <td>group C</td>\n",
              "      <td>some college</td>\n",
              "      <td>standard</td>\n",
              "      <td>completed</td>\n",
              "      <td>69</td>\n",
              "      <td>90</td>\n",
              "      <td>88</td>\n",
              "    </tr>\n",
              "    <tr>\n",
              "      <th>2</th>\n",
              "      <td>female</td>\n",
              "      <td>group B</td>\n",
              "      <td>master's degree</td>\n",
              "      <td>standard</td>\n",
              "      <td>none</td>\n",
              "      <td>90</td>\n",
              "      <td>95</td>\n",
              "      <td>93</td>\n",
              "    </tr>\n",
              "    <tr>\n",
              "      <th>3</th>\n",
              "      <td>male</td>\n",
              "      <td>group A</td>\n",
              "      <td>associate's degree</td>\n",
              "      <td>free/reduced</td>\n",
              "      <td>none</td>\n",
              "      <td>47</td>\n",
              "      <td>57</td>\n",
              "      <td>44</td>\n",
              "    </tr>\n",
              "    <tr>\n",
              "      <th>4</th>\n",
              "      <td>male</td>\n",
              "      <td>group C</td>\n",
              "      <td>some college</td>\n",
              "      <td>standard</td>\n",
              "      <td>none</td>\n",
              "      <td>76</td>\n",
              "      <td>78</td>\n",
              "      <td>75</td>\n",
              "    </tr>\n",
              "  </tbody>\n",
              "</table>\n",
              "</div>"
            ],
            "text/plain": [
              "   gender race/ethnicity  ... reading score writing score\n",
              "0  female        group B  ...            72            74\n",
              "1  female        group C  ...            90            88\n",
              "2  female        group B  ...            95            93\n",
              "3    male        group A  ...            57            44\n",
              "4    male        group C  ...            78            75\n",
              "\n",
              "[5 rows x 8 columns]"
            ]
          },
          "metadata": {
            "tags": []
          },
          "execution_count": 65
        }
      ]
    },
    {
      "cell_type": "code",
      "metadata": {
        "colab": {
          "base_uri": "https://localhost:8080/"
        },
        "id": "d9TB3ToRlYo5",
        "outputId": "66b9aa42-169f-424a-96e7-a5007477fed6"
      },
      "source": [
        "students.info()"
      ],
      "execution_count": 66,
      "outputs": [
        {
          "output_type": "stream",
          "text": [
            "<class 'pandas.core.frame.DataFrame'>\n",
            "RangeIndex: 1000 entries, 0 to 999\n",
            "Data columns (total 8 columns):\n",
            " #   Column                       Non-Null Count  Dtype \n",
            "---  ------                       --------------  ----- \n",
            " 0   gender                       1000 non-null   object\n",
            " 1   race/ethnicity               1000 non-null   object\n",
            " 2   parental level of education  1000 non-null   object\n",
            " 3   lunch                        1000 non-null   object\n",
            " 4   test preparation course      1000 non-null   object\n",
            " 5   math score                   1000 non-null   int64 \n",
            " 6   reading score                1000 non-null   int64 \n",
            " 7   writing score                1000 non-null   int64 \n",
            "dtypes: int64(3), object(5)\n",
            "memory usage: 62.6+ KB\n"
          ],
          "name": "stdout"
        }
      ]
    },
    {
      "cell_type": "code",
      "metadata": {
        "colab": {
          "base_uri": "https://localhost:8080/"
        },
        "id": "CmxTOre_lgLn",
        "outputId": "e9495689-d52e-4043-d575-e57a229b9ec1"
      },
      "source": [
        "students[students['gender'] == \"male\"]['gender'].count()"
      ],
      "execution_count": 67,
      "outputs": [
        {
          "output_type": "execute_result",
          "data": {
            "text/plain": [
              "482"
            ]
          },
          "metadata": {
            "tags": []
          },
          "execution_count": 67
        }
      ]
    },
    {
      "cell_type": "code",
      "metadata": {
        "colab": {
          "base_uri": "https://localhost:8080/"
        },
        "id": "frfz5TIUmGLm",
        "outputId": "49b8ca30-af34-445d-d81a-9acf27a3f22e"
      },
      "source": [
        "students['math score'].sum()/students['math score'].count()"
      ],
      "execution_count": 68,
      "outputs": [
        {
          "output_type": "execute_result",
          "data": {
            "text/plain": [
              "66.089"
            ]
          },
          "metadata": {
            "tags": []
          },
          "execution_count": 68
        }
      ]
    },
    {
      "cell_type": "code",
      "metadata": {
        "colab": {
          "base_uri": "https://localhost:8080/"
        },
        "id": "pR_MPfwQm6j2",
        "outputId": "32519277-c50b-411d-9003-a4c0050665b7"
      },
      "source": [
        "students['race/ethnicity'].nunique()"
      ],
      "execution_count": 69,
      "outputs": [
        {
          "output_type": "execute_result",
          "data": {
            "text/plain": [
              "5"
            ]
          },
          "metadata": {
            "tags": []
          },
          "execution_count": 69
        }
      ]
    },
    {
      "cell_type": "code",
      "metadata": {
        "id": "-B9kcLEfnFYa"
      },
      "source": [
        "students_by_ethnicity = students.groupby('race/ethnicity')"
      ],
      "execution_count": 70,
      "outputs": []
    },
    {
      "cell_type": "code",
      "metadata": {
        "colab": {
          "base_uri": "https://localhost:8080/"
        },
        "id": "VIdRbfDunXyX",
        "outputId": "0a9afad4-4a7a-42e9-dc8d-e633d0f4f036"
      },
      "source": [
        "students_by_ethnicity"
      ],
      "execution_count": 71,
      "outputs": [
        {
          "output_type": "execute_result",
          "data": {
            "text/plain": [
              "<pandas.core.groupby.generic.DataFrameGroupBy object at 0x7f21b5ce7e10>"
            ]
          },
          "metadata": {
            "tags": []
          },
          "execution_count": 71
        }
      ]
    },
    {
      "cell_type": "code",
      "metadata": {
        "colab": {
          "base_uri": "https://localhost:8080/",
          "height": 235
        },
        "id": "Ver8foIbnZNZ",
        "outputId": "850fff7d-4827-451d-f711-be1683b973fd"
      },
      "source": [
        "students_by_ethnicity.mean()"
      ],
      "execution_count": 72,
      "outputs": [
        {
          "output_type": "execute_result",
          "data": {
            "text/html": [
              "<div>\n",
              "<style scoped>\n",
              "    .dataframe tbody tr th:only-of-type {\n",
              "        vertical-align: middle;\n",
              "    }\n",
              "\n",
              "    .dataframe tbody tr th {\n",
              "        vertical-align: top;\n",
              "    }\n",
              "\n",
              "    .dataframe thead th {\n",
              "        text-align: right;\n",
              "    }\n",
              "</style>\n",
              "<table border=\"1\" class=\"dataframe\">\n",
              "  <thead>\n",
              "    <tr style=\"text-align: right;\">\n",
              "      <th></th>\n",
              "      <th>math score</th>\n",
              "      <th>reading score</th>\n",
              "      <th>writing score</th>\n",
              "    </tr>\n",
              "    <tr>\n",
              "      <th>race/ethnicity</th>\n",
              "      <th></th>\n",
              "      <th></th>\n",
              "      <th></th>\n",
              "    </tr>\n",
              "  </thead>\n",
              "  <tbody>\n",
              "    <tr>\n",
              "      <th>group A</th>\n",
              "      <td>61.629213</td>\n",
              "      <td>64.674157</td>\n",
              "      <td>62.674157</td>\n",
              "    </tr>\n",
              "    <tr>\n",
              "      <th>group B</th>\n",
              "      <td>63.452632</td>\n",
              "      <td>67.352632</td>\n",
              "      <td>65.600000</td>\n",
              "    </tr>\n",
              "    <tr>\n",
              "      <th>group C</th>\n",
              "      <td>64.463950</td>\n",
              "      <td>69.103448</td>\n",
              "      <td>67.827586</td>\n",
              "    </tr>\n",
              "    <tr>\n",
              "      <th>group D</th>\n",
              "      <td>67.362595</td>\n",
              "      <td>70.030534</td>\n",
              "      <td>70.145038</td>\n",
              "    </tr>\n",
              "    <tr>\n",
              "      <th>group E</th>\n",
              "      <td>73.821429</td>\n",
              "      <td>73.028571</td>\n",
              "      <td>71.407143</td>\n",
              "    </tr>\n",
              "  </tbody>\n",
              "</table>\n",
              "</div>"
            ],
            "text/plain": [
              "                math score  reading score  writing score\n",
              "race/ethnicity                                          \n",
              "group A          61.629213      64.674157      62.674157\n",
              "group B          63.452632      67.352632      65.600000\n",
              "group C          64.463950      69.103448      67.827586\n",
              "group D          67.362595      70.030534      70.145038\n",
              "group E          73.821429      73.028571      71.407143"
            ]
          },
          "metadata": {
            "tags": []
          },
          "execution_count": 72
        }
      ]
    },
    {
      "cell_type": "code",
      "metadata": {
        "colab": {
          "base_uri": "https://localhost:8080/"
        },
        "id": "klur_BjOnhrv",
        "outputId": "5f79e917-1115-4c68-daac-cf92792566eb"
      },
      "source": [
        "students_by_ethnicity['lunch'].value_counts()"
      ],
      "execution_count": 73,
      "outputs": [
        {
          "output_type": "execute_result",
          "data": {
            "text/plain": [
              "race/ethnicity  lunch       \n",
              "group A         standard         53\n",
              "                free/reduced     36\n",
              "group B         standard        121\n",
              "                free/reduced     69\n",
              "group C         standard        205\n",
              "                free/reduced    114\n",
              "group D         standard        167\n",
              "                free/reduced     95\n",
              "group E         standard         99\n",
              "                free/reduced     41\n",
              "Name: lunch, dtype: int64"
            ]
          },
          "metadata": {
            "tags": []
          },
          "execution_count": 73
        }
      ]
    },
    {
      "cell_type": "code",
      "metadata": {
        "colab": {
          "base_uri": "https://localhost:8080/"
        },
        "id": "j_D_EL6JnvDv",
        "outputId": "87510e0a-6596-4e74-c6e6-806f8ae4811d"
      },
      "source": [
        "students['writing score'].min()"
      ],
      "execution_count": 74,
      "outputs": [
        {
          "output_type": "execute_result",
          "data": {
            "text/plain": [
              "10"
            ]
          },
          "metadata": {
            "tags": []
          },
          "execution_count": 74
        }
      ]
    },
    {
      "cell_type": "code",
      "metadata": {
        "colab": {
          "base_uri": "https://localhost:8080/"
        },
        "id": "Kw04e30MoWuO",
        "outputId": "d6ca490f-8f8a-4296-cbc1-07ef5bd28878"
      },
      "source": [
        "students['writing score'].max()"
      ],
      "execution_count": 75,
      "outputs": [
        {
          "output_type": "execute_result",
          "data": {
            "text/plain": [
              "100"
            ]
          },
          "metadata": {
            "tags": []
          },
          "execution_count": 75
        }
      ]
    },
    {
      "cell_type": "code",
      "metadata": {
        "colab": {
          "base_uri": "https://localhost:8080/"
        },
        "id": "YtFbpOXdoaA7",
        "outputId": "ef6b320a-6d3e-40c6-f05d-312b2f3d9019"
      },
      "source": [
        "# How many students who had standard lunches and were female and got more than a 60 in their reading scores?\n",
        "students[(students['gender'] == \"female\") & (students['lunch'] == \"standard\") & (students['reading score'] > 60)]['reading score'].count()"
      ],
      "execution_count": 76,
      "outputs": [
        {
          "output_type": "execute_result",
          "data": {
            "text/plain": [
              "292"
            ]
          },
          "metadata": {
            "tags": []
          },
          "execution_count": 76
        }
      ]
    },
    {
      "cell_type": "code",
      "metadata": {
        "colab": {
          "base_uri": "https://localhost:8080/"
        },
        "id": "VhiEUBhwo9LD",
        "outputId": "a4d89459-44e5-46a9-9a25-dc9457280b17"
      },
      "source": [
        "sals = pd.read_csv(\"https://raw.githubusercontent.com/uclaacmai/beginner-track-fall-2020/main/Workshop_6/Beginner%20Track%20-%20Salaries.csv\")"
      ],
      "execution_count": 77,
      "outputs": [
        {
          "output_type": "stream",
          "text": [
            "/usr/local/lib/python3.6/dist-packages/IPython/core/interactiveshell.py:2718: DtypeWarning: Columns (3,4,5,6,12) have mixed types.Specify dtype option on import or set low_memory=False.\n",
            "  interactivity=interactivity, compiler=compiler, result=result)\n"
          ],
          "name": "stderr"
        }
      ]
    },
    {
      "cell_type": "code",
      "metadata": {
        "colab": {
          "base_uri": "https://localhost:8080/",
          "height": 204
        },
        "id": "OHQCok4tpY4D",
        "outputId": "f81566f2-23ab-44b5-fb61-b483b905c173"
      },
      "source": [
        "sals.head()"
      ],
      "execution_count": 78,
      "outputs": [
        {
          "output_type": "execute_result",
          "data": {
            "text/html": [
              "<div>\n",
              "<style scoped>\n",
              "    .dataframe tbody tr th:only-of-type {\n",
              "        vertical-align: middle;\n",
              "    }\n",
              "\n",
              "    .dataframe tbody tr th {\n",
              "        vertical-align: top;\n",
              "    }\n",
              "\n",
              "    .dataframe thead th {\n",
              "        text-align: right;\n",
              "    }\n",
              "</style>\n",
              "<table border=\"1\" class=\"dataframe\">\n",
              "  <thead>\n",
              "    <tr style=\"text-align: right;\">\n",
              "      <th></th>\n",
              "      <th>Id</th>\n",
              "      <th>EmployeeName</th>\n",
              "      <th>JobTitle</th>\n",
              "      <th>BasePay</th>\n",
              "      <th>OvertimePay</th>\n",
              "      <th>OtherPay</th>\n",
              "      <th>Benefits</th>\n",
              "      <th>TotalPay</th>\n",
              "      <th>TotalPayBenefits</th>\n",
              "      <th>Year</th>\n",
              "      <th>Notes</th>\n",
              "      <th>Agency</th>\n",
              "      <th>Status</th>\n",
              "    </tr>\n",
              "  </thead>\n",
              "  <tbody>\n",
              "    <tr>\n",
              "      <th>0</th>\n",
              "      <td>1</td>\n",
              "      <td>NATHANIEL FORD</td>\n",
              "      <td>GENERAL MANAGER-METROPOLITAN TRANSIT AUTHORITY</td>\n",
              "      <td>167411</td>\n",
              "      <td>0</td>\n",
              "      <td>400184</td>\n",
              "      <td>NaN</td>\n",
              "      <td>567595.43</td>\n",
              "      <td>567595.43</td>\n",
              "      <td>2011</td>\n",
              "      <td>NaN</td>\n",
              "      <td>San Francisco</td>\n",
              "      <td>NaN</td>\n",
              "    </tr>\n",
              "    <tr>\n",
              "      <th>1</th>\n",
              "      <td>2</td>\n",
              "      <td>GARY JIMENEZ</td>\n",
              "      <td>CAPTAIN III (POLICE DEPARTMENT)</td>\n",
              "      <td>155966</td>\n",
              "      <td>245132</td>\n",
              "      <td>137811</td>\n",
              "      <td>NaN</td>\n",
              "      <td>538909.28</td>\n",
              "      <td>538909.28</td>\n",
              "      <td>2011</td>\n",
              "      <td>NaN</td>\n",
              "      <td>San Francisco</td>\n",
              "      <td>NaN</td>\n",
              "    </tr>\n",
              "    <tr>\n",
              "      <th>2</th>\n",
              "      <td>3</td>\n",
              "      <td>ALBERT PARDINI</td>\n",
              "      <td>CAPTAIN III (POLICE DEPARTMENT)</td>\n",
              "      <td>212739</td>\n",
              "      <td>106088</td>\n",
              "      <td>16452.6</td>\n",
              "      <td>NaN</td>\n",
              "      <td>335279.91</td>\n",
              "      <td>335279.91</td>\n",
              "      <td>2011</td>\n",
              "      <td>NaN</td>\n",
              "      <td>San Francisco</td>\n",
              "      <td>NaN</td>\n",
              "    </tr>\n",
              "    <tr>\n",
              "      <th>3</th>\n",
              "      <td>4</td>\n",
              "      <td>CHRISTOPHER CHONG</td>\n",
              "      <td>WIRE ROPE CABLE MAINTENANCE MECHANIC</td>\n",
              "      <td>77916</td>\n",
              "      <td>56120.7</td>\n",
              "      <td>198307</td>\n",
              "      <td>NaN</td>\n",
              "      <td>332343.61</td>\n",
              "      <td>332343.61</td>\n",
              "      <td>2011</td>\n",
              "      <td>NaN</td>\n",
              "      <td>San Francisco</td>\n",
              "      <td>NaN</td>\n",
              "    </tr>\n",
              "    <tr>\n",
              "      <th>4</th>\n",
              "      <td>5</td>\n",
              "      <td>PATRICK GARDNER</td>\n",
              "      <td>DEPUTY CHIEF OF DEPARTMENT,(FIRE DEPARTMENT)</td>\n",
              "      <td>134402</td>\n",
              "      <td>9737</td>\n",
              "      <td>182235</td>\n",
              "      <td>NaN</td>\n",
              "      <td>326373.19</td>\n",
              "      <td>326373.19</td>\n",
              "      <td>2011</td>\n",
              "      <td>NaN</td>\n",
              "      <td>San Francisco</td>\n",
              "      <td>NaN</td>\n",
              "    </tr>\n",
              "  </tbody>\n",
              "</table>\n",
              "</div>"
            ],
            "text/plain": [
              "   Id       EmployeeName  ...         Agency Status\n",
              "0   1     NATHANIEL FORD  ...  San Francisco    NaN\n",
              "1   2       GARY JIMENEZ  ...  San Francisco    NaN\n",
              "2   3     ALBERT PARDINI  ...  San Francisco    NaN\n",
              "3   4  CHRISTOPHER CHONG  ...  San Francisco    NaN\n",
              "4   5    PATRICK GARDNER  ...  San Francisco    NaN\n",
              "\n",
              "[5 rows x 13 columns]"
            ]
          },
          "metadata": {
            "tags": []
          },
          "execution_count": 78
        }
      ]
    },
    {
      "cell_type": "code",
      "metadata": {
        "colab": {
          "base_uri": "https://localhost:8080/"
        },
        "id": "m-8xZjInpaoW",
        "outputId": "65d533a5-4db4-4102-ff41-425fe74326e2"
      },
      "source": [
        "sals.info()"
      ],
      "execution_count": 79,
      "outputs": [
        {
          "output_type": "stream",
          "text": [
            "<class 'pandas.core.frame.DataFrame'>\n",
            "RangeIndex: 148654 entries, 0 to 148653\n",
            "Data columns (total 13 columns):\n",
            " #   Column            Non-Null Count   Dtype  \n",
            "---  ------            --------------   -----  \n",
            " 0   Id                148654 non-null  int64  \n",
            " 1   EmployeeName      148654 non-null  object \n",
            " 2   JobTitle          148654 non-null  object \n",
            " 3   BasePay           148049 non-null  object \n",
            " 4   OvertimePay       148654 non-null  object \n",
            " 5   OtherPay          148654 non-null  object \n",
            " 6   Benefits          112495 non-null  object \n",
            " 7   TotalPay          148654 non-null  float64\n",
            " 8   TotalPayBenefits  148654 non-null  float64\n",
            " 9   Year              148654 non-null  int64  \n",
            " 10  Notes             0 non-null       float64\n",
            " 11  Agency            148654 non-null  object \n",
            " 12  Status            38119 non-null   object \n",
            "dtypes: float64(3), int64(2), object(8)\n",
            "memory usage: 14.7+ MB\n"
          ],
          "name": "stdout"
        }
      ]
    },
    {
      "cell_type": "code",
      "metadata": {
        "id": "hRnrIZJVpdyE"
      },
      "source": [
        "sals.drop(\"Notes\", axis=1, inplace=True)"
      ],
      "execution_count": 80,
      "outputs": []
    },
    {
      "cell_type": "code",
      "metadata": {
        "colab": {
          "base_uri": "https://localhost:8080/",
          "height": 419
        },
        "id": "zf61pg1Xpq2b",
        "outputId": "2868f884-470a-4a18-b8af-3fd886c7ff77"
      },
      "source": [
        "sals"
      ],
      "execution_count": 81,
      "outputs": [
        {
          "output_type": "execute_result",
          "data": {
            "text/html": [
              "<div>\n",
              "<style scoped>\n",
              "    .dataframe tbody tr th:only-of-type {\n",
              "        vertical-align: middle;\n",
              "    }\n",
              "\n",
              "    .dataframe tbody tr th {\n",
              "        vertical-align: top;\n",
              "    }\n",
              "\n",
              "    .dataframe thead th {\n",
              "        text-align: right;\n",
              "    }\n",
              "</style>\n",
              "<table border=\"1\" class=\"dataframe\">\n",
              "  <thead>\n",
              "    <tr style=\"text-align: right;\">\n",
              "      <th></th>\n",
              "      <th>Id</th>\n",
              "      <th>EmployeeName</th>\n",
              "      <th>JobTitle</th>\n",
              "      <th>BasePay</th>\n",
              "      <th>OvertimePay</th>\n",
              "      <th>OtherPay</th>\n",
              "      <th>Benefits</th>\n",
              "      <th>TotalPay</th>\n",
              "      <th>TotalPayBenefits</th>\n",
              "      <th>Year</th>\n",
              "      <th>Agency</th>\n",
              "      <th>Status</th>\n",
              "    </tr>\n",
              "  </thead>\n",
              "  <tbody>\n",
              "    <tr>\n",
              "      <th>0</th>\n",
              "      <td>1</td>\n",
              "      <td>NATHANIEL FORD</td>\n",
              "      <td>GENERAL MANAGER-METROPOLITAN TRANSIT AUTHORITY</td>\n",
              "      <td>167411</td>\n",
              "      <td>0</td>\n",
              "      <td>400184</td>\n",
              "      <td>NaN</td>\n",
              "      <td>567595.43</td>\n",
              "      <td>567595.43</td>\n",
              "      <td>2011</td>\n",
              "      <td>San Francisco</td>\n",
              "      <td>NaN</td>\n",
              "    </tr>\n",
              "    <tr>\n",
              "      <th>1</th>\n",
              "      <td>2</td>\n",
              "      <td>GARY JIMENEZ</td>\n",
              "      <td>CAPTAIN III (POLICE DEPARTMENT)</td>\n",
              "      <td>155966</td>\n",
              "      <td>245132</td>\n",
              "      <td>137811</td>\n",
              "      <td>NaN</td>\n",
              "      <td>538909.28</td>\n",
              "      <td>538909.28</td>\n",
              "      <td>2011</td>\n",
              "      <td>San Francisco</td>\n",
              "      <td>NaN</td>\n",
              "    </tr>\n",
              "    <tr>\n",
              "      <th>2</th>\n",
              "      <td>3</td>\n",
              "      <td>ALBERT PARDINI</td>\n",
              "      <td>CAPTAIN III (POLICE DEPARTMENT)</td>\n",
              "      <td>212739</td>\n",
              "      <td>106088</td>\n",
              "      <td>16452.6</td>\n",
              "      <td>NaN</td>\n",
              "      <td>335279.91</td>\n",
              "      <td>335279.91</td>\n",
              "      <td>2011</td>\n",
              "      <td>San Francisco</td>\n",
              "      <td>NaN</td>\n",
              "    </tr>\n",
              "    <tr>\n",
              "      <th>3</th>\n",
              "      <td>4</td>\n",
              "      <td>CHRISTOPHER CHONG</td>\n",
              "      <td>WIRE ROPE CABLE MAINTENANCE MECHANIC</td>\n",
              "      <td>77916</td>\n",
              "      <td>56120.7</td>\n",
              "      <td>198307</td>\n",
              "      <td>NaN</td>\n",
              "      <td>332343.61</td>\n",
              "      <td>332343.61</td>\n",
              "      <td>2011</td>\n",
              "      <td>San Francisco</td>\n",
              "      <td>NaN</td>\n",
              "    </tr>\n",
              "    <tr>\n",
              "      <th>4</th>\n",
              "      <td>5</td>\n",
              "      <td>PATRICK GARDNER</td>\n",
              "      <td>DEPUTY CHIEF OF DEPARTMENT,(FIRE DEPARTMENT)</td>\n",
              "      <td>134402</td>\n",
              "      <td>9737</td>\n",
              "      <td>182235</td>\n",
              "      <td>NaN</td>\n",
              "      <td>326373.19</td>\n",
              "      <td>326373.19</td>\n",
              "      <td>2011</td>\n",
              "      <td>San Francisco</td>\n",
              "      <td>NaN</td>\n",
              "    </tr>\n",
              "    <tr>\n",
              "      <th>...</th>\n",
              "      <td>...</td>\n",
              "      <td>...</td>\n",
              "      <td>...</td>\n",
              "      <td>...</td>\n",
              "      <td>...</td>\n",
              "      <td>...</td>\n",
              "      <td>...</td>\n",
              "      <td>...</td>\n",
              "      <td>...</td>\n",
              "      <td>...</td>\n",
              "      <td>...</td>\n",
              "      <td>...</td>\n",
              "    </tr>\n",
              "    <tr>\n",
              "      <th>148649</th>\n",
              "      <td>148650</td>\n",
              "      <td>Roy I Tillery</td>\n",
              "      <td>Custodian</td>\n",
              "      <td>0.00</td>\n",
              "      <td>0.00</td>\n",
              "      <td>0.00</td>\n",
              "      <td>0.00</td>\n",
              "      <td>0.00</td>\n",
              "      <td>0.00</td>\n",
              "      <td>2014</td>\n",
              "      <td>San Francisco</td>\n",
              "      <td>PT</td>\n",
              "    </tr>\n",
              "    <tr>\n",
              "      <th>148650</th>\n",
              "      <td>148651</td>\n",
              "      <td>Not provided</td>\n",
              "      <td>Not provided</td>\n",
              "      <td>Not Provided</td>\n",
              "      <td>Not Provided</td>\n",
              "      <td>Not Provided</td>\n",
              "      <td>Not Provided</td>\n",
              "      <td>0.00</td>\n",
              "      <td>0.00</td>\n",
              "      <td>2014</td>\n",
              "      <td>San Francisco</td>\n",
              "      <td>NaN</td>\n",
              "    </tr>\n",
              "    <tr>\n",
              "      <th>148651</th>\n",
              "      <td>148652</td>\n",
              "      <td>Not provided</td>\n",
              "      <td>Not provided</td>\n",
              "      <td>Not Provided</td>\n",
              "      <td>Not Provided</td>\n",
              "      <td>Not Provided</td>\n",
              "      <td>Not Provided</td>\n",
              "      <td>0.00</td>\n",
              "      <td>0.00</td>\n",
              "      <td>2014</td>\n",
              "      <td>San Francisco</td>\n",
              "      <td>NaN</td>\n",
              "    </tr>\n",
              "    <tr>\n",
              "      <th>148652</th>\n",
              "      <td>148653</td>\n",
              "      <td>Not provided</td>\n",
              "      <td>Not provided</td>\n",
              "      <td>Not Provided</td>\n",
              "      <td>Not Provided</td>\n",
              "      <td>Not Provided</td>\n",
              "      <td>Not Provided</td>\n",
              "      <td>0.00</td>\n",
              "      <td>0.00</td>\n",
              "      <td>2014</td>\n",
              "      <td>San Francisco</td>\n",
              "      <td>NaN</td>\n",
              "    </tr>\n",
              "    <tr>\n",
              "      <th>148653</th>\n",
              "      <td>148654</td>\n",
              "      <td>Joe Lopez</td>\n",
              "      <td>Counselor, Log Cabin Ranch</td>\n",
              "      <td>0.00</td>\n",
              "      <td>0.00</td>\n",
              "      <td>-618.13</td>\n",
              "      <td>0.00</td>\n",
              "      <td>-618.13</td>\n",
              "      <td>-618.13</td>\n",
              "      <td>2014</td>\n",
              "      <td>San Francisco</td>\n",
              "      <td>PT</td>\n",
              "    </tr>\n",
              "  </tbody>\n",
              "</table>\n",
              "<p>148654 rows × 12 columns</p>\n",
              "</div>"
            ],
            "text/plain": [
              "            Id       EmployeeName  ...         Agency Status\n",
              "0            1     NATHANIEL FORD  ...  San Francisco    NaN\n",
              "1            2       GARY JIMENEZ  ...  San Francisco    NaN\n",
              "2            3     ALBERT PARDINI  ...  San Francisco    NaN\n",
              "3            4  CHRISTOPHER CHONG  ...  San Francisco    NaN\n",
              "4            5    PATRICK GARDNER  ...  San Francisco    NaN\n",
              "...        ...                ...  ...            ...    ...\n",
              "148649  148650      Roy I Tillery  ...  San Francisco     PT\n",
              "148650  148651       Not provided  ...  San Francisco    NaN\n",
              "148651  148652       Not provided  ...  San Francisco    NaN\n",
              "148652  148653       Not provided  ...  San Francisco    NaN\n",
              "148653  148654          Joe Lopez  ...  San Francisco     PT\n",
              "\n",
              "[148654 rows x 12 columns]"
            ]
          },
          "metadata": {
            "tags": []
          },
          "execution_count": 81
        }
      ]
    },
    {
      "cell_type": "code",
      "metadata": {
        "colab": {
          "base_uri": "https://localhost:8080/",
          "height": 80
        },
        "id": "8ku71zXKprt2",
        "outputId": "840cb3a0-f008-49ed-87f0-2bd3367290f2"
      },
      "source": [
        "# Who is the highest paid?\n",
        "sals[sals['TotalPayBenefits'] == sals['TotalPayBenefits'].max()]"
      ],
      "execution_count": 82,
      "outputs": [
        {
          "output_type": "execute_result",
          "data": {
            "text/html": [
              "<div>\n",
              "<style scoped>\n",
              "    .dataframe tbody tr th:only-of-type {\n",
              "        vertical-align: middle;\n",
              "    }\n",
              "\n",
              "    .dataframe tbody tr th {\n",
              "        vertical-align: top;\n",
              "    }\n",
              "\n",
              "    .dataframe thead th {\n",
              "        text-align: right;\n",
              "    }\n",
              "</style>\n",
              "<table border=\"1\" class=\"dataframe\">\n",
              "  <thead>\n",
              "    <tr style=\"text-align: right;\">\n",
              "      <th></th>\n",
              "      <th>Id</th>\n",
              "      <th>EmployeeName</th>\n",
              "      <th>JobTitle</th>\n",
              "      <th>BasePay</th>\n",
              "      <th>OvertimePay</th>\n",
              "      <th>OtherPay</th>\n",
              "      <th>Benefits</th>\n",
              "      <th>TotalPay</th>\n",
              "      <th>TotalPayBenefits</th>\n",
              "      <th>Year</th>\n",
              "      <th>Agency</th>\n",
              "      <th>Status</th>\n",
              "    </tr>\n",
              "  </thead>\n",
              "  <tbody>\n",
              "    <tr>\n",
              "      <th>0</th>\n",
              "      <td>1</td>\n",
              "      <td>NATHANIEL FORD</td>\n",
              "      <td>GENERAL MANAGER-METROPOLITAN TRANSIT AUTHORITY</td>\n",
              "      <td>167411</td>\n",
              "      <td>0</td>\n",
              "      <td>400184</td>\n",
              "      <td>NaN</td>\n",
              "      <td>567595.43</td>\n",
              "      <td>567595.43</td>\n",
              "      <td>2011</td>\n",
              "      <td>San Francisco</td>\n",
              "      <td>NaN</td>\n",
              "    </tr>\n",
              "  </tbody>\n",
              "</table>\n",
              "</div>"
            ],
            "text/plain": [
              "   Id    EmployeeName  ...         Agency Status\n",
              "0   1  NATHANIEL FORD  ...  San Francisco    NaN\n",
              "\n",
              "[1 rows x 12 columns]"
            ]
          },
          "metadata": {
            "tags": []
          },
          "execution_count": 82
        }
      ]
    },
    {
      "cell_type": "code",
      "metadata": {
        "colab": {
          "base_uri": "https://localhost:8080/"
        },
        "id": "3ysyN2mHp6ID",
        "outputId": "324b13a7-c853-4f61-b84f-35bb2b0b0ef4"
      },
      "source": [
        "# What are the 5 most common jobs?\n",
        "sals['JobTitle'].value_counts()[0:10]"
      ],
      "execution_count": 83,
      "outputs": [
        {
          "output_type": "execute_result",
          "data": {
            "text/plain": [
              "Transit Operator                7036\n",
              "Special Nurse                   4389\n",
              "Registered Nurse                3736\n",
              "Public Svc Aide-Public Works    2518\n",
              "Police Officer 3                2421\n",
              "Custodian                       2418\n",
              "TRANSIT OPERATOR                2388\n",
              "Firefighter                     2359\n",
              "Recreation Leader               1971\n",
              "Patient Care Assistant          1945\n",
              "Name: JobTitle, dtype: int64"
            ]
          },
          "metadata": {
            "tags": []
          },
          "execution_count": 83
        }
      ]
    },
    {
      "cell_type": "code",
      "metadata": {
        "colab": {
          "base_uri": "https://localhost:8080/"
        },
        "id": "moSIK0zuqMF9",
        "outputId": "9679c693-8050-497b-fd4e-321d11f2e621"
      },
      "source": [
        "# How many people have the words \"Captain\" in their title?\n",
        "def find_cap(title):\n",
        "  return \"Captain\" in title\n",
        "\n",
        "sals['JobTitle'].apply(find_cap).sum()"
      ],
      "execution_count": 84,
      "outputs": [
        {
          "output_type": "execute_result",
          "data": {
            "text/plain": [
              "411"
            ]
          },
          "metadata": {
            "tags": []
          },
          "execution_count": 84
        }
      ]
    },
    {
      "cell_type": "code",
      "metadata": {
        "colab": {
          "base_uri": "https://localhost:8080/"
        },
        "id": "_jpc0ac0qzPw",
        "outputId": "ab6768c7-9a18-4355-d71d-3077ca06a9bd"
      },
      "source": [
        " sals['JobTitle'].apply(lambda title: \"Captain\" in title).sum()"
      ],
      "execution_count": 85,
      "outputs": [
        {
          "output_type": "execute_result",
          "data": {
            "text/plain": [
              "411"
            ]
          },
          "metadata": {
            "tags": []
          },
          "execution_count": 85
        }
      ]
    }
  ]
}